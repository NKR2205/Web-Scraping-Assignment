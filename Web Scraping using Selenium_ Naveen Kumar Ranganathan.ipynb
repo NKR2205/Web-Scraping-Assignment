{
 "cells": [
  {
   "cell_type": "markdown",
   "id": "75bfde2b",
   "metadata": {},
   "source": [
    "# Web Scraping using Selenium_ Naveen Kumar Ranganathan"
   ]
  },
  {
   "cell_type": "code",
   "execution_count": 3,
   "id": "8f317d72",
   "metadata": {},
   "outputs": [
    {
     "name": "stdout",
     "output_type": "stream",
     "text": [
      "Defaulting to user installation because normal site-packages is not writeable\n",
      "Requirement already satisfied: selenium in c:\\users\\navee\\appdata\\roaming\\python\\python39\\site-packages (4.7.2)\n",
      "Requirement already satisfied: urllib3[socks]~=1.26 in c:\\programdata\\anaconda3\\lib\\site-packages (from selenium) (1.26.9)\n",
      "Requirement already satisfied: certifi>=2021.10.8 in c:\\programdata\\anaconda3\\lib\\site-packages (from selenium) (2021.10.8)\n",
      "Requirement already satisfied: trio~=0.17 in c:\\users\\navee\\appdata\\roaming\\python\\python39\\site-packages (from selenium) (0.22.0)\n",
      "Requirement already satisfied: trio-websocket~=0.9 in c:\\users\\navee\\appdata\\roaming\\python\\python39\\site-packages (from selenium) (0.9.2)\n",
      "Requirement already satisfied: attrs>=19.2.0 in c:\\programdata\\anaconda3\\lib\\site-packages (from trio~=0.17->selenium) (21.4.0)\n",
      "Requirement already satisfied: async-generator>=1.9 in c:\\users\\navee\\appdata\\roaming\\python\\python39\\site-packages (from trio~=0.17->selenium) (1.10)\n",
      "Requirement already satisfied: sortedcontainers in c:\\programdata\\anaconda3\\lib\\site-packages (from trio~=0.17->selenium) (2.4.0)\n",
      "Requirement already satisfied: cffi>=1.14 in c:\\programdata\\anaconda3\\lib\\site-packages (from trio~=0.17->selenium) (1.15.0)\n",
      "Requirement already satisfied: exceptiongroup>=1.0.0rc9 in c:\\users\\navee\\appdata\\roaming\\python\\python39\\site-packages (from trio~=0.17->selenium) (1.0.4)\n",
      "Requirement already satisfied: idna in c:\\programdata\\anaconda3\\lib\\site-packages (from trio~=0.17->selenium) (3.3)\n",
      "Requirement already satisfied: sniffio in c:\\programdata\\anaconda3\\lib\\site-packages (from trio~=0.17->selenium) (1.2.0)\n",
      "Requirement already satisfied: outcome in c:\\users\\navee\\appdata\\roaming\\python\\python39\\site-packages (from trio~=0.17->selenium) (1.2.0)\n",
      "Requirement already satisfied: pycparser in c:\\programdata\\anaconda3\\lib\\site-packages (from cffi>=1.14->trio~=0.17->selenium) (2.21)\n",
      "Requirement already satisfied: wsproto>=0.14 in c:\\users\\navee\\appdata\\roaming\\python\\python39\\site-packages (from trio-websocket~=0.9->selenium) (1.2.0)\n",
      "Requirement already satisfied: PySocks!=1.5.7,<2.0,>=1.5.6 in c:\\programdata\\anaconda3\\lib\\site-packages (from urllib3[socks]~=1.26->selenium) (1.7.1)\n",
      "Requirement already satisfied: h11<1,>=0.9.0 in c:\\users\\navee\\appdata\\roaming\\python\\python39\\site-packages (from wsproto>=0.14->trio-websocket~=0.9->selenium) (0.14.0)\n"
     ]
    }
   ],
   "source": [
    "!pip install selenium"
   ]
  },
  {
   "cell_type": "code",
   "execution_count": 165,
   "id": "6e522ed7",
   "metadata": {},
   "outputs": [],
   "source": [
    "import selenium\n",
    "import pandas as pd\n",
    "from selenium import webdriver\n",
    "import warnings\n",
    "warnings.filterwarnings('ignore')\n",
    "from selenium.common.exceptions import StaleElementReferenceException, NoSuchElementException\n",
    "from selenium.webdriver.common.by import  By\n",
    "import time"
   ]
  },
  {
   "cell_type": "code",
   "execution_count": 6,
   "id": "b891d94f",
   "metadata": {},
   "outputs": [],
   "source": [
    "# Connecting to the driver\n",
    "driver = webdriver.Chrome(r\"C:\\Users\\navee\\Downloads\\chromedriver_win32\\chromedriver.exe\")"
   ]
  },
  {
   "cell_type": "markdown",
   "id": "24ebcbcc",
   "metadata": {},
   "source": [
    "# Q1 . Python program to scrape data for “Data Analyst” Job position in “Bangalore” location"
   ]
  },
  {
   "cell_type": "code",
   "execution_count": 9,
   "id": "5c768077",
   "metadata": {},
   "outputs": [],
   "source": [
    "# Opening Naukri Page"
   ]
  },
  {
   "cell_type": "code",
   "execution_count": 31,
   "id": "6bed09f9",
   "metadata": {},
   "outputs": [],
   "source": [
    "driver.get(\"https://www.naukri.com/\")"
   ]
  },
  {
   "cell_type": "code",
   "execution_count": 32,
   "id": "87d314fe",
   "metadata": {},
   "outputs": [],
   "source": [
    "# Entering Designation and Location\n",
    "designation = driver.find_element(By.CLASS_NAME,\"suggestor-input\")\n",
    "designation.send_keys('Data Analyst')"
   ]
  },
  {
   "cell_type": "code",
   "execution_count": 33,
   "id": "d671c0ea",
   "metadata": {},
   "outputs": [],
   "source": [
    "location = driver.find_element(By.XPATH,\"/html/body/div[1]/div[6]/div/div/div[5]/div/div/div/input\")\n",
    "location.send_keys('Bangalore')"
   ]
  },
  {
   "cell_type": "code",
   "execution_count": 34,
   "id": "b03920da",
   "metadata": {},
   "outputs": [],
   "source": [
    "search = driver.find_element(By.CLASS_NAME,\"qsbSubmit\")\n",
    "search.click()"
   ]
  },
  {
   "cell_type": "code",
   "execution_count": 54,
   "id": "0f20acb1",
   "metadata": {},
   "outputs": [],
   "source": [
    "job_title = []\n",
    "job_location = []\n",
    "company_name = []\n",
    "experience_required = []"
   ]
  },
  {
   "cell_type": "code",
   "execution_count": 55,
   "id": "83d606d7",
   "metadata": {},
   "outputs": [],
   "source": [
    "# scraping job title\n",
    "\n",
    "title_tags = driver.find_elements(By.XPATH,'//a[@class=\"title fw500 ellipsis\"]')\n",
    "for i in title_tags[0:10]:\n",
    "    title = i.text\n",
    "    job_title.append(title)"
   ]
  },
  {
   "cell_type": "code",
   "execution_count": 56,
   "id": "503dc349",
   "metadata": {},
   "outputs": [],
   "source": [
    "# scraping job location\n",
    "\n",
    "location_tags = driver.find_elements(By.XPATH,'//li[@class=\"fleft grey-text br2 placeHolderLi location\"]')\n",
    "for i in location_tags[0:10]:\n",
    "    location = i.text\n",
    "    job_location.append(location)"
   ]
  },
  {
   "cell_type": "code",
   "execution_count": 57,
   "id": "d484cf98",
   "metadata": {},
   "outputs": [],
   "source": [
    "# scraping job company name\n",
    "\n",
    "company_tags = driver.find_elements(By.XPATH,'//a[@class=\"subTitle ellipsis fleft\"]')\n",
    "for i in company_tags[0:10]:\n",
    "    company = i.text\n",
    "    company_name.append(company)"
   ]
  },
  {
   "cell_type": "code",
   "execution_count": 58,
   "id": "6955dc97",
   "metadata": {},
   "outputs": [],
   "source": [
    "# scraping job experience required\n",
    "\n",
    "experience_tags = driver.find_elements(By.XPATH,'//li[@class=\"fleft grey-text br2 placeHolderLi experience\"]')\n",
    "for i in experience_tags[0:10]:\n",
    "    experience = i.text\n",
    "    experience_required.append(experience)"
   ]
  },
  {
   "cell_type": "code",
   "execution_count": 59,
   "id": "c820bc94",
   "metadata": {},
   "outputs": [
    {
     "name": "stdout",
     "output_type": "stream",
     "text": [
      "10 10 10 10\n"
     ]
    }
   ],
   "source": [
    "print(len(job_title),len(job_location),len(company_name),len(experience_required))"
   ]
  },
  {
   "cell_type": "code",
   "execution_count": 60,
   "id": "8a72c6a2",
   "metadata": {},
   "outputs": [
    {
     "data": {
      "text/html": [
       "<div>\n",
       "<style scoped>\n",
       "    .dataframe tbody tr th:only-of-type {\n",
       "        vertical-align: middle;\n",
       "    }\n",
       "\n",
       "    .dataframe tbody tr th {\n",
       "        vertical-align: top;\n",
       "    }\n",
       "\n",
       "    .dataframe thead th {\n",
       "        text-align: right;\n",
       "    }\n",
       "</style>\n",
       "<table border=\"1\" class=\"dataframe\">\n",
       "  <thead>\n",
       "    <tr style=\"text-align: right;\">\n",
       "      <th></th>\n",
       "      <th>Job_Title</th>\n",
       "      <th>Job_Location</th>\n",
       "      <th>Company_Name</th>\n",
       "      <th>Experience_Required</th>\n",
       "    </tr>\n",
       "  </thead>\n",
       "  <tbody>\n",
       "    <tr>\n",
       "      <th>0</th>\n",
       "      <td>Data Analyst</td>\n",
       "      <td>Bangalore/Bengaluru</td>\n",
       "      <td>Shell Pvt Ltd</td>\n",
       "      <td>2-5 Yrs</td>\n",
       "    </tr>\n",
       "    <tr>\n",
       "      <th>1</th>\n",
       "      <td>Data Analyst</td>\n",
       "      <td>Bangalore/Bengaluru</td>\n",
       "      <td>Shell Pvt Ltd</td>\n",
       "      <td>3-5 Yrs</td>\n",
       "    </tr>\n",
       "    <tr>\n",
       "      <th>2</th>\n",
       "      <td>Data Analyst</td>\n",
       "      <td>Bangalore/Bengaluru</td>\n",
       "      <td>Shell Pvt Ltd</td>\n",
       "      <td>2-5 Yrs</td>\n",
       "    </tr>\n",
       "    <tr>\n",
       "      <th>3</th>\n",
       "      <td>Sr. Data Analyst</td>\n",
       "      <td>Bangalore/Bengaluru</td>\n",
       "      <td>MM STAFFING CAREER CONSULTANTS PRIVATE LIMITED</td>\n",
       "      <td>5-8 Yrs</td>\n",
       "    </tr>\n",
       "    <tr>\n",
       "      <th>4</th>\n",
       "      <td>Senior Data Analyst II</td>\n",
       "      <td>Bangalore/Bengaluru</td>\n",
       "      <td>Flipkart</td>\n",
       "      <td>2-4 Yrs</td>\n",
       "    </tr>\n",
       "    <tr>\n",
       "      <th>5</th>\n",
       "      <td>Senior Data Management Analyst</td>\n",
       "      <td>Bangalore/Bengaluru</td>\n",
       "      <td>Wells Fargo</td>\n",
       "      <td>1-12 Yrs</td>\n",
       "    </tr>\n",
       "    <tr>\n",
       "      <th>6</th>\n",
       "      <td>Data Analyst</td>\n",
       "      <td>Bangalore/Bengaluru</td>\n",
       "      <td>MM STAFFING CAREER CONSULTANTS PRIVATE LIMITED</td>\n",
       "      <td>5-7 Yrs</td>\n",
       "    </tr>\n",
       "    <tr>\n",
       "      <th>7</th>\n",
       "      <td>Sr Data Analyst - Tableau</td>\n",
       "      <td>Bangalore/Bengaluru</td>\n",
       "      <td>S.A.W IT Services Pvt Ltd</td>\n",
       "      <td>2-5 Yrs</td>\n",
       "    </tr>\n",
       "    <tr>\n",
       "      <th>8</th>\n",
       "      <td>Project Data Analyst</td>\n",
       "      <td>Bangalore/Bengaluru</td>\n",
       "      <td>WSP</td>\n",
       "      <td>0-4 Yrs</td>\n",
       "    </tr>\n",
       "    <tr>\n",
       "      <th>9</th>\n",
       "      <td>Data Analyst, Business Analyst</td>\n",
       "      <td>Bangalore/Bengaluru(HSR Layout +1)</td>\n",
       "      <td>Clinilaunch Research Institute Llp</td>\n",
       "      <td>0-5 Yrs</td>\n",
       "    </tr>\n",
       "  </tbody>\n",
       "</table>\n",
       "</div>"
      ],
      "text/plain": [
       "                        Job_Title                        Job_Location  \\\n",
       "0                    Data Analyst                 Bangalore/Bengaluru   \n",
       "1                    Data Analyst                 Bangalore/Bengaluru   \n",
       "2                    Data Analyst                 Bangalore/Bengaluru   \n",
       "3                Sr. Data Analyst                 Bangalore/Bengaluru   \n",
       "4          Senior Data Analyst II                 Bangalore/Bengaluru   \n",
       "5  Senior Data Management Analyst                 Bangalore/Bengaluru   \n",
       "6                    Data Analyst                 Bangalore/Bengaluru   \n",
       "7       Sr Data Analyst - Tableau                 Bangalore/Bengaluru   \n",
       "8            Project Data Analyst                 Bangalore/Bengaluru   \n",
       "9  Data Analyst, Business Analyst  Bangalore/Bengaluru(HSR Layout +1)   \n",
       "\n",
       "                                     Company_Name Experience_Required  \n",
       "0                                   Shell Pvt Ltd             2-5 Yrs  \n",
       "1                                   Shell Pvt Ltd             3-5 Yrs  \n",
       "2                                   Shell Pvt Ltd             2-5 Yrs  \n",
       "3  MM STAFFING CAREER CONSULTANTS PRIVATE LIMITED             5-8 Yrs  \n",
       "4                                        Flipkart             2-4 Yrs  \n",
       "5                                     Wells Fargo            1-12 Yrs  \n",
       "6  MM STAFFING CAREER CONSULTANTS PRIVATE LIMITED             5-7 Yrs  \n",
       "7                       S.A.W IT Services Pvt Ltd             2-5 Yrs  \n",
       "8                                             WSP             0-4 Yrs  \n",
       "9              Clinilaunch Research Institute Llp             0-5 Yrs  "
      ]
     },
     "execution_count": 60,
     "metadata": {},
     "output_type": "execute_result"
    }
   ],
   "source": [
    "# Creating dataframe \n",
    "\n",
    "df = pd.DataFrame({\"Job_Title\":job_title,\"Job_Location\":job_location,\"Company_Name\":company_name,\"Experience_Required\":experience_required})\n",
    "df"
   ]
  },
  {
   "cell_type": "code",
   "execution_count": null,
   "id": "c4e0a231",
   "metadata": {},
   "outputs": [],
   "source": []
  },
  {
   "cell_type": "markdown",
   "id": "d43cc0fd",
   "metadata": {},
   "source": [
    "# Q2 . Python program to scrape data for “Data Scientist” Job position in “Bangalore” location"
   ]
  },
  {
   "cell_type": "code",
   "execution_count": 5,
   "id": "d18a3c84",
   "metadata": {},
   "outputs": [],
   "source": [
    "# Opening Naukri Page\n",
    "driver.get(\"https://www.naukri.com/\")"
   ]
  },
  {
   "cell_type": "code",
   "execution_count": 10,
   "id": "30533749",
   "metadata": {},
   "outputs": [],
   "source": [
    "# Entering Designation and Location\n",
    "designation = driver.find_element(By.CLASS_NAME,\"suggestor-input\")\n",
    "designation.send_keys('Data Scientist')"
   ]
  },
  {
   "cell_type": "code",
   "execution_count": 11,
   "id": "6aa13a29",
   "metadata": {},
   "outputs": [],
   "source": [
    "location = driver.find_element(By.XPATH,\"/html/body/div[1]/div[6]/div/div/div[5]/div/div/div/input\")\n",
    "location.send_keys('Bangalore')"
   ]
  },
  {
   "cell_type": "code",
   "execution_count": 12,
   "id": "45b12e26",
   "metadata": {},
   "outputs": [],
   "source": [
    "search = driver.find_element(By.CLASS_NAME,\"qsbSubmit\")\n",
    "search.click()"
   ]
  },
  {
   "cell_type": "code",
   "execution_count": 14,
   "id": "885b5a52",
   "metadata": {},
   "outputs": [],
   "source": [
    "job_title1 = []\n",
    "job_location1 = []\n",
    "company_name1 = []"
   ]
  },
  {
   "cell_type": "code",
   "execution_count": 15,
   "id": "2b201890",
   "metadata": {},
   "outputs": [],
   "source": [
    "# scraping job title\n",
    "\n",
    "title_tags = driver.find_elements(By.XPATH,'//a[@class=\"title fw500 ellipsis\"]')\n",
    "for i in title_tags[0:10]:\n",
    "    title = i.text\n",
    "    job_title1.append(title)"
   ]
  },
  {
   "cell_type": "code",
   "execution_count": 16,
   "id": "30146f0d",
   "metadata": {},
   "outputs": [],
   "source": [
    "# scraping job location\n",
    "\n",
    "location_tags = driver.find_elements(By.XPATH,'//li[@class=\"fleft grey-text br2 placeHolderLi location\"]')\n",
    "for i in location_tags[0:10]:\n",
    "    location = i.text\n",
    "    job_location1.append(location)"
   ]
  },
  {
   "cell_type": "code",
   "execution_count": 17,
   "id": "e27b551e",
   "metadata": {},
   "outputs": [],
   "source": [
    "# scraping job company name\n",
    "\n",
    "company_tags = driver.find_elements(By.XPATH,'//a[@class=\"subTitle ellipsis fleft\"]')\n",
    "for i in company_tags[0:10]:\n",
    "    company = i.text\n",
    "    company_name1.append(company)"
   ]
  },
  {
   "cell_type": "code",
   "execution_count": 18,
   "id": "4158af6c",
   "metadata": {},
   "outputs": [
    {
     "name": "stdout",
     "output_type": "stream",
     "text": [
      "10 10 10\n"
     ]
    }
   ],
   "source": [
    "print(len(job_title1),len(job_location1),len(company_name1))"
   ]
  },
  {
   "cell_type": "code",
   "execution_count": 19,
   "id": "14cfeb5e",
   "metadata": {},
   "outputs": [
    {
     "data": {
      "text/html": [
       "<div>\n",
       "<style scoped>\n",
       "    .dataframe tbody tr th:only-of-type {\n",
       "        vertical-align: middle;\n",
       "    }\n",
       "\n",
       "    .dataframe tbody tr th {\n",
       "        vertical-align: top;\n",
       "    }\n",
       "\n",
       "    .dataframe thead th {\n",
       "        text-align: right;\n",
       "    }\n",
       "</style>\n",
       "<table border=\"1\" class=\"dataframe\">\n",
       "  <thead>\n",
       "    <tr style=\"text-align: right;\">\n",
       "      <th></th>\n",
       "      <th>Job_Title</th>\n",
       "      <th>Job_Location</th>\n",
       "      <th>Company_Name</th>\n",
       "    </tr>\n",
       "  </thead>\n",
       "  <tbody>\n",
       "    <tr>\n",
       "      <th>0</th>\n",
       "      <td>Analystics &amp; Modeling Specialist</td>\n",
       "      <td>Bangalore/Bengaluru, Kolkata, Mumbai, Hyderaba...</td>\n",
       "      <td>Accenture</td>\n",
       "    </tr>\n",
       "    <tr>\n",
       "      <th>1</th>\n",
       "      <td>Data Scientist</td>\n",
       "      <td>Bangalore/Bengaluru, New Delhi, Hyderabad/Secu...</td>\n",
       "      <td>Tata Nexarc</td>\n",
       "    </tr>\n",
       "    <tr>\n",
       "      <th>2</th>\n",
       "      <td>Data Scientist</td>\n",
       "      <td>Bangalore/Bengaluru, Nagpur, Pune</td>\n",
       "      <td>Tech Mahindra</td>\n",
       "    </tr>\n",
       "    <tr>\n",
       "      <th>3</th>\n",
       "      <td>Data &amp; Analytics Lead, Geo Analytics - GAMMA</td>\n",
       "      <td>Bangalore/Bengaluru</td>\n",
       "      <td>Boston Consulting Group</td>\n",
       "    </tr>\n",
       "    <tr>\n",
       "      <th>4</th>\n",
       "      <td>Weather and Climate Data Scientist</td>\n",
       "      <td>Bangalore/Bengaluru</td>\n",
       "      <td>Shell Pvt Ltd</td>\n",
       "    </tr>\n",
       "    <tr>\n",
       "      <th>5</th>\n",
       "      <td>Data Scientist</td>\n",
       "      <td>Hybrid - Bangalore/Bengaluru, Noida, Kolkata, ...</td>\n",
       "      <td>Mindtree</td>\n",
       "    </tr>\n",
       "    <tr>\n",
       "      <th>6</th>\n",
       "      <td>Data Scientist - II</td>\n",
       "      <td>Bangalore/Bengaluru, India, Mumbai (All Areas)</td>\n",
       "      <td>Bizongo</td>\n",
       "    </tr>\n",
       "    <tr>\n",
       "      <th>7</th>\n",
       "      <td>Senior Data Scientist</td>\n",
       "      <td>Bangalore/Bengaluru, Mumbai</td>\n",
       "      <td>Baker Hughes</td>\n",
       "    </tr>\n",
       "    <tr>\n",
       "      <th>8</th>\n",
       "      <td>Manager-Data Science</td>\n",
       "      <td>Bangalore/Bengaluru</td>\n",
       "      <td>AMERICAN EXPRESS</td>\n",
       "    </tr>\n",
       "    <tr>\n",
       "      <th>9</th>\n",
       "      <td>ACN - Applied Intelligence - Data Scientist - 09</td>\n",
       "      <td>Bangalore/Bengaluru</td>\n",
       "      <td>Accenture</td>\n",
       "    </tr>\n",
       "  </tbody>\n",
       "</table>\n",
       "</div>"
      ],
      "text/plain": [
       "                                          Job_Title  \\\n",
       "0                  Analystics & Modeling Specialist   \n",
       "1                                    Data Scientist   \n",
       "2                                    Data Scientist   \n",
       "3      Data & Analytics Lead, Geo Analytics - GAMMA   \n",
       "4                Weather and Climate Data Scientist   \n",
       "5                                    Data Scientist   \n",
       "6                               Data Scientist - II   \n",
       "7                             Senior Data Scientist   \n",
       "8                              Manager-Data Science   \n",
       "9  ACN - Applied Intelligence - Data Scientist - 09   \n",
       "\n",
       "                                        Job_Location             Company_Name  \n",
       "0  Bangalore/Bengaluru, Kolkata, Mumbai, Hyderaba...                Accenture  \n",
       "1  Bangalore/Bengaluru, New Delhi, Hyderabad/Secu...              Tata Nexarc  \n",
       "2                  Bangalore/Bengaluru, Nagpur, Pune            Tech Mahindra  \n",
       "3                                Bangalore/Bengaluru  Boston Consulting Group  \n",
       "4                                Bangalore/Bengaluru            Shell Pvt Ltd  \n",
       "5  Hybrid - Bangalore/Bengaluru, Noida, Kolkata, ...                 Mindtree  \n",
       "6     Bangalore/Bengaluru, India, Mumbai (All Areas)                  Bizongo  \n",
       "7                        Bangalore/Bengaluru, Mumbai             Baker Hughes  \n",
       "8                                Bangalore/Bengaluru         AMERICAN EXPRESS  \n",
       "9                                Bangalore/Bengaluru                Accenture  "
      ]
     },
     "execution_count": 19,
     "metadata": {},
     "output_type": "execute_result"
    }
   ],
   "source": [
    "# Creating dataframe \n",
    "\n",
    "df = pd.DataFrame({\"Job_Title\":job_title1,\"Job_Location\":job_location1,\"Company_Name\":company_name1})\n",
    "df"
   ]
  },
  {
   "cell_type": "code",
   "execution_count": null,
   "id": "84386ede",
   "metadata": {},
   "outputs": [],
   "source": []
  },
  {
   "cell_type": "markdown",
   "id": "b7686cba",
   "metadata": {},
   "source": [
    "# Q3. To scrape Data using the filters for 'Data Scientist' location Delhi"
   ]
  },
  {
   "cell_type": "code",
   "execution_count": 293,
   "id": "f2c7595b",
   "metadata": {},
   "outputs": [],
   "source": [
    "# Connecting to the driver\n",
    "driver = webdriver.Chrome(r\"C:\\Users\\navee\\Downloads\\chromedriver_win32\\chromedriver.exe\")"
   ]
  },
  {
   "cell_type": "code",
   "execution_count": 294,
   "id": "b3004c7b",
   "metadata": {},
   "outputs": [],
   "source": [
    "# Opening Naukri Page\n",
    "driver.get(\"https://www.naukri.com/\")"
   ]
  },
  {
   "cell_type": "code",
   "execution_count": 295,
   "id": "b83244ce",
   "metadata": {},
   "outputs": [],
   "source": [
    "# Entering Designation\n",
    "designation = driver.find_element(By.CLASS_NAME,\"suggestor-input\")\n",
    "designation.send_keys('Data Scientist')"
   ]
  },
  {
   "cell_type": "code",
   "execution_count": 296,
   "id": "0979acbb",
   "metadata": {},
   "outputs": [],
   "source": [
    "search = driver.find_element(By.CLASS_NAME,\"qsbSubmit\")\n",
    "search.click()"
   ]
  },
  {
   "cell_type": "code",
   "execution_count": 299,
   "id": "f6135f3b",
   "metadata": {},
   "outputs": [],
   "source": [
    "# Filter location\n",
    "location1 = driver.find_element(By.XPATH,'//span[@title=\"Delhi / NCR\"]')\n",
    "location1.click()"
   ]
  },
  {
   "cell_type": "code",
   "execution_count": 300,
   "id": "374d1022",
   "metadata": {},
   "outputs": [],
   "source": [
    "# Filter Salary\n",
    "salary = driver.find_element(By.XPATH,'//span[@title=\"3-6 Lakhs\"]')\n",
    "salary.click()"
   ]
  },
  {
   "cell_type": "code",
   "execution_count": 301,
   "id": "d2222a42",
   "metadata": {},
   "outputs": [],
   "source": [
    "job_title2 = []\n",
    "job_location2 = []\n",
    "company_name2 = []\n",
    "experience_required2 = []"
   ]
  },
  {
   "cell_type": "code",
   "execution_count": 302,
   "id": "ba8ff5fd",
   "metadata": {},
   "outputs": [],
   "source": [
    "# scraping job title\n",
    "\n",
    "title_tags = driver.find_elements(By.XPATH,'//a[@class=\"title fw500 ellipsis\"]')\n",
    "for i in title_tags[0:10]:\n",
    "    title = i.text\n",
    "    job_title2.append(title)"
   ]
  },
  {
   "cell_type": "code",
   "execution_count": 303,
   "id": "eec1c8e7",
   "metadata": {},
   "outputs": [],
   "source": [
    "# scraping job location\n",
    "\n",
    "location_tags = driver.find_elements(By.XPATH,'//li[@class=\"fleft grey-text br2 placeHolderLi location\"]')\n",
    "for i in location_tags[0:10]:\n",
    "    location = i.text\n",
    "    job_location2.append(location)"
   ]
  },
  {
   "cell_type": "code",
   "execution_count": 304,
   "id": "32622d3e",
   "metadata": {},
   "outputs": [],
   "source": [
    "# scraping job company name\n",
    "\n",
    "company_tags = driver.find_elements(By.XPATH,'//a[@class=\"subTitle ellipsis fleft\"]')\n",
    "for i in company_tags[0:10]:\n",
    "    company = i.text\n",
    "    company_name2.append(company)"
   ]
  },
  {
   "cell_type": "code",
   "execution_count": 306,
   "id": "9aebda93",
   "metadata": {},
   "outputs": [],
   "source": [
    "# scraping job experience required\n",
    "\n",
    "experience_tags = driver.find_elements(By.XPATH,'//li[@class=\"fleft grey-text br2 placeHolderLi experience\"]')\n",
    "for i in experience_tags[0:10]:\n",
    "    experience = i.text\n",
    "    experience_required2.append(experience)"
   ]
  },
  {
   "cell_type": "code",
   "execution_count": 307,
   "id": "8a1a8c1b",
   "metadata": {},
   "outputs": [
    {
     "name": "stdout",
     "output_type": "stream",
     "text": [
      "10 10 10 10\n"
     ]
    }
   ],
   "source": [
    "print(len(job_title2),len(job_location2),len(company_name2),len(experience_required2))"
   ]
  },
  {
   "cell_type": "code",
   "execution_count": 308,
   "id": "312cd8ed",
   "metadata": {},
   "outputs": [
    {
     "data": {
      "text/html": [
       "<div>\n",
       "<style scoped>\n",
       "    .dataframe tbody tr th:only-of-type {\n",
       "        vertical-align: middle;\n",
       "    }\n",
       "\n",
       "    .dataframe tbody tr th {\n",
       "        vertical-align: top;\n",
       "    }\n",
       "\n",
       "    .dataframe thead th {\n",
       "        text-align: right;\n",
       "    }\n",
       "</style>\n",
       "<table border=\"1\" class=\"dataframe\">\n",
       "  <thead>\n",
       "    <tr style=\"text-align: right;\">\n",
       "      <th></th>\n",
       "      <th>Job_Title</th>\n",
       "      <th>Job_Location</th>\n",
       "      <th>Company_Name</th>\n",
       "      <th>Experience_Required</th>\n",
       "    </tr>\n",
       "  </thead>\n",
       "  <tbody>\n",
       "    <tr>\n",
       "      <th>0</th>\n",
       "      <td>Artificial Intelligence/Computer Vision Engine...</td>\n",
       "      <td>Delhi / NCR, Kolkata, Mumbai, Hyderabad/Secund...</td>\n",
       "      <td>Vicara</td>\n",
       "      <td>1-3 Yrs</td>\n",
       "    </tr>\n",
       "    <tr>\n",
       "      <th>1</th>\n",
       "      <td>Data Activation Specialist - Adobe Target</td>\n",
       "      <td>Delhi / NCR, Kolkata, Mumbai, Hyderabad/Secund...</td>\n",
       "      <td>Okda Solutions</td>\n",
       "      <td>7-10 Yrs</td>\n",
       "    </tr>\n",
       "    <tr>\n",
       "      <th>2</th>\n",
       "      <td>Data Scientist - Engine Algorithm</td>\n",
       "      <td>Delhi / NCR, Kolkata, Mumbai, Hyderabad/Secund...</td>\n",
       "      <td>Primo Hiring</td>\n",
       "      <td>1-3 Yrs</td>\n",
       "    </tr>\n",
       "    <tr>\n",
       "      <th>3</th>\n",
       "      <td>Data Scientist</td>\n",
       "      <td>Temp. WFH - Noida</td>\n",
       "      <td>NGI Ventures</td>\n",
       "      <td>1-5 Yrs</td>\n",
       "    </tr>\n",
       "    <tr>\n",
       "      <th>4</th>\n",
       "      <td>Opening For Jr. Data Scientist with Tatras Dat...</td>\n",
       "      <td>Delhi / NCR</td>\n",
       "      <td>Tatras Data Services</td>\n",
       "      <td>2-4 Yrs</td>\n",
       "    </tr>\n",
       "    <tr>\n",
       "      <th>5</th>\n",
       "      <td>Data Scientist</td>\n",
       "      <td>Dehradun, Hyderabad/Secunderabad, Gurgaon/Guru...</td>\n",
       "      <td>torcai digital media</td>\n",
       "      <td>2-7 Yrs</td>\n",
       "    </tr>\n",
       "    <tr>\n",
       "      <th>6</th>\n",
       "      <td>Data Scientist</td>\n",
       "      <td>Gurgaon/Gurugram</td>\n",
       "      <td>Americana Restaurants (india)</td>\n",
       "      <td>3-8 Yrs</td>\n",
       "    </tr>\n",
       "    <tr>\n",
       "      <th>7</th>\n",
       "      <td>URGENT: Data Scientist | Gurugram | 5 Days Wor...</td>\n",
       "      <td>Gurgaon/Gurugram</td>\n",
       "      <td>Digilytics</td>\n",
       "      <td>2-5 Yrs</td>\n",
       "    </tr>\n",
       "    <tr>\n",
       "      <th>8</th>\n",
       "      <td>Data Scientist</td>\n",
       "      <td>Noida</td>\n",
       "      <td>Alliance Recruitment Agency</td>\n",
       "      <td>3-4 Yrs</td>\n",
       "    </tr>\n",
       "    <tr>\n",
       "      <th>9</th>\n",
       "      <td>SE/SSE-Data Scientist</td>\n",
       "      <td>Delhi / NCR</td>\n",
       "      <td>Bold Technology Systems</td>\n",
       "      <td>3-8 Yrs</td>\n",
       "    </tr>\n",
       "  </tbody>\n",
       "</table>\n",
       "</div>"
      ],
      "text/plain": [
       "                                           Job_Title  \\\n",
       "0  Artificial Intelligence/Computer Vision Engine...   \n",
       "1          Data Activation Specialist - Adobe Target   \n",
       "2                  Data Scientist - Engine Algorithm   \n",
       "3                                     Data Scientist   \n",
       "4  Opening For Jr. Data Scientist with Tatras Dat...   \n",
       "5                                     Data Scientist   \n",
       "6                                     Data Scientist   \n",
       "7  URGENT: Data Scientist | Gurugram | 5 Days Wor...   \n",
       "8                                     Data Scientist   \n",
       "9                              SE/SSE-Data Scientist   \n",
       "\n",
       "                                        Job_Location  \\\n",
       "0  Delhi / NCR, Kolkata, Mumbai, Hyderabad/Secund...   \n",
       "1  Delhi / NCR, Kolkata, Mumbai, Hyderabad/Secund...   \n",
       "2  Delhi / NCR, Kolkata, Mumbai, Hyderabad/Secund...   \n",
       "3                                  Temp. WFH - Noida   \n",
       "4                                        Delhi / NCR   \n",
       "5  Dehradun, Hyderabad/Secunderabad, Gurgaon/Guru...   \n",
       "6                                   Gurgaon/Gurugram   \n",
       "7                                   Gurgaon/Gurugram   \n",
       "8                                              Noida   \n",
       "9                                        Delhi / NCR   \n",
       "\n",
       "                    Company_Name Experience_Required  \n",
       "0                         Vicara             1-3 Yrs  \n",
       "1                 Okda Solutions            7-10 Yrs  \n",
       "2                   Primo Hiring             1-3 Yrs  \n",
       "3                   NGI Ventures             1-5 Yrs  \n",
       "4           Tatras Data Services             2-4 Yrs  \n",
       "5           torcai digital media             2-7 Yrs  \n",
       "6  Americana Restaurants (india)             3-8 Yrs  \n",
       "7                     Digilytics             2-5 Yrs  \n",
       "8    Alliance Recruitment Agency             3-4 Yrs  \n",
       "9        Bold Technology Systems             3-8 Yrs  "
      ]
     },
     "execution_count": 308,
     "metadata": {},
     "output_type": "execute_result"
    }
   ],
   "source": [
    "# Creating dataframe \n",
    "\n",
    "df = pd.DataFrame({\"Job_Title\":job_title2,\"Job_Location\":job_location2,\"Company_Name\":company_name2,\"Experience_Required\":experience_required2})\n",
    "df"
   ]
  },
  {
   "cell_type": "code",
   "execution_count": null,
   "id": "c91b117a",
   "metadata": {},
   "outputs": [],
   "source": []
  },
  {
   "cell_type": "markdown",
   "id": "6aecb15f",
   "metadata": {},
   "source": [
    "# Q4.  Scrape data of first 100 sunglasses listings on flipkart.com"
   ]
  },
  {
   "cell_type": "code",
   "execution_count": 315,
   "id": "5b782f2c",
   "metadata": {},
   "outputs": [],
   "source": [
    "# Connecting to the driver\n",
    "driver = webdriver.Chrome(r\"C:\\Users\\navee\\Downloads\\chromedriver_win32\\chromedriver.exe\")"
   ]
  },
  {
   "cell_type": "code",
   "execution_count": 316,
   "id": "b2183f69",
   "metadata": {},
   "outputs": [],
   "source": [
    "# Opening Flipkart Page\n",
    "driver.get(\"http://www.flipkart.com/\")"
   ]
  },
  {
   "cell_type": "code",
   "execution_count": 317,
   "id": "f52d4f5f",
   "metadata": {},
   "outputs": [],
   "source": [
    "# searching sunglasses\n",
    "designation = driver.find_element(By.CLASS_NAME,\"_3704LK\")\n",
    "designation.send_keys('Sunglasses')"
   ]
  },
  {
   "cell_type": "code",
   "execution_count": 318,
   "id": "31216bc8",
   "metadata": {},
   "outputs": [],
   "source": [
    "search = driver.find_element(By.CLASS_NAME,\"L0Z3Pu\")\n",
    "search.click()"
   ]
  },
  {
   "cell_type": "code",
   "execution_count": 281,
   "id": "4677b784",
   "metadata": {},
   "outputs": [],
   "source": [
    "brand = []\n",
    "description = []\n",
    "price = []"
   ]
  },
  {
   "cell_type": "code",
   "execution_count": 314,
   "id": "bb9ac0a7",
   "metadata": {},
   "outputs": [],
   "source": [
    "# Getting rating for 100 sunglasses\n",
    "start = 0\n",
    "end = 3\n",
    "for page in range(0,3):\n",
    "    brand_tags = driver.find_elements(By.XPATH,'//div[@class=\"_3LWZlK _1BLPMq\"]')\n",
    "    for i in brand_tags:\n",
    "         brand.append(i.text)\n",
    "    next_button = driver.find_element(By.XPATH,'//a[@class=\"_1LKTO3\"]')\n",
    "    next_button.click()\n",
    "    time.sleep(4)"
   ]
  },
  {
   "cell_type": "code",
   "execution_count": 283,
   "id": "fae0560b",
   "metadata": {},
   "outputs": [
    {
     "data": {
      "text/plain": [
       "['ROZZETTA CRAFT',\n",
       " 'Silver Kartz',\n",
       " 'LIZA ANGEL',\n",
       " 'Fastrack',\n",
       " 'Fastrack',\n",
       " 'Elligator',\n",
       " 'PHENOMENAL',\n",
       " 'VINCENT CHASE',\n",
       " 'SHAAH COLLECTIONS',\n",
       " 'Elligator',\n",
       " 'Silver Kartz',\n",
       " 'ROYAL SON',\n",
       " 'Elligator',\n",
       " 'Fastrack',\n",
       " 'SRPM',\n",
       " 'Elligator',\n",
       " 'ROZZETTA CRAFT',\n",
       " 'ROZZETTA CRAFT',\n",
       " 'Elligator',\n",
       " 'New Specs',\n",
       " 'PROVOGUE',\n",
       " 'VINCENT CHASE',\n",
       " 'Fastrack',\n",
       " 'LIZA ANGEL',\n",
       " 'SRPM',\n",
       " 'Fastrack',\n",
       " 'ROZZETTA CRAFT',\n",
       " 'ROZZETTA CRAFT',\n",
       " 'LIZA ANGEL',\n",
       " 'PIRASO',\n",
       " 'Fair-x',\n",
       " 'hayden haiza',\n",
       " 'Fastrack',\n",
       " 'SUNBEE',\n",
       " 'PIRASO',\n",
       " 'New Specs',\n",
       " 'VINCENT CHASE',\n",
       " 'PROVOGUE',\n",
       " 'Fastrack',\n",
       " 'Satyam Kraft',\n",
       " 'VINCENT CHASE',\n",
       " 'ROZZETTA CRAFT',\n",
       " 'Fastrack',\n",
       " 'Satyam Kraft',\n",
       " 'LIZA ANGEL',\n",
       " 'Fastrack',\n",
       " 'ROYAL SON',\n",
       " 'VINCENT CHASE',\n",
       " 'VINCENT CHASE',\n",
       " 'NuVew',\n",
       " 'VINCENT CHASE',\n",
       " 'ROZZETTA CRAFT',\n",
       " 'Elligator',\n",
       " 'Fastrack',\n",
       " 'Fastrack',\n",
       " 'kingsunglasses',\n",
       " 'Singco India',\n",
       " 'ROYAL SON',\n",
       " 'Fastrack',\n",
       " 'PIRASO',\n",
       " 'VINCENT CHASE',\n",
       " 'VINCENT CHASE',\n",
       " 'LIZA ANGEL',\n",
       " 'kingsunglasses',\n",
       " 'Fastrack',\n",
       " 'New Specs',\n",
       " 'ROYAL SON',\n",
       " 'ROZZETTA CRAFT',\n",
       " 'kingsunglasses',\n",
       " 'ROZZETTA CRAFT',\n",
       " 'VINCENT CHASE',\n",
       " 'ROYAL SON',\n",
       " 'PIRASO',\n",
       " 'SRPM',\n",
       " 'ROYAL SON',\n",
       " 'ROZZETTA CRAFT',\n",
       " 'VINCENT CHASE',\n",
       " 'VINCENT CHASE',\n",
       " 'Fastrack',\n",
       " 'Fastrack',\n",
       " 'ROZZETTA CRAFT',\n",
       " 'Silver Kartz',\n",
       " 'LIZA ANGEL',\n",
       " 'Fastrack',\n",
       " 'Elligator',\n",
       " 'Fastrack',\n",
       " 'PHENOMENAL',\n",
       " 'VINCENT CHASE',\n",
       " 'SHAAH COLLECTIONS',\n",
       " 'Elligator',\n",
       " 'Silver Kartz',\n",
       " 'ROYAL SON',\n",
       " 'Elligator',\n",
       " 'Fastrack',\n",
       " 'SRPM',\n",
       " 'Elligator',\n",
       " 'ROZZETTA CRAFT',\n",
       " 'ROZZETTA CRAFT',\n",
       " 'Elligator',\n",
       " 'New Specs']"
      ]
     },
     "execution_count": 283,
     "metadata": {},
     "output_type": "execute_result"
    }
   ],
   "source": [
    "brand1 = brand[0:100]\n",
    "brand1"
   ]
  },
  {
   "cell_type": "code",
   "execution_count": 284,
   "id": "bf2cb35b",
   "metadata": {},
   "outputs": [
    {
     "data": {
      "text/plain": [
       "100"
      ]
     },
     "execution_count": 284,
     "metadata": {},
     "output_type": "execute_result"
    }
   ],
   "source": [
    "len(brand1)"
   ]
  },
  {
   "cell_type": "code",
   "execution_count": 285,
   "id": "c26b2122",
   "metadata": {},
   "outputs": [],
   "source": [
    "# Getting description for 100 sunglasses\n",
    "start = 0\n",
    "end = 3\n",
    "for page in range(0,3):\n",
    "    description_tags = driver.find_elements(By.XPATH,'//a[@class=\"IRpwTa\"]')\n",
    "    for i in description_tags:\n",
    "        description.append(i.text)\n",
    "    next_button = driver.find_element(By.XPATH,'//a[@class=\"_1LKTO3\"]')\n",
    "    next_button.click()\n",
    "    time.sleep(4)"
   ]
  },
  {
   "cell_type": "code",
   "execution_count": 286,
   "id": "4caa4f7f",
   "metadata": {},
   "outputs": [
    {
     "data": {
      "text/plain": [
       "['UV Protection, Gradient Retro Square Sunglasses (Free S...',\n",
       " 'UV Protection Clubmaster Sunglasses (53)',\n",
       " 'Riding Glasses, Night Vision Spectacle Sunglasses (Fre...',\n",
       " 'UV Protection Rectangular Sunglasses (Free Size)',\n",
       " 'UV Protection Cat-eye, Retro Square, Oval, Round Sungla...',\n",
       " 'UV Protection Wayfarer Sunglasses (Free Size)',\n",
       " 'UV Protection Retro Square Sunglasses (53)',\n",
       " 'Polarized, UV Protection Aviator Sunglasses (55)',\n",
       " 'UV Protection, Polarized, Mirrored Rectangular Sunglass...',\n",
       " 'UV Protection Cat-eye, Retro Square, Oval, Round Sungla...',\n",
       " 'UV Protection Aviator Sunglasses (55)',\n",
       " 'UV Protection, Riding Glasses, Gradient Over-sized, Wra...',\n",
       " 'UV Protection Round Sunglasses (53)',\n",
       " 'UV Protection Wayfarer Sunglasses (Free Size)',\n",
       " 'UV Protection Wayfarer Sunglasses (50)',\n",
       " 'UV Protection Round Sunglasses (53)',\n",
       " 'by Lenskart Polarized, UV Protection Wayfarer Sunglasse...',\n",
       " 'UV Protection, Gradient Over-sized Sunglasses (59)',\n",
       " 'UV Protection Round Sunglasses (54)',\n",
       " 'UV Protection Rectangular Sunglasses (Free Size)',\n",
       " 'Night Vision, Riding Glasses, Polarized, UV Protection ...',\n",
       " 'Polarized, UV Protection Aviator Sunglasses (55)',\n",
       " 'UV Protection, Polarized Rectangular Sunglasses (Free S...',\n",
       " 'Mirrored, UV Protection Wayfarer Sunglasses (Free Size)',\n",
       " 'Night Vision, UV Protection Round Sunglasses (54)',\n",
       " 'Gradient, UV Protection Wayfarer Sunglasses (Free Size)',\n",
       " 'Polarized, UV Protection Round Sunglasses (52)',\n",
       " 'Polarized, UV Protection Rectangular Sunglasses (Free S...',\n",
       " 'Riding Glasses, UV Protection, Night Vision Spectacle ...',\n",
       " 'UV Protection Aviator Sunglasses (54)',\n",
       " 'UV Protection Cat-eye, Over-sized Sunglasses (62)',\n",
       " 'UV Protection Aviator Sunglasses (58)',\n",
       " 'UV Protection, Polarized Wayfarer Sunglasses (Free Size...',\n",
       " 'Gradient, UV Protection Wayfarer Sunglasses (Free Size)',\n",
       " 'UV Protection Oval Sunglasses (Free Size)',\n",
       " 'UV Protection Shield Sunglasses (Free Size)',\n",
       " 'UV Protection Aviator Sunglasses (58)',\n",
       " 'Polarized, UV Protection Round Sunglasses (52)',\n",
       " 'UV Protection Rectangular Sunglasses (52)',\n",
       " 'Others Cat-eye, Retro Square, Wayfarer Sunglasses (54)',\n",
       " 'by Lenskart Polarized, UV Protection Cat-eye Sunglasses...',\n",
       " 'by Lenskart Polarized, UV Protection Rectangular Sungla...',\n",
       " 'UV Protection Wayfarer Sunglasses (Free Size)',\n",
       " 'Others Spectacle Sunglasses (Free Size)',\n",
       " 'UV Protection Wayfarer Sunglasses (Free Size)',\n",
       " 'UV Protection Shield Sunglasses (Free Size)',\n",
       " 'UV Protection Wayfarer Sunglasses (Free Size)',\n",
       " 'UV Protection, Polarized Round Sunglasses (54)',\n",
       " 'UV Protection Wayfarer Sunglasses (59)',\n",
       " 'UV Protection Round Sunglasses (50)',\n",
       " 'UV Protection, Gradient Rectangular Sunglasses (Free Si...',\n",
       " 'UV Protection, Gradient Round Sunglasses (Free Size)',\n",
       " 'UV Protection Wayfarer Sunglasses (53)',\n",
       " 'UV Protection Aviator Sunglasses (Free Size)',\n",
       " 'UV Protection Wayfarer Sunglasses (Free Size)',\n",
       " 'UV Protection Cat-eye Sunglasses (Free Size)',\n",
       " 'Polarized, UV Protection Rectangular Sunglasses (Free S...',\n",
       " 'by Lenskart Polarized, UV Protection Cat-eye Sunglasses...',\n",
       " 'Polarized Retro Square Sunglasses (Free Size)',\n",
       " 'UV Protection Aviator Sunglasses (58)',\n",
       " 'UV Protection Spectacle Sunglasses (Free Size)',\n",
       " 'Mirrored, Riding Glasses, UV Protection Sports Sunglass...',\n",
       " 'Polarized, UV Protection Retro Square, Over-sized, Rect...',\n",
       " 'UV Protection Rectangular Sunglasses (55)',\n",
       " 'UV Protection Aviator Sunglasses (58)',\n",
       " 'UV Protection Rectangular Sunglasses (Free Size)',\n",
       " 'Polarized, UV Protection Aviator Sunglasses (55)',\n",
       " 'by Lenskart Polarized, UV Protection Round Sunglasses (...',\n",
       " 'UV Protection Rectangular Sunglasses (Free Size)',\n",
       " 'UV Protection Retro Square Sunglasses (Free Size)',\n",
       " 'Polarized, UV Protection Rectangular Sunglasses (Free S...',\n",
       " 'UV Protection Round Sunglasses (50)',\n",
       " 'UV Protection Aviator Sunglasses (Free Size)',\n",
       " 'UV Protection Wayfarer Sunglasses (54)',\n",
       " 'Mirrored Aviator Sunglasses (55)',\n",
       " 'UV Protection, Gradient Rectangular Sunglasses (Free Si...',\n",
       " 'by Lenskart Polarized, UV Protection Round Sunglasses (...',\n",
       " 'by Lenskart Polarized, UV Protection Wayfarer Sunglasse...',\n",
       " 'UV Protection Aviator Sunglasses (Free Size)',\n",
       " 'UV Protection Wayfarer Sunglasses (Free Size)',\n",
       " 'UV Protection, Gradient Retro Square Sunglasses (Free S...',\n",
       " 'UV Protection Clubmaster Sunglasses (53)',\n",
       " 'Riding Glasses, Night Vision Spectacle Sunglasses (Fre...',\n",
       " 'UV Protection Rectangular Sunglasses (Free Size)',\n",
       " 'UV Protection Cat-eye, Retro Square, Oval, Round Sungla...',\n",
       " 'UV Protection Wayfarer Sunglasses (Free Size)',\n",
       " 'UV Protection Retro Square Sunglasses (53)',\n",
       " 'Polarized, UV Protection Aviator Sunglasses (55)',\n",
       " 'UV Protection, Polarized, Mirrored Rectangular Sunglass...',\n",
       " 'UV Protection Cat-eye, Retro Square, Oval, Round Sungla...',\n",
       " 'Polarized, UV Protection Aviator Sunglasses (55)',\n",
       " 'UV Protection, Riding Glasses, Gradient Over-sized, Wra...',\n",
       " 'UV Protection Round Sunglasses (53)',\n",
       " 'UV Protection Wayfarer Sunglasses (Free Size)',\n",
       " 'UV Protection Wayfarer Sunglasses (50)',\n",
       " 'UV Protection Round Sunglasses (53)',\n",
       " 'by Lenskart Polarized, UV Protection Wayfarer Sunglasse...',\n",
       " 'UV Protection, Gradient Over-sized Sunglasses (59)',\n",
       " 'UV Protection Round Sunglasses (54)',\n",
       " 'UV Protection Rectangular Sunglasses (Free Size)']"
      ]
     },
     "execution_count": 286,
     "metadata": {},
     "output_type": "execute_result"
    }
   ],
   "source": [
    "description1 = description[0:100]\n",
    "description1"
   ]
  },
  {
   "cell_type": "code",
   "execution_count": 287,
   "id": "f9aafe0f",
   "metadata": {},
   "outputs": [
    {
     "data": {
      "text/plain": [
       "100"
      ]
     },
     "execution_count": 287,
     "metadata": {},
     "output_type": "execute_result"
    }
   ],
   "source": [
    "len(description1)"
   ]
  },
  {
   "cell_type": "code",
   "execution_count": 289,
   "id": "b18485ad",
   "metadata": {},
   "outputs": [],
   "source": [
    "# Getting price for 100 sunglasses\n",
    "start = 0\n",
    "end = 3\n",
    "for page in range(0,3):\n",
    "    price_tags = driver.find_elements(By.XPATH,'//div[@class=\"_30jeq3\"]')\n",
    "    for i in price_tags:\n",
    "        price.append(i.text)\n",
    "    next_button = driver.find_element(By.XPATH,'//a[@class=\"_1LKTO3\"]')\n",
    "    next_button.click()\n",
    "    time.sleep(4)"
   ]
  },
  {
   "cell_type": "code",
   "execution_count": 290,
   "id": "cde11188",
   "metadata": {},
   "outputs": [
    {
     "data": {
      "text/plain": [
       "['₹549',\n",
       " '₹278',\n",
       " '₹129',\n",
       " '₹489',\n",
       " '₹149',\n",
       " '₹599',\n",
       " '₹129',\n",
       " '₹497',\n",
       " '₹159',\n",
       " '₹129',\n",
       " '₹649',\n",
       " '₹399',\n",
       " '₹149',\n",
       " '₹539',\n",
       " '₹149',\n",
       " '₹149',\n",
       " '₹449',\n",
       " '₹664',\n",
       " '₹286',\n",
       " '₹259',\n",
       " '₹299',\n",
       " '₹497',\n",
       " '₹129',\n",
       " '₹599',\n",
       " '₹179',\n",
       " '₹539',\n",
       " '₹799',\n",
       " '₹664',\n",
       " '₹129',\n",
       " '₹257',\n",
       " '₹699',\n",
       " '₹5,805',\n",
       " '₹283',\n",
       " '₹479',\n",
       " '₹128',\n",
       " '₹669',\n",
       " '₹5,490',\n",
       " '₹799',\n",
       " '₹209',\n",
       " '₹149',\n",
       " '₹806',\n",
       " '₹849',\n",
       " '₹479',\n",
       " '₹269',\n",
       " '₹129',\n",
       " '₹539',\n",
       " '₹284',\n",
       " '₹699',\n",
       " '₹664',\n",
       " '₹117',\n",
       " '₹447',\n",
       " '₹399',\n",
       " '₹179',\n",
       " '₹769',\n",
       " '₹599',\n",
       " '₹129',\n",
       " '₹664',\n",
       " '₹949',\n",
       " '₹479',\n",
       " '₹329',\n",
       " '₹497',\n",
       " '₹449',\n",
       " '₹129',\n",
       " '₹267',\n",
       " '₹969',\n",
       " '₹125',\n",
       " '₹398',\n",
       " '₹420',\n",
       " '₹199',\n",
       " '₹499',\n",
       " '₹413',\n",
       " '₹901',\n",
       " '₹321',\n",
       " '₹129',\n",
       " '₹379',\n",
       " '₹398',\n",
       " '₹664',\n",
       " '₹399',\n",
       " '₹599',\n",
       " '₹599',\n",
       " '₹549',\n",
       " '₹278',\n",
       " '₹129',\n",
       " '₹489',\n",
       " '₹149',\n",
       " '₹599',\n",
       " '₹129',\n",
       " '₹497',\n",
       " '₹159',\n",
       " '₹129',\n",
       " '₹649',\n",
       " '₹399',\n",
       " '₹149',\n",
       " '₹539',\n",
       " '₹149',\n",
       " '₹149',\n",
       " '₹749',\n",
       " '₹664',\n",
       " '₹286',\n",
       " '₹259']"
      ]
     },
     "execution_count": 290,
     "metadata": {},
     "output_type": "execute_result"
    }
   ],
   "source": [
    "price1 = price[0:100]\n",
    "price1"
   ]
  },
  {
   "cell_type": "code",
   "execution_count": 291,
   "id": "5d114cec",
   "metadata": {},
   "outputs": [
    {
     "data": {
      "text/plain": [
       "100"
      ]
     },
     "execution_count": 291,
     "metadata": {},
     "output_type": "execute_result"
    }
   ],
   "source": [
    "len(price1)"
   ]
  },
  {
   "cell_type": "code",
   "execution_count": 247,
   "id": "2c35ce1a",
   "metadata": {},
   "outputs": [],
   "source": [
    "# Creating dataframe\n",
    "import pandas as pd"
   ]
  },
  {
   "cell_type": "code",
   "execution_count": 292,
   "id": "ac6a75cd",
   "metadata": {},
   "outputs": [
    {
     "data": {
      "text/html": [
       "<div>\n",
       "<style scoped>\n",
       "    .dataframe tbody tr th:only-of-type {\n",
       "        vertical-align: middle;\n",
       "    }\n",
       "\n",
       "    .dataframe tbody tr th {\n",
       "        vertical-align: top;\n",
       "    }\n",
       "\n",
       "    .dataframe thead th {\n",
       "        text-align: right;\n",
       "    }\n",
       "</style>\n",
       "<table border=\"1\" class=\"dataframe\">\n",
       "  <thead>\n",
       "    <tr style=\"text-align: right;\">\n",
       "      <th></th>\n",
       "      <th>Brand</th>\n",
       "      <th>Description</th>\n",
       "      <th>Price</th>\n",
       "    </tr>\n",
       "  </thead>\n",
       "  <tbody>\n",
       "    <tr>\n",
       "      <th>0</th>\n",
       "      <td>ROZZETTA CRAFT</td>\n",
       "      <td>UV Protection, Gradient Retro Square Sunglasse...</td>\n",
       "      <td>₹549</td>\n",
       "    </tr>\n",
       "    <tr>\n",
       "      <th>1</th>\n",
       "      <td>Silver Kartz</td>\n",
       "      <td>UV Protection Clubmaster Sunglasses (53)</td>\n",
       "      <td>₹278</td>\n",
       "    </tr>\n",
       "    <tr>\n",
       "      <th>2</th>\n",
       "      <td>LIZA ANGEL</td>\n",
       "      <td>Riding Glasses, Night Vision Spectacle Sunglas...</td>\n",
       "      <td>₹129</td>\n",
       "    </tr>\n",
       "    <tr>\n",
       "      <th>3</th>\n",
       "      <td>Fastrack</td>\n",
       "      <td>UV Protection Rectangular Sunglasses (Free Size)</td>\n",
       "      <td>₹489</td>\n",
       "    </tr>\n",
       "    <tr>\n",
       "      <th>4</th>\n",
       "      <td>Fastrack</td>\n",
       "      <td>UV Protection Cat-eye, Retro Square, Oval, Rou...</td>\n",
       "      <td>₹149</td>\n",
       "    </tr>\n",
       "    <tr>\n",
       "      <th>...</th>\n",
       "      <td>...</td>\n",
       "      <td>...</td>\n",
       "      <td>...</td>\n",
       "    </tr>\n",
       "    <tr>\n",
       "      <th>95</th>\n",
       "      <td>Elligator</td>\n",
       "      <td>UV Protection Round Sunglasses (53)</td>\n",
       "      <td>₹149</td>\n",
       "    </tr>\n",
       "    <tr>\n",
       "      <th>96</th>\n",
       "      <td>ROZZETTA CRAFT</td>\n",
       "      <td>by Lenskart Polarized, UV Protection Wayfarer ...</td>\n",
       "      <td>₹749</td>\n",
       "    </tr>\n",
       "    <tr>\n",
       "      <th>97</th>\n",
       "      <td>ROZZETTA CRAFT</td>\n",
       "      <td>UV Protection, Gradient Over-sized Sunglasses ...</td>\n",
       "      <td>₹664</td>\n",
       "    </tr>\n",
       "    <tr>\n",
       "      <th>98</th>\n",
       "      <td>Elligator</td>\n",
       "      <td>UV Protection Round Sunglasses (54)</td>\n",
       "      <td>₹286</td>\n",
       "    </tr>\n",
       "    <tr>\n",
       "      <th>99</th>\n",
       "      <td>New Specs</td>\n",
       "      <td>UV Protection Rectangular Sunglasses (Free Size)</td>\n",
       "      <td>₹259</td>\n",
       "    </tr>\n",
       "  </tbody>\n",
       "</table>\n",
       "<p>100 rows × 3 columns</p>\n",
       "</div>"
      ],
      "text/plain": [
       "             Brand                                        Description Price\n",
       "0   ROZZETTA CRAFT  UV Protection, Gradient Retro Square Sunglasse...  ₹549\n",
       "1     Silver Kartz           UV Protection Clubmaster Sunglasses (53)  ₹278\n",
       "2       LIZA ANGEL  Riding Glasses, Night Vision Spectacle Sunglas...  ₹129\n",
       "3         Fastrack   UV Protection Rectangular Sunglasses (Free Size)  ₹489\n",
       "4         Fastrack  UV Protection Cat-eye, Retro Square, Oval, Rou...  ₹149\n",
       "..             ...                                                ...   ...\n",
       "95       Elligator                UV Protection Round Sunglasses (53)  ₹149\n",
       "96  ROZZETTA CRAFT  by Lenskart Polarized, UV Protection Wayfarer ...  ₹749\n",
       "97  ROZZETTA CRAFT  UV Protection, Gradient Over-sized Sunglasses ...  ₹664\n",
       "98       Elligator                UV Protection Round Sunglasses (54)  ₹286\n",
       "99       New Specs   UV Protection Rectangular Sunglasses (Free Size)  ₹259\n",
       "\n",
       "[100 rows x 3 columns]"
      ]
     },
     "execution_count": 292,
     "metadata": {},
     "output_type": "execute_result"
    }
   ],
   "source": [
    "df = pd.DataFrame({\"Brand\":brand1,\"Description\":description1,\"Price\":price1})\n",
    "df"
   ]
  },
  {
   "cell_type": "code",
   "execution_count": null,
   "id": "8d8f2cfd",
   "metadata": {},
   "outputs": [],
   "source": []
  },
  {
   "cell_type": "markdown",
   "id": "8856add7",
   "metadata": {},
   "source": [
    "# Q5. Scrape 100 reviews data from flipkart.com for iphone11 phone"
   ]
  },
  {
   "cell_type": "code",
   "execution_count": 29,
   "id": "6cb25434",
   "metadata": {},
   "outputs": [],
   "source": [
    "# Connecting to the driver\n",
    "driver = webdriver.Chrome(r\"C:\\Users\\navee\\Downloads\\chromedriver_win32\\chromedriver.exe\")"
   ]
  },
  {
   "cell_type": "code",
   "execution_count": 3,
   "id": "faa9c301",
   "metadata": {},
   "outputs": [],
   "source": [
    "# Opening Flipkart Page\n",
    "driver.get(\"https://www.flipkart.com/apple-iphone-11-black-64-gb/product-reviews/itm4e5041ba101fd?pid=MOBFWQ6BXGJCEYNY&lid=LSTMOBFWQ6BXGJCEYNYZXSHRJ&market\")"
   ]
  },
  {
   "cell_type": "code",
   "execution_count": 20,
   "id": "d7f3d94a",
   "metadata": {},
   "outputs": [],
   "source": [
    "rating = []\n",
    "review_summary = []\n",
    "full_review = []"
   ]
  },
  {
   "cell_type": "code",
   "execution_count": 21,
   "id": "2ac98a9b",
   "metadata": {},
   "outputs": [],
   "source": [
    "# Getting 100 ratings for iphone 11\n",
    "start = 0\n",
    "end = 10\n",
    "for page in range(0,10):\n",
    "    rating_tag = driver.find_elements(By.XPATH,'//div[@class=\"_3LWZlK _1BLPMq\"]')\n",
    "    for i in rating_tag:\n",
    "         rating.append(i.text)\n",
    "    next_button = driver.find_element(By.XPATH,'//a[@class=\"_1LKTO3\"]')\n",
    "    next_button.click()\n",
    "    time.sleep(11)"
   ]
  },
  {
   "cell_type": "code",
   "execution_count": 22,
   "id": "7c034e66",
   "metadata": {},
   "outputs": [
    {
     "data": {
      "text/plain": [
       "['5',\n",
       " '5',\n",
       " '5',\n",
       " '4',\n",
       " '5',\n",
       " '5',\n",
       " '5',\n",
       " '5',\n",
       " '5',\n",
       " '4',\n",
       " '5',\n",
       " '5',\n",
       " '5',\n",
       " '5',\n",
       " '4',\n",
       " '5',\n",
       " '5',\n",
       " '5',\n",
       " '4',\n",
       " '5',\n",
       " '5',\n",
       " '5',\n",
       " '5',\n",
       " '5',\n",
       " '4',\n",
       " '5',\n",
       " '5',\n",
       " '5',\n",
       " '4',\n",
       " '5',\n",
       " '5',\n",
       " '5',\n",
       " '5',\n",
       " '4',\n",
       " '5',\n",
       " '5',\n",
       " '5',\n",
       " '5',\n",
       " '5',\n",
       " '4',\n",
       " '5',\n",
       " '5',\n",
       " '5',\n",
       " '4',\n",
       " '5',\n",
       " '5',\n",
       " '5',\n",
       " '5',\n",
       " '5',\n",
       " '4',\n",
       " '5',\n",
       " '5',\n",
       " '5',\n",
       " '5',\n",
       " '4',\n",
       " '5',\n",
       " '5',\n",
       " '5',\n",
       " '4',\n",
       " '5',\n",
       " '5',\n",
       " '5',\n",
       " '5',\n",
       " '5',\n",
       " '4',\n",
       " '5',\n",
       " '5',\n",
       " '5',\n",
       " '4',\n",
       " '5',\n",
       " '5',\n",
       " '5',\n",
       " '5',\n",
       " '4',\n",
       " '5',\n",
       " '5',\n",
       " '5',\n",
       " '5',\n",
       " '5',\n",
       " '4',\n",
       " '5',\n",
       " '5',\n",
       " '5',\n",
       " '4',\n",
       " '5',\n",
       " '5',\n",
       " '5',\n",
       " '5',\n",
       " '5',\n",
       " '4',\n",
       " '5',\n",
       " '5',\n",
       " '5',\n",
       " '5',\n",
       " '4',\n",
       " '5',\n",
       " '5',\n",
       " '5',\n",
       " '4',\n",
       " '5']"
      ]
     },
     "execution_count": 22,
     "metadata": {},
     "output_type": "execute_result"
    }
   ],
   "source": [
    "rating"
   ]
  },
  {
   "cell_type": "code",
   "execution_count": 23,
   "id": "376fb39e",
   "metadata": {},
   "outputs": [],
   "source": [
    "# Getting 100 review summary for iphone 11\n",
    "start = 0\n",
    "end = 10\n",
    "for page in range(0,10):\n",
    "    review_tag = driver.find_elements(By.XPATH,'//p[@class=\"_2-N8zT\"]')\n",
    "    for i in review_tag:\n",
    "         review_summary.append(i.text)\n",
    "    next_button = driver.find_element(By.XPATH,'//a[@class=\"_1LKTO3\"]')\n",
    "    next_button.click()\n",
    "    time.sleep(11)"
   ]
  },
  {
   "cell_type": "code",
   "execution_count": 24,
   "id": "a61f1045",
   "metadata": {},
   "outputs": [
    {
     "data": {
      "text/plain": [
       "['Simply awesome',\n",
       " 'Perfect product!',\n",
       " 'Best in the market!',\n",
       " 'Value-for-money',\n",
       " 'Worth every penny',\n",
       " 'Highly recommended',\n",
       " 'Highly recommended',\n",
       " 'Perfect product!',\n",
       " 'Great product',\n",
       " 'Pretty good',\n",
       " 'Simply awesome',\n",
       " 'Perfect product!',\n",
       " 'Best in the market!',\n",
       " 'Value-for-money',\n",
       " 'Worth every penny',\n",
       " 'Highly recommended',\n",
       " 'Highly recommended',\n",
       " 'Perfect product!',\n",
       " 'Great product',\n",
       " 'Pretty good',\n",
       " 'Fabulous!',\n",
       " 'Classy product',\n",
       " 'Worth every penny',\n",
       " 'Perfect product!',\n",
       " 'Good choice',\n",
       " 'Perfect product!',\n",
       " 'Highly recommended',\n",
       " 'Perfect product!',\n",
       " 'Value-for-money',\n",
       " 'Highly recommended',\n",
       " 'Fabulous!',\n",
       " 'Classy product',\n",
       " 'Worth every penny',\n",
       " 'Perfect product!',\n",
       " 'Good choice',\n",
       " 'Perfect product!',\n",
       " 'Highly recommended',\n",
       " 'Perfect product!',\n",
       " 'Value-for-money',\n",
       " 'Highly recommended',\n",
       " 'Simply awesome',\n",
       " 'Perfect product!',\n",
       " 'Best in the market!',\n",
       " 'Value-for-money',\n",
       " 'Worth every penny',\n",
       " 'Highly recommended',\n",
       " 'Highly recommended',\n",
       " 'Perfect product!',\n",
       " 'Great product',\n",
       " 'Pretty good',\n",
       " 'Simply awesome',\n",
       " 'Perfect product!',\n",
       " 'Best in the market!',\n",
       " 'Value-for-money',\n",
       " 'Worth every penny',\n",
       " 'Highly recommended',\n",
       " 'Highly recommended',\n",
       " 'Perfect product!',\n",
       " 'Great product',\n",
       " 'Pretty good',\n",
       " 'Fabulous!',\n",
       " 'Classy product',\n",
       " 'Worth every penny',\n",
       " 'Perfect product!',\n",
       " 'Good choice',\n",
       " 'Perfect product!',\n",
       " 'Highly recommended',\n",
       " 'Perfect product!',\n",
       " 'Value-for-money',\n",
       " 'Highly recommended',\n",
       " 'Simply awesome',\n",
       " 'Perfect product!',\n",
       " 'Best in the market!',\n",
       " 'Value-for-money',\n",
       " 'Worth every penny',\n",
       " 'Highly recommended',\n",
       " 'Highly recommended',\n",
       " 'Perfect product!',\n",
       " 'Great product',\n",
       " 'Pretty good',\n",
       " 'Simply awesome',\n",
       " 'Perfect product!',\n",
       " 'Best in the market!',\n",
       " 'Value-for-money',\n",
       " 'Worth every penny',\n",
       " 'Highly recommended',\n",
       " 'Highly recommended',\n",
       " 'Perfect product!',\n",
       " 'Great product',\n",
       " 'Pretty good',\n",
       " 'Fabulous!',\n",
       " 'Classy product',\n",
       " 'Worth every penny',\n",
       " 'Perfect product!',\n",
       " 'Good choice',\n",
       " 'Perfect product!',\n",
       " 'Highly recommended',\n",
       " 'Perfect product!',\n",
       " 'Value-for-money',\n",
       " 'Highly recommended']"
      ]
     },
     "execution_count": 24,
     "metadata": {},
     "output_type": "execute_result"
    }
   ],
   "source": [
    "review_summary"
   ]
  },
  {
   "cell_type": "code",
   "execution_count": 25,
   "id": "a42975e3",
   "metadata": {},
   "outputs": [],
   "source": [
    "# Getting 100 full review for iphone 11\n",
    "start = 0\n",
    "end = 10\n",
    "for page in range(0,10):\n",
    "    full_tag = driver.find_elements(By.XPATH,'//div[@class=\"t-ZTKy\"]')\n",
    "    for i in full_tag:\n",
    "         full_review.append(i.text)\n",
    "    next_button = driver.find_element(By.XPATH,'//a[@class=\"_1LKTO3\"]')\n",
    "    next_button.click()\n",
    "    time.sleep(11)"
   ]
  },
  {
   "cell_type": "code",
   "execution_count": 26,
   "id": "f3dbedee",
   "metadata": {},
   "outputs": [
    {
     "data": {
      "text/plain": [
       "['Really satisfied with the Product I received... It’s totally genuine and the packaging was also really good so if ur planning to buy just go for it.',\n",
       " 'Amazing phone with great cameras and better battery which gives you the best performance. I just love the camera .',\n",
       " 'Great iPhone very snappy experience as apple kind. Upgraded from iPhone 7.\\nPros\\n-Camera top class\\n- Battery top performed\\n-Chipset no need to say as apple kind\\n-Security as you expect from apple\\n- Display super bright industry leading colour\\naccuracy and super responsive\\n-Build quality as expect from apple sturdy\\npremium durable beautiful stylish.\\n-Os most stable os in smartphone industry\\n\\nCons\\n-No 5G\\n-Display is not based on OLED technology\\n-Charger headphones and 1 apple stic...\\nREAD MORE',\n",
       " \"I'm Really happy with the product\\nDelivery was fast as well\\n..it was a gift for my sister and she loved it so much.\",\n",
       " 'Previously I was using one plus 3t it was a great phone\\nAnd then I decided to upgrade I am stuck between Samsung s10 plus or iPhone 11\\nI have seen the specs and everything were good except the display it’s somewhere between 720-1080 and it’s not even an amoled it’s an LCD display\\nBut I decided to go with iPhone because I have never used an IOS device I have Been an android user from the past 9 years I ordered IPhone 11 (128gb) product red\\nMy experience after using 3 weeks\\n1. The delivery ...\\nREAD MORE',\n",
       " \"It's my first time to use iOS phone and I am loving my upgradation 😍😍 I love the color, I love the assebility of the phone....I need to learn more about its functionality, but as far as I have seen, it's quite easy and it has a lot of functions to work on, specially if you are a content writer or a blogger you get a lot of content creation platforms and they are really amazing.\\n\\nThis phone not only for good quality photography but a lot of other task too.😍💯\",\n",
       " 'What a camera .....just awesome ..you can feel this iPhone just awesome . Good for gaming also ...try pubg in hd it’s just wow',\n",
       " 'Value for money\\n5 star rating\\nExcellent camera\\nBattery backup full day in single charge.\\n\\nTougher and water resistant design, glossy back.\\nThe screen has excellent brightness and contrast.\\nApple A13 Bionic is the fastest smartphone chip on the planet.\\nExcellent battery life, fast charging support.\\nStereo speakers with great quality.',\n",
       " 'Amazing Powerful and Durable Gadget.\\n\\nI’m am very happy with the camera picture quality, Amazing face id unlocked in dark room, Strong battery with perfect screen size as you can carry easily in pocket. This is my third iPhone.\\n\\nI shifted from android Samsung Note series to iPhone because of the strong build quality and peace of mind for next 3-4 years.\\n\\nDon’t think to much just go for it and I suggest you to go for minimum 128gb variant or more 256gb.\\n\\nI’ve attached my puppy pics and no fi...\\nREAD MORE',\n",
       " 'I was using Iphone 6s and also Oneplus 6t. Both mobiles were perfectly alright in Photos, gaming, and smooth interface . My 6s mobile getting battery issue. thought upgrade to 11. Really like this mobile of its Internal storage (compare to 6s) , camera and its touch feeling. Its a worth buying mobile for me.',\n",
       " 'This is my first iOS phone. I am very happy with this product. Very much satisfied with this. I love this phone.',\n",
       " 'Best and amazing product.....phone looks so premium.... battary is also good as expected .... Wide angle camera is so addictive ...if you are a IOS lover....then this phone will be the best choice for you all!!💯🔥',\n",
       " 'i11 is worthy to buy, too much happy with the product. Thank u flipkart I received the item on time..loved it..',\n",
       " 'It’s a must buy who is looking for an upgrade from previous generation of iPhones. If you are using XR then still you can hold on for sometime and upgrade to 2020 model else this phone is a must buy . Camera quality is amazing and wide angle is something to count upon. Performance wise it’s amazing and feels premium while holding in hand. So a big YES for this device. Go for 128 GB variant as the 4K videos will occupy lots of space and the storage can get over very quickly. Try to buy it with...\\nREAD MORE',\n",
       " 'So far it’s been an AMAZING experience coming back to iOS after nearly a decade but it’s not as versatile as android though phone is sturdy dropped it accidentally a couple of times and nothing happened fortunately camera is awesome',\n",
       " 'Value for money❤️❤️\\nIts awesome mobile phone in the world ...\\nDisplay was very good and bright ..\\nTrust me freinds you r never regret after Buying..\\nJust go for it....\\nI love this phone and i switch to iphone x to 11',\n",
       " 'iphone 11 is a very good phone to buy only if you can compromise for the display. The display on this is device is pretty good but you can get other options with better displays in this price segment.\\nIf you can survive with an HD+ LCD panel with thicker bezels and a notch up top then this is a very good phone for you.\\nCameras are awesome, battery backup excellent, great performance and a decent premium look. Good job Apple !',\n",
       " 'It is just awesome mobile for this price from Apple,\\n\\nAfter 10 days review\\n\\nBattery enough for 1 day even 24*7 Internet will be on and mostly internet usage\\n\\nCamera is just awesome cool , android 64 MP is equal to this just 12 MP\\n\\nA13 Bionic chip will give more high performance without hanging\\n\\nAudio stereo speakers will give Dolby atoms sound with crystal clear\\n\\nVideo recording is like cinematic shots of every sec can be a 4K 60fps. Just awesome this phone\\niPhone 11 loved one',\n",
       " \"Just got this iphone 11\\nAnd it is most powerful mobile phone I have used ever\\n\\nSo,go for it if you want a phone with best specification like camera,battery backup,display, A13 bionic chip\\n\\nThat's my review about this phone but yours can be differ from me....\",\n",
       " 'Amazing camera quality as expected, battery also has very good performance. Display, body, and touch experience is the best I’ve ever had. Sound quality of speakers is more than sufficient. Apple is known for it’s customer friendly security services and I can see it how. The A13 processor is the best in its work. So I would definitely recommend it for everyone who are looking for it, just go for it without delay.\\n\\nThe most amazing thing it the delivery. Flipkart has delivered it in the span ...\\nREAD MORE',\n",
       " 'This is my first iOS phone. I am very happy with this product. Very much satisfied with this. I love this phone.',\n",
       " 'Best and amazing product.....phone looks so premium.... battary is also good as expected .... Wide angle camera is so addictive ...if you are a IOS lover....then this phone will be the best choice for you all!!💯🔥',\n",
       " 'i11 is worthy to buy, too much happy with the product. Thank u flipkart I received the item on time..loved it..',\n",
       " 'It’s a must buy who is looking for an upgrade from previous generation of iPhones. If you are using XR then still you can hold on for sometime and upgrade to 2020 model else this phone is a must buy . Camera quality is amazing and wide angle is something to count upon. Performance wise it’s amazing and feels premium while holding in hand. So a big YES for this device. Go for 128 GB variant as the 4K videos will occupy lots of space and the storage can get over very quickly. Try to buy it with...\\nREAD MORE',\n",
       " 'So far it’s been an AMAZING experience coming back to iOS after nearly a decade but it’s not as versatile as android though phone is sturdy dropped it accidentally a couple of times and nothing happened fortunately camera is awesome',\n",
       " 'Value for money❤️❤️\\nIts awesome mobile phone in the world ...\\nDisplay was very good and bright ..\\nTrust me freinds you r never regret after Buying..\\nJust go for it....\\nI love this phone and i switch to iphone x to 11',\n",
       " 'iphone 11 is a very good phone to buy only if you can compromise for the display. The display on this is device is pretty good but you can get other options with better displays in this price segment.\\nIf you can survive with an HD+ LCD panel with thicker bezels and a notch up top then this is a very good phone for you.\\nCameras are awesome, battery backup excellent, great performance and a decent premium look. Good job Apple !',\n",
       " 'It is just awesome mobile for this price from Apple,\\n\\nAfter 10 days review\\n\\nBattery enough for 1 day even 24*7 Internet will be on and mostly internet usage\\n\\nCamera is just awesome cool , android 64 MP is equal to this just 12 MP\\n\\nA13 Bionic chip will give more high performance without hanging\\n\\nAudio stereo speakers will give Dolby atoms sound with crystal clear\\n\\nVideo recording is like cinematic shots of every sec can be a 4K 60fps. Just awesome this phone\\niPhone 11 loved one',\n",
       " \"Just got this iphone 11\\nAnd it is most powerful mobile phone I have used ever\\n\\nSo,go for it if you want a phone with best specification like camera,battery backup,display, A13 bionic chip\\n\\nThat's my review about this phone but yours can be differ from me....\",\n",
       " 'Amazing camera quality as expected, battery also has very good performance. Display, body, and touch experience is the best I’ve ever had. Sound quality of speakers is more than sufficient. Apple is known for it’s customer friendly security services and I can see it how. The A13 processor is the best in its work. So I would definitely recommend it for everyone who are looking for it, just go for it without delay.\\n\\nThe most amazing thing it the delivery. Flipkart has delivered it in the span ...\\nREAD MORE',\n",
       " 'Really satisfied with the Product I received... It’s totally genuine and the packaging was also really good so if ur planning to buy just go for it.',\n",
       " 'Amazing phone with great cameras and better battery which gives you the best performance. I just love the camera .',\n",
       " 'Great iPhone very snappy experience as apple kind. Upgraded from iPhone 7.\\nPros\\n-Camera top class\\n- Battery top performed\\n-Chipset no need to say as apple kind\\n-Security as you expect from apple\\n- Display super bright industry leading colour\\naccuracy and super responsive\\n-Build quality as expect from apple sturdy\\npremium durable beautiful stylish.\\n-Os most stable os in smartphone industry\\n\\nCons\\n-No 5G\\n-Display is not based on OLED technology\\n-Charger headphones and 1 apple stic...\\nREAD MORE',\n",
       " \"I'm Really happy with the product\\nDelivery was fast as well\\n..it was a gift for my sister and she loved it so much.\",\n",
       " 'Previously I was using one plus 3t it was a great phone\\nAnd then I decided to upgrade I am stuck between Samsung s10 plus or iPhone 11\\nI have seen the specs and everything were good except the display it’s somewhere between 720-1080 and it’s not even an amoled it’s an LCD display\\nBut I decided to go with iPhone because I have never used an IOS device I have Been an android user from the past 9 years I ordered IPhone 11 (128gb) product red\\nMy experience after using 3 weeks\\n1. The delivery ...\\nREAD MORE',\n",
       " \"It's my first time to use iOS phone and I am loving my upgradation 😍😍 I love the color, I love the assebility of the phone....I need to learn more about its functionality, but as far as I have seen, it's quite easy and it has a lot of functions to work on, specially if you are a content writer or a blogger you get a lot of content creation platforms and they are really amazing.\\n\\nThis phone not only for good quality photography but a lot of other task too.😍💯\",\n",
       " 'What a camera .....just awesome ..you can feel this iPhone just awesome . Good for gaming also ...try pubg in hd it’s just wow',\n",
       " 'Value for money\\n5 star rating\\nExcellent camera\\nBattery backup full day in single charge.\\n\\nTougher and water resistant design, glossy back.\\nThe screen has excellent brightness and contrast.\\nApple A13 Bionic is the fastest smartphone chip on the planet.\\nExcellent battery life, fast charging support.\\nStereo speakers with great quality.',\n",
       " 'Amazing Powerful and Durable Gadget.\\n\\nI’m am very happy with the camera picture quality, Amazing face id unlocked in dark room, Strong battery with perfect screen size as you can carry easily in pocket. This is my third iPhone.\\n\\nI shifted from android Samsung Note series to iPhone because of the strong build quality and peace of mind for next 3-4 years.\\n\\nDon’t think to much just go for it and I suggest you to go for minimum 128gb variant or more 256gb.\\n\\nI’ve attached my puppy pics and no fi...\\nREAD MORE',\n",
       " 'I was using Iphone 6s and also Oneplus 6t. Both mobiles were perfectly alright in Photos, gaming, and smooth interface . My 6s mobile getting battery issue. thought upgrade to 11. Really like this mobile of its Internal storage (compare to 6s) , camera and its touch feeling. Its a worth buying mobile for me.',\n",
       " 'Really satisfied with the Product I received... It’s totally genuine and the packaging was also really good so if ur planning to buy just go for it.',\n",
       " 'Amazing phone with great cameras and better battery which gives you the best performance. I just love the camera .',\n",
       " 'Great iPhone very snappy experience as apple kind. Upgraded from iPhone 7.\\nPros\\n-Camera top class\\n- Battery top performed\\n-Chipset no need to say as apple kind\\n-Security as you expect from apple\\n- Display super bright industry leading colour\\naccuracy and super responsive\\n-Build quality as expect from apple sturdy\\npremium durable beautiful stylish.\\n-Os most stable os in smartphone industry\\n\\nCons\\n-No 5G\\n-Display is not based on OLED technology\\n-Charger headphones and 1 apple stic...\\nREAD MORE',\n",
       " \"I'm Really happy with the product\\nDelivery was fast as well\\n..it was a gift for my sister and she loved it so much.\",\n",
       " 'Previously I was using one plus 3t it was a great phone\\nAnd then I decided to upgrade I am stuck between Samsung s10 plus or iPhone 11\\nI have seen the specs and everything were good except the display it’s somewhere between 720-1080 and it’s not even an amoled it’s an LCD display\\nBut I decided to go with iPhone because I have never used an IOS device I have Been an android user from the past 9 years I ordered IPhone 11 (128gb) product red\\nMy experience after using 3 weeks\\n1. The delivery ...\\nREAD MORE',\n",
       " \"It's my first time to use iOS phone and I am loving my upgradation 😍😍 I love the color, I love the assebility of the phone....I need to learn more about its functionality, but as far as I have seen, it's quite easy and it has a lot of functions to work on, specially if you are a content writer or a blogger you get a lot of content creation platforms and they are really amazing.\\n\\nThis phone not only for good quality photography but a lot of other task too.😍💯\",\n",
       " 'What a camera .....just awesome ..you can feel this iPhone just awesome . Good for gaming also ...try pubg in hd it’s just wow',\n",
       " 'Value for money\\n5 star rating\\nExcellent camera\\nBattery backup full day in single charge.\\n\\nTougher and water resistant design, glossy back.\\nThe screen has excellent brightness and contrast.\\nApple A13 Bionic is the fastest smartphone chip on the planet.\\nExcellent battery life, fast charging support.\\nStereo speakers with great quality.',\n",
       " 'Amazing Powerful and Durable Gadget.\\n\\nI’m am very happy with the camera picture quality, Amazing face id unlocked in dark room, Strong battery with perfect screen size as you can carry easily in pocket. This is my third iPhone.\\n\\nI shifted from android Samsung Note series to iPhone because of the strong build quality and peace of mind for next 3-4 years.\\n\\nDon’t think to much just go for it and I suggest you to go for minimum 128gb variant or more 256gb.\\n\\nI’ve attached my puppy pics and no fi...\\nREAD MORE',\n",
       " 'I was using Iphone 6s and also Oneplus 6t. Both mobiles were perfectly alright in Photos, gaming, and smooth interface . My 6s mobile getting battery issue. thought upgrade to 11. Really like this mobile of its Internal storage (compare to 6s) , camera and its touch feeling. Its a worth buying mobile for me.',\n",
       " 'This is my first iOS phone. I am very happy with this product. Very much satisfied with this. I love this phone.',\n",
       " 'Best and amazing product.....phone looks so premium.... battary is also good as expected .... Wide angle camera is so addictive ...if you are a IOS lover....then this phone will be the best choice for you all!!💯🔥',\n",
       " 'i11 is worthy to buy, too much happy with the product. Thank u flipkart I received the item on time..loved it..',\n",
       " 'It’s a must buy who is looking for an upgrade from previous generation of iPhones. If you are using XR then still you can hold on for sometime and upgrade to 2020 model else this phone is a must buy . Camera quality is amazing and wide angle is something to count upon. Performance wise it’s amazing and feels premium while holding in hand. So a big YES for this device. Go for 128 GB variant as the 4K videos will occupy lots of space and the storage can get over very quickly. Try to buy it with...\\nREAD MORE',\n",
       " 'So far it’s been an AMAZING experience coming back to iOS after nearly a decade but it’s not as versatile as android though phone is sturdy dropped it accidentally a couple of times and nothing happened fortunately camera is awesome',\n",
       " 'Value for money❤️❤️\\nIts awesome mobile phone in the world ...\\nDisplay was very good and bright ..\\nTrust me freinds you r never regret after Buying..\\nJust go for it....\\nI love this phone and i switch to iphone x to 11',\n",
       " 'iphone 11 is a very good phone to buy only if you can compromise for the display. The display on this is device is pretty good but you can get other options with better displays in this price segment.\\nIf you can survive with an HD+ LCD panel with thicker bezels and a notch up top then this is a very good phone for you.\\nCameras are awesome, battery backup excellent, great performance and a decent premium look. Good job Apple !',\n",
       " 'It is just awesome mobile for this price from Apple,\\n\\nAfter 10 days review\\n\\nBattery enough for 1 day even 24*7 Internet will be on and mostly internet usage\\n\\nCamera is just awesome cool , android 64 MP is equal to this just 12 MP\\n\\nA13 Bionic chip will give more high performance without hanging\\n\\nAudio stereo speakers will give Dolby atoms sound with crystal clear\\n\\nVideo recording is like cinematic shots of every sec can be a 4K 60fps. Just awesome this phone\\niPhone 11 loved one',\n",
       " \"Just got this iphone 11\\nAnd it is most powerful mobile phone I have used ever\\n\\nSo,go for it if you want a phone with best specification like camera,battery backup,display, A13 bionic chip\\n\\nThat's my review about this phone but yours can be differ from me....\",\n",
       " 'Amazing camera quality as expected, battery also has very good performance. Display, body, and touch experience is the best I’ve ever had. Sound quality of speakers is more than sufficient. Apple is known for it’s customer friendly security services and I can see it how. The A13 processor is the best in its work. So I would definitely recommend it for everyone who are looking for it, just go for it without delay.\\n\\nThe most amazing thing it the delivery. Flipkart has delivered it in the span ...\\nREAD MORE',\n",
       " 'This is my first iOS phone. I am very happy with this product. Very much satisfied with this. I love this phone.',\n",
       " 'Best and amazing product.....phone looks so premium.... battary is also good as expected .... Wide angle camera is so addictive ...if you are a IOS lover....then this phone will be the best choice for you all!!💯🔥',\n",
       " 'i11 is worthy to buy, too much happy with the product. Thank u flipkart I received the item on time..loved it..',\n",
       " 'It’s a must buy who is looking for an upgrade from previous generation of iPhones. If you are using XR then still you can hold on for sometime and upgrade to 2020 model else this phone is a must buy . Camera quality is amazing and wide angle is something to count upon. Performance wise it’s amazing and feels premium while holding in hand. So a big YES for this device. Go for 128 GB variant as the 4K videos will occupy lots of space and the storage can get over very quickly. Try to buy it with...\\nREAD MORE',\n",
       " 'So far it’s been an AMAZING experience coming back to iOS after nearly a decade but it’s not as versatile as android though phone is sturdy dropped it accidentally a couple of times and nothing happened fortunately camera is awesome',\n",
       " 'Value for money❤️❤️\\nIts awesome mobile phone in the world ...\\nDisplay was very good and bright ..\\nTrust me freinds you r never regret after Buying..\\nJust go for it....\\nI love this phone and i switch to iphone x to 11',\n",
       " 'iphone 11 is a very good phone to buy only if you can compromise for the display. The display on this is device is pretty good but you can get other options with better displays in this price segment.\\nIf you can survive with an HD+ LCD panel with thicker bezels and a notch up top then this is a very good phone for you.\\nCameras are awesome, battery backup excellent, great performance and a decent premium look. Good job Apple !',\n",
       " 'It is just awesome mobile for this price from Apple,\\n\\nAfter 10 days review\\n\\nBattery enough for 1 day even 24*7 Internet will be on and mostly internet usage\\n\\nCamera is just awesome cool , android 64 MP is equal to this just 12 MP\\n\\nA13 Bionic chip will give more high performance without hanging\\n\\nAudio stereo speakers will give Dolby atoms sound with crystal clear\\n\\nVideo recording is like cinematic shots of every sec can be a 4K 60fps. Just awesome this phone\\niPhone 11 loved one',\n",
       " \"Just got this iphone 11\\nAnd it is most powerful mobile phone I have used ever\\n\\nSo,go for it if you want a phone with best specification like camera,battery backup,display, A13 bionic chip\\n\\nThat's my review about this phone but yours can be differ from me....\",\n",
       " 'Amazing camera quality as expected, battery also has very good performance. Display, body, and touch experience is the best I’ve ever had. Sound quality of speakers is more than sufficient. Apple is known for it’s customer friendly security services and I can see it how. The A13 processor is the best in its work. So I would definitely recommend it for everyone who are looking for it, just go for it without delay.\\n\\nThe most amazing thing it the delivery. Flipkart has delivered it in the span ...\\nREAD MORE',\n",
       " 'Really satisfied with the Product I received... It’s totally genuine and the packaging was also really good so if ur planning to buy just go for it.',\n",
       " 'Amazing phone with great cameras and better battery which gives you the best performance. I just love the camera .',\n",
       " 'Great iPhone very snappy experience as apple kind. Upgraded from iPhone 7.\\nPros\\n-Camera top class\\n- Battery top performed\\n-Chipset no need to say as apple kind\\n-Security as you expect from apple\\n- Display super bright industry leading colour\\naccuracy and super responsive\\n-Build quality as expect from apple sturdy\\npremium durable beautiful stylish.\\n-Os most stable os in smartphone industry\\n\\nCons\\n-No 5G\\n-Display is not based on OLED technology\\n-Charger headphones and 1 apple stic...\\nREAD MORE',\n",
       " \"I'm Really happy with the product\\nDelivery was fast as well\\n..it was a gift for my sister and she loved it so much.\",\n",
       " 'Previously I was using one plus 3t it was a great phone\\nAnd then I decided to upgrade I am stuck between Samsung s10 plus or iPhone 11\\nI have seen the specs and everything were good except the display it’s somewhere between 720-1080 and it’s not even an amoled it’s an LCD display\\nBut I decided to go with iPhone because I have never used an IOS device I have Been an android user from the past 9 years I ordered IPhone 11 (128gb) product red\\nMy experience after using 3 weeks\\n1. The delivery ...\\nREAD MORE',\n",
       " \"It's my first time to use iOS phone and I am loving my upgradation 😍😍 I love the color, I love the assebility of the phone....I need to learn more about its functionality, but as far as I have seen, it's quite easy and it has a lot of functions to work on, specially if you are a content writer or a blogger you get a lot of content creation platforms and they are really amazing.\\n\\nThis phone not only for good quality photography but a lot of other task too.😍💯\",\n",
       " 'What a camera .....just awesome ..you can feel this iPhone just awesome . Good for gaming also ...try pubg in hd it’s just wow',\n",
       " 'Value for money\\n5 star rating\\nExcellent camera\\nBattery backup full day in single charge.\\n\\nTougher and water resistant design, glossy back.\\nThe screen has excellent brightness and contrast.\\nApple A13 Bionic is the fastest smartphone chip on the planet.\\nExcellent battery life, fast charging support.\\nStereo speakers with great quality.',\n",
       " 'Amazing Powerful and Durable Gadget.\\n\\nI’m am very happy with the camera picture quality, Amazing face id unlocked in dark room, Strong battery with perfect screen size as you can carry easily in pocket. This is my third iPhone.\\n\\nI shifted from android Samsung Note series to iPhone because of the strong build quality and peace of mind for next 3-4 years.\\n\\nDon’t think to much just go for it and I suggest you to go for minimum 128gb variant or more 256gb.\\n\\nI’ve attached my puppy pics and no fi...\\nREAD MORE',\n",
       " 'I was using Iphone 6s and also Oneplus 6t. Both mobiles were perfectly alright in Photos, gaming, and smooth interface . My 6s mobile getting battery issue. thought upgrade to 11. Really like this mobile of its Internal storage (compare to 6s) , camera and its touch feeling. Its a worth buying mobile for me.',\n",
       " 'Really satisfied with the Product I received... It’s totally genuine and the packaging was also really good so if ur planning to buy just go for it.',\n",
       " 'Amazing phone with great cameras and better battery which gives you the best performance. I just love the camera .',\n",
       " 'Great iPhone very snappy experience as apple kind. Upgraded from iPhone 7.\\nPros\\n-Camera top class\\n- Battery top performed\\n-Chipset no need to say as apple kind\\n-Security as you expect from apple\\n- Display super bright industry leading colour\\naccuracy and super responsive\\n-Build quality as expect from apple sturdy\\npremium durable beautiful stylish.\\n-Os most stable os in smartphone industry\\n\\nCons\\n-No 5G\\n-Display is not based on OLED technology\\n-Charger headphones and 1 apple stic...\\nREAD MORE',\n",
       " \"I'm Really happy with the product\\nDelivery was fast as well\\n..it was a gift for my sister and she loved it so much.\",\n",
       " 'Previously I was using one plus 3t it was a great phone\\nAnd then I decided to upgrade I am stuck between Samsung s10 plus or iPhone 11\\nI have seen the specs and everything were good except the display it’s somewhere between 720-1080 and it’s not even an amoled it’s an LCD display\\nBut I decided to go with iPhone because I have never used an IOS device I have Been an android user from the past 9 years I ordered IPhone 11 (128gb) product red\\nMy experience after using 3 weeks\\n1. The delivery ...\\nREAD MORE',\n",
       " \"It's my first time to use iOS phone and I am loving my upgradation 😍😍 I love the color, I love the assebility of the phone....I need to learn more about its functionality, but as far as I have seen, it's quite easy and it has a lot of functions to work on, specially if you are a content writer or a blogger you get a lot of content creation platforms and they are really amazing.\\n\\nThis phone not only for good quality photography but a lot of other task too.😍💯\",\n",
       " 'What a camera .....just awesome ..you can feel this iPhone just awesome . Good for gaming also ...try pubg in hd it’s just wow',\n",
       " 'Value for money\\n5 star rating\\nExcellent camera\\nBattery backup full day in single charge.\\n\\nTougher and water resistant design, glossy back.\\nThe screen has excellent brightness and contrast.\\nApple A13 Bionic is the fastest smartphone chip on the planet.\\nExcellent battery life, fast charging support.\\nStereo speakers with great quality.',\n",
       " 'Amazing Powerful and Durable Gadget.\\n\\nI’m am very happy with the camera picture quality, Amazing face id unlocked in dark room, Strong battery with perfect screen size as you can carry easily in pocket. This is my third iPhone.\\n\\nI shifted from android Samsung Note series to iPhone because of the strong build quality and peace of mind for next 3-4 years.\\n\\nDon’t think to much just go for it and I suggest you to go for minimum 128gb variant or more 256gb.\\n\\nI’ve attached my puppy pics and no fi...\\nREAD MORE',\n",
       " 'I was using Iphone 6s and also Oneplus 6t. Both mobiles were perfectly alright in Photos, gaming, and smooth interface . My 6s mobile getting battery issue. thought upgrade to 11. Really like this mobile of its Internal storage (compare to 6s) , camera and its touch feeling. Its a worth buying mobile for me.',\n",
       " 'This is my first iOS phone. I am very happy with this product. Very much satisfied with this. I love this phone.',\n",
       " 'Best and amazing product.....phone looks so premium.... battary is also good as expected .... Wide angle camera is so addictive ...if you are a IOS lover....then this phone will be the best choice for you all!!💯🔥',\n",
       " 'i11 is worthy to buy, too much happy with the product. Thank u flipkart I received the item on time..loved it..',\n",
       " 'It’s a must buy who is looking for an upgrade from previous generation of iPhones. If you are using XR then still you can hold on for sometime and upgrade to 2020 model else this phone is a must buy . Camera quality is amazing and wide angle is something to count upon. Performance wise it’s amazing and feels premium while holding in hand. So a big YES for this device. Go for 128 GB variant as the 4K videos will occupy lots of space and the storage can get over very quickly. Try to buy it with...\\nREAD MORE',\n",
       " 'So far it’s been an AMAZING experience coming back to iOS after nearly a decade but it’s not as versatile as android though phone is sturdy dropped it accidentally a couple of times and nothing happened fortunately camera is awesome',\n",
       " 'Value for money❤️❤️\\nIts awesome mobile phone in the world ...\\nDisplay was very good and bright ..\\nTrust me freinds you r never regret after Buying..\\nJust go for it....\\nI love this phone and i switch to iphone x to 11',\n",
       " 'iphone 11 is a very good phone to buy only if you can compromise for the display. The display on this is device is pretty good but you can get other options with better displays in this price segment.\\nIf you can survive with an HD+ LCD panel with thicker bezels and a notch up top then this is a very good phone for you.\\nCameras are awesome, battery backup excellent, great performance and a decent premium look. Good job Apple !',\n",
       " 'It is just awesome mobile for this price from Apple,\\n\\nAfter 10 days review\\n\\nBattery enough for 1 day even 24*7 Internet will be on and mostly internet usage\\n\\nCamera is just awesome cool , android 64 MP is equal to this just 12 MP\\n\\nA13 Bionic chip will give more high performance without hanging\\n\\nAudio stereo speakers will give Dolby atoms sound with crystal clear\\n\\nVideo recording is like cinematic shots of every sec can be a 4K 60fps. Just awesome this phone\\niPhone 11 loved one',\n",
       " \"Just got this iphone 11\\nAnd it is most powerful mobile phone I have used ever\\n\\nSo,go for it if you want a phone with best specification like camera,battery backup,display, A13 bionic chip\\n\\nThat's my review about this phone but yours can be differ from me....\",\n",
       " 'Amazing camera quality as expected, battery also has very good performance. Display, body, and touch experience is the best I’ve ever had. Sound quality of speakers is more than sufficient. Apple is known for it’s customer friendly security services and I can see it how. The A13 processor is the best in its work. So I would definitely recommend it for everyone who are looking for it, just go for it without delay.\\n\\nThe most amazing thing it the delivery. Flipkart has delivered it in the span ...\\nREAD MORE']"
      ]
     },
     "execution_count": 26,
     "metadata": {},
     "output_type": "execute_result"
    }
   ],
   "source": [
    "full_review"
   ]
  },
  {
   "cell_type": "code",
   "execution_count": 27,
   "id": "8dfcbb75",
   "metadata": {},
   "outputs": [
    {
     "name": "stdout",
     "output_type": "stream",
     "text": [
      "100 100 100\n"
     ]
    }
   ],
   "source": [
    "print(len(rating),len(review_summary),len(full_review))"
   ]
  },
  {
   "cell_type": "code",
   "execution_count": 28,
   "id": "973090ac",
   "metadata": {},
   "outputs": [
    {
     "data": {
      "text/html": [
       "<div>\n",
       "<style scoped>\n",
       "    .dataframe tbody tr th:only-of-type {\n",
       "        vertical-align: middle;\n",
       "    }\n",
       "\n",
       "    .dataframe tbody tr th {\n",
       "        vertical-align: top;\n",
       "    }\n",
       "\n",
       "    .dataframe thead th {\n",
       "        text-align: right;\n",
       "    }\n",
       "</style>\n",
       "<table border=\"1\" class=\"dataframe\">\n",
       "  <thead>\n",
       "    <tr style=\"text-align: right;\">\n",
       "      <th></th>\n",
       "      <th>Rating</th>\n",
       "      <th>Review_Summary</th>\n",
       "      <th>Full_Review</th>\n",
       "    </tr>\n",
       "  </thead>\n",
       "  <tbody>\n",
       "    <tr>\n",
       "      <th>0</th>\n",
       "      <td>5</td>\n",
       "      <td>Simply awesome</td>\n",
       "      <td>Really satisfied with the Product I received.....</td>\n",
       "    </tr>\n",
       "    <tr>\n",
       "      <th>1</th>\n",
       "      <td>5</td>\n",
       "      <td>Perfect product!</td>\n",
       "      <td>Amazing phone with great cameras and better ba...</td>\n",
       "    </tr>\n",
       "    <tr>\n",
       "      <th>2</th>\n",
       "      <td>5</td>\n",
       "      <td>Best in the market!</td>\n",
       "      <td>Great iPhone very snappy experience as apple k...</td>\n",
       "    </tr>\n",
       "    <tr>\n",
       "      <th>3</th>\n",
       "      <td>4</td>\n",
       "      <td>Value-for-money</td>\n",
       "      <td>I'm Really happy with the product\\nDelivery wa...</td>\n",
       "    </tr>\n",
       "    <tr>\n",
       "      <th>4</th>\n",
       "      <td>5</td>\n",
       "      <td>Worth every penny</td>\n",
       "      <td>Previously I was using one plus 3t it was a gr...</td>\n",
       "    </tr>\n",
       "    <tr>\n",
       "      <th>...</th>\n",
       "      <td>...</td>\n",
       "      <td>...</td>\n",
       "      <td>...</td>\n",
       "    </tr>\n",
       "    <tr>\n",
       "      <th>95</th>\n",
       "      <td>5</td>\n",
       "      <td>Perfect product!</td>\n",
       "      <td>Value for money❤️❤️\\nIts awesome mobile phone ...</td>\n",
       "    </tr>\n",
       "    <tr>\n",
       "      <th>96</th>\n",
       "      <td>5</td>\n",
       "      <td>Highly recommended</td>\n",
       "      <td>iphone 11 is a very good phone to buy only if ...</td>\n",
       "    </tr>\n",
       "    <tr>\n",
       "      <th>97</th>\n",
       "      <td>5</td>\n",
       "      <td>Perfect product!</td>\n",
       "      <td>It is just awesome mobile for this price from ...</td>\n",
       "    </tr>\n",
       "    <tr>\n",
       "      <th>98</th>\n",
       "      <td>4</td>\n",
       "      <td>Value-for-money</td>\n",
       "      <td>Just got this iphone 11\\nAnd it is most powerf...</td>\n",
       "    </tr>\n",
       "    <tr>\n",
       "      <th>99</th>\n",
       "      <td>5</td>\n",
       "      <td>Highly recommended</td>\n",
       "      <td>Amazing camera quality as expected, battery al...</td>\n",
       "    </tr>\n",
       "  </tbody>\n",
       "</table>\n",
       "<p>100 rows × 3 columns</p>\n",
       "</div>"
      ],
      "text/plain": [
       "   Rating       Review_Summary  \\\n",
       "0       5       Simply awesome   \n",
       "1       5     Perfect product!   \n",
       "2       5  Best in the market!   \n",
       "3       4      Value-for-money   \n",
       "4       5    Worth every penny   \n",
       "..    ...                  ...   \n",
       "95      5     Perfect product!   \n",
       "96      5   Highly recommended   \n",
       "97      5     Perfect product!   \n",
       "98      4      Value-for-money   \n",
       "99      5   Highly recommended   \n",
       "\n",
       "                                          Full_Review  \n",
       "0   Really satisfied with the Product I received.....  \n",
       "1   Amazing phone with great cameras and better ba...  \n",
       "2   Great iPhone very snappy experience as apple k...  \n",
       "3   I'm Really happy with the product\\nDelivery wa...  \n",
       "4   Previously I was using one plus 3t it was a gr...  \n",
       "..                                                ...  \n",
       "95  Value for money❤️❤️\\nIts awesome mobile phone ...  \n",
       "96  iphone 11 is a very good phone to buy only if ...  \n",
       "97  It is just awesome mobile for this price from ...  \n",
       "98  Just got this iphone 11\\nAnd it is most powerf...  \n",
       "99  Amazing camera quality as expected, battery al...  \n",
       "\n",
       "[100 rows x 3 columns]"
      ]
     },
     "execution_count": 28,
     "metadata": {},
     "output_type": "execute_result"
    }
   ],
   "source": [
    "# creating DatFrame for iphone reviews\n",
    "\n",
    "df = pd.DataFrame({\"Rating\":rating,\"Review_Summary\":review_summary,\"Full_Review\":full_review})\n",
    "df"
   ]
  },
  {
   "cell_type": "code",
   "execution_count": null,
   "id": "0d56196e",
   "metadata": {},
   "outputs": [],
   "source": []
  },
  {
   "cell_type": "markdown",
   "id": "376a6bd2",
   "metadata": {},
   "source": [
    "# Q6. Scrape data for first 100 sneakers from flipkart"
   ]
  },
  {
   "cell_type": "code",
   "execution_count": 149,
   "id": "879f74ee",
   "metadata": {},
   "outputs": [],
   "source": [
    "# Connecting to the driver\n",
    "driver = webdriver.Chrome(r\"C:\\Users\\navee\\Downloads\\chromedriver_win32\\chromedriver.exe\")"
   ]
  },
  {
   "cell_type": "code",
   "execution_count": 150,
   "id": "0695ade1",
   "metadata": {},
   "outputs": [],
   "source": [
    "# Opening Flipkart Page\n",
    "driver.get(\"https://www.flipkart.com\")"
   ]
  },
  {
   "cell_type": "code",
   "execution_count": 151,
   "id": "32f63872",
   "metadata": {},
   "outputs": [],
   "source": [
    "# searching sneakers\n",
    "designation = driver.find_element(By.CLASS_NAME,\"_3704LK\")\n",
    "designation.send_keys('sneakers')"
   ]
  },
  {
   "cell_type": "code",
   "execution_count": 152,
   "id": "20342cc2",
   "metadata": {},
   "outputs": [],
   "source": [
    "search = driver.find_element(By.CLASS_NAME,\"L0Z3Pu\")\n",
    "search.click()"
   ]
  },
  {
   "cell_type": "code",
   "execution_count": 153,
   "id": "b61db42f",
   "metadata": {},
   "outputs": [],
   "source": [
    "# Sorting webpage sneakers result by popularity as the data are shuffling due to advertisement\n",
    "\n",
    "sort1 = driver.find_element(By.XPATH,'//*[@id=\"container\"]/div/div[3]/div[1]/div[2]/div[1]/div/div/div[2]/div[2]')\n",
    "sort1.click()"
   ]
  },
  {
   "cell_type": "code",
   "execution_count": 154,
   "id": "a045f47e",
   "metadata": {},
   "outputs": [],
   "source": [
    "brand_s = []\n",
    "product_d = []\n",
    "price_s = []\n",
    "offer = []"
   ]
  },
  {
   "cell_type": "code",
   "execution_count": 155,
   "id": "54d44834",
   "metadata": {},
   "outputs": [],
   "source": [
    "# Getting brand name\n",
    "start = 0\n",
    "end = 3\n",
    "for page in range(0,3):\n",
    "    b_tags = driver.find_elements(By.XPATH,'//div[@class=\"_2WkVRV\"]')\n",
    "    for i in b_tags:\n",
    "         brand_s.append(i.text)\n",
    "    next_button = driver.find_element(By.XPATH,'//a[@class=\"_1LKTO3\"]')\n",
    "    next_button.click()\n",
    "    time.sleep(4)"
   ]
  },
  {
   "cell_type": "code",
   "execution_count": 156,
   "id": "79d38387",
   "metadata": {},
   "outputs": [],
   "source": [
    "# Getting product description\n",
    "start = 0\n",
    "end = 3\n",
    "\n",
    "for i in range(0,3):\n",
    "    p_tags = driver.find_elements(By.XPATH,'//a[@class=\"IRpwTa\"]')\n",
    "    for i in p_tags:\n",
    "        product_d.append(i.text)\n",
    "    next_button = driver.find_element(By.XPATH,'//a[@class=\"_1LKTO3\"]')\n",
    "    next_button.click()\n",
    "    time.sleep(4)"
   ]
  },
  {
   "cell_type": "code",
   "execution_count": 157,
   "id": "3e00b95f",
   "metadata": {},
   "outputs": [],
   "source": [
    "# Getting price\n",
    "\n",
    "start = 0\n",
    "end = 3\n",
    "\n",
    "for i in range(0,3):\n",
    "    pr_tags = driver.find_elements(By.XPATH,'//div[@class=\"_30jeq3\"]')\n",
    "    for i in pr_tags:\n",
    "        price_s.append(i.text)\n",
    "    next_button = driver.find_element(By.XPATH,'//a[@class=\"_1LKTO3\"]')\n",
    "    next_button.click()\n",
    "    time.sleep(4)"
   ]
  },
  {
   "cell_type": "code",
   "execution_count": 158,
   "id": "63e2e05c",
   "metadata": {},
   "outputs": [],
   "source": [
    "# Getting offer%\n",
    "\n",
    "start = 0\n",
    "end = 3\n",
    "\n",
    "for i in range(0,3):\n",
    "    off_tags = driver.find_elements(By.XPATH,'//div[@class=\"_3Ay6Sb\"]')\n",
    "    for i in off_tags:\n",
    "        offer.append(i.text)\n",
    "    next_button = driver.find_element(By.XPATH,'//a[@class=\"_1LKTO3\"]')\n",
    "    next_button.click()\n",
    "    time.sleep(4)"
   ]
  },
  {
   "cell_type": "code",
   "execution_count": 159,
   "id": "7bb007e9",
   "metadata": {},
   "outputs": [
    {
     "data": {
      "text/plain": [
       "['Labbin',\n",
       " 'Shozie',\n",
       " 'HOTSTYLE',\n",
       " 'aadi',\n",
       " 'SFR',\n",
       " 'Kzaara',\n",
       " 'SFR',\n",
       " 'BRUTON',\n",
       " 'BRUTON',\n",
       " 'aadi',\n",
       " 'BRUTON',\n",
       " 'RapidBox',\n",
       " 'World Wear Footwear',\n",
       " 'asian',\n",
       " 'Robbie jones',\n",
       " 'SFR',\n",
       " 'Labbin',\n",
       " 'World Wear Footwear',\n",
       " 'BRUTON',\n",
       " 'TR',\n",
       " 'AJANTA',\n",
       " 'Shozie',\n",
       " 'AJANTA',\n",
       " 'asian',\n",
       " 'aadi',\n",
       " 'World Wear Footwear',\n",
       " 'SFR',\n",
       " 'SCATCHITE',\n",
       " 'Robbie jones',\n",
       " 'Robbie jones',\n",
       " 'BRUTON',\n",
       " 'Rzisbo',\n",
       " 'BRUTON',\n",
       " 'RED TAPE',\n",
       " 'World Wear Footwear',\n",
       " 'SFR',\n",
       " 'SFR',\n",
       " 'KILLER',\n",
       " 'World Wear Footwear',\n",
       " 'aadi',\n",
       " 'HOTSTYLE',\n",
       " 'Robbie jones',\n",
       " 'SFR',\n",
       " 'Brainer',\n",
       " 'Lee Won',\n",
       " 'SFR',\n",
       " 'aadi',\n",
       " 'asian',\n",
       " 'Robbie jones',\n",
       " 'Kraasa',\n",
       " 'World Wear Footwear',\n",
       " 'AJANTA',\n",
       " 'asian',\n",
       " 'KRIPTO',\n",
       " 'asian',\n",
       " 'Nobelite',\n",
       " 'BRUTON',\n",
       " 'Adiso',\n",
       " 'aadi',\n",
       " 'PUMA',\n",
       " 'AJANTA',\n",
       " 'RED TAPE',\n",
       " 'BRUTON',\n",
       " 'World Wear Footwear',\n",
       " 'RED TAPE',\n",
       " 'ASTEROID',\n",
       " 'WELDONE',\n",
       " 'RapidBox',\n",
       " 'BRUTON',\n",
       " 'Kzaara',\n",
       " 'TR',\n",
       " 'ADIDAS',\n",
       " 'PUMA',\n",
       " 'HOTSTYLE',\n",
       " 'AJANTA',\n",
       " 'BERSACHE',\n",
       " 'World Wear Footwear',\n",
       " 'PUMA',\n",
       " 'AJANTA',\n",
       " 'AJANTA',\n",
       " 'Labbin',\n",
       " 'Shozie',\n",
       " 'HOTSTYLE',\n",
       " 'aadi',\n",
       " 'SFR',\n",
       " 'Kzaara',\n",
       " 'SFR',\n",
       " 'BRUTON',\n",
       " 'BRUTON',\n",
       " 'aadi',\n",
       " 'BRUTON',\n",
       " 'RapidBox',\n",
       " 'World Wear Footwear',\n",
       " 'asian',\n",
       " 'Robbie jones',\n",
       " 'SFR',\n",
       " 'Labbin',\n",
       " 'World Wear Footwear',\n",
       " 'BRUTON',\n",
       " 'TR']"
      ]
     },
     "execution_count": 159,
     "metadata": {},
     "output_type": "execute_result"
    }
   ],
   "source": [
    "b = brand_s[0:100]\n",
    "b"
   ]
  },
  {
   "cell_type": "code",
   "execution_count": 160,
   "id": "b9691b28",
   "metadata": {},
   "outputs": [
    {
     "data": {
      "text/plain": [
       "['Sneakers For Men',\n",
       " 'Sneakers For Men',\n",
       " 'Loafers For Men',\n",
       " 'Mesh | Ultralightweight | Comfortable | Breathable Walk...',\n",
       " 'PLANCK Smart Grey Lace-Ups Casuals Sneakers Sneakers Fo...',\n",
       " 'Sneakers For Men',\n",
       " 'FAST Trenddy Tainer Lace-ups Sporty Casuals Sneakers Fo...',\n",
       " 'Exclusive Sneaker Shoes Sneakers For Men',\n",
       " 'Lightweight Pack Of 1 Trendy Sneakers Sneakers For Men',\n",
       " 'For Men',\n",
       " 'Lattest Sneakers Shoe Sneakers For Men',\n",
       " 'Sneakers For Men',\n",
       " 'Exclusive Range of Stylish Comfortable Sports Sneakers ...',\n",
       " 'Casuals For Men',\n",
       " 'Casual Shoes Slip On Sneakers For Men',\n",
       " 'PLANCK Smart Red Lace-Ups Casuals Sneakers Sneakers For...',\n",
       " 'Sneakers For Men',\n",
       " 'Sneakers For Men',\n",
       " 'Combo Pack Of 5 Casual Shoes Canvas Shoes For Men',\n",
       " 'Sneakers For Men',\n",
       " 'Casual Loafers For Men',\n",
       " 'Sneakers For Men',\n",
       " 'Casual Loafers For Men',\n",
       " 'SM-162 Black Walking ,Training,Sneakers,Loafers,Canvas,...',\n",
       " 'Mesh| Ultralightweight| Premiun| Comfort| Summer Tendy|...',\n",
       " 'Exclusive Affordable Collection of Trendy & Stylish Spo...',\n",
       " 'Sneakers For Men',\n",
       " 'Sneakers Sneakers For Men',\n",
       " 'Sneakers For Men',\n",
       " 'Sneakers For Men',\n",
       " '2 Combo Sneaker Shoes Sneakers For Men',\n",
       " 'Sneakers For Men',\n",
       " 'Modern Trendy Shoes Sneakers For Men',\n",
       " 'Sneakers For Men',\n",
       " 'Exclusive Affordable Collection of Trendy & Stylish Cas...',\n",
       " 'FAST Trenddy Tainer Lace-ups Sporty Casuals Sneakers Fo...',\n",
       " 'PLANCK Smart Blue Lace-Ups Casuals Sneakers Sneakers Fo...',\n",
       " 'Loafers For Men',\n",
       " 'Men 9325 Latest Collection Stylish Sports Sneakers Runn...',\n",
       " 'Synthetic| Lightweight| Premiun| Comfort| Summer Tendy|...',\n",
       " 'Designer Loafers For Men',\n",
       " 'Casual Sneakers Slip on Shoes For Boys And Men Slip On ...',\n",
       " 'PLANCK Smart Grey Lace-Ups Casuals Sneakers Sneakers Fo...',\n",
       " 'Sneakers For Men',\n",
       " 'Running Shoes For Men',\n",
       " 'FAST Trenddy Tainer Lace-ups Sporty Casuals Sneakers Fo...',\n",
       " 'Sneakers For Men',\n",
       " 'WATERPROOF-05cFULLWHITE Sneakers For Men',\n",
       " 'Casual Shoes Slip On Sneakers For Men',\n",
       " 'Casuals, Canvas, Partywear Sneakers For Men',\n",
       " 'Exclusive Affordable Collection of Trendy & Stylish Spo...',\n",
       " 'Casual Loafers For Men',\n",
       " 'SM-162 Navy Blue Walking,Training ,Sneakers,Loafers,Can...',\n",
       " 'Skypy-31 Walking Shoes,Training Shoes,Sneakers,Loafers,...',\n",
       " 'FITMAN Loafers For Men',\n",
       " 'RS-X Puzzle Sneakers For Men',\n",
       " 'Casual Loafers For Men',\n",
       " 'RTE3673 Sneakers For Men',\n",
       " 'Combo Pack Of 4 Casual Shoes Loafer Shoes Sneakers For ...',\n",
       " 'Stylish Casual Walking Comfortable Sports Running Shoes...',\n",
       " 'Sneakers For Men',\n",
       " \"Original Luxury Branded Fashionable Men's Casual Walkin...\",\n",
       " 'Loafers For Men',\n",
       " 'Sneakers For Men',\n",
       " '2031 Stylish Comfortable Lightweight, Breathable Walkin...',\n",
       " 'Slip On Sneakers For Men',\n",
       " 'Casual White Sneakers For Men',\n",
       " 'Lucifo M Slip On Sneakers For Men',\n",
       " 'RS-Connect Ombre T Sneakers For Men',\n",
       " 'Stylish Loafers For Men',\n",
       " 'Casual Loafers For Men',\n",
       " 'Casual Shoes , Sneakers Shoes,Lace-Up PVC Shoes For Men...',\n",
       " 'Men 9323 Latest Collection Stylish Sports Sneakers Runn...',\n",
       " 'Buzz Casuals For Men',\n",
       " 'Loafers For Men',\n",
       " 'Casual Loafers For Men',\n",
       " 'Sneakers For Men',\n",
       " 'Sneakers For Men',\n",
       " 'Loafers For Men',\n",
       " 'Mesh | Ultralightweight | Comfortable | Breathable Walk...',\n",
       " 'PLANCK Smart Grey Lace-Ups Casuals Sneakers Sneakers Fo...',\n",
       " 'Sneakers For Men',\n",
       " 'FAST Trenddy Tainer Lace-ups Sporty Casuals Sneakers Fo...',\n",
       " 'Exclusive Sneaker Shoes Sneakers For Men',\n",
       " 'Lightweight Pack Of 1 Trendy Sneakers Sneakers For Men',\n",
       " 'For Men',\n",
       " 'Lattest Sneakers Shoe Sneakers For Men',\n",
       " 'Sneakers For Men',\n",
       " 'Exclusive Range of Stylish Comfortable Sports Sneakers ...',\n",
       " 'Casuals For Men',\n",
       " 'Casual Shoes Slip On Sneakers For Men',\n",
       " 'PLANCK Smart Red Lace-Ups Casuals Sneakers Sneakers For...',\n",
       " 'Sneakers For Men',\n",
       " 'Sneakers For Men',\n",
       " 'Combo Pack Of 5 Casual Shoes Canvas Shoes For Men',\n",
       " 'Sneakers For Men',\n",
       " 'Casual Loafers For Men',\n",
       " 'Sneakers For Men',\n",
       " 'Casual Loafers For Men',\n",
       " 'SM-162 Black Walking ,Training,Sneakers,Loafers,Canvas,...']"
      ]
     },
     "execution_count": 160,
     "metadata": {},
     "output_type": "execute_result"
    }
   ],
   "source": [
    "pd = product_d[0:100]\n",
    "pd"
   ]
  },
  {
   "cell_type": "code",
   "execution_count": 161,
   "id": "8fa7c0c4",
   "metadata": {},
   "outputs": [
    {
     "data": {
      "text/plain": [
       "['₹399',\n",
       " '₹295',\n",
       " '₹249',\n",
       " '₹359',\n",
       " '₹209',\n",
       " '₹229',\n",
       " '₹299',\n",
       " '₹299',\n",
       " '₹199',\n",
       " '₹599',\n",
       " '₹299',\n",
       " '₹599',\n",
       " '₹299',\n",
       " '₹1,051',\n",
       " '₹259',\n",
       " '₹209',\n",
       " '₹399',\n",
       " '₹259',\n",
       " '₹749',\n",
       " '₹389',\n",
       " '₹279',\n",
       " '₹419',\n",
       " '₹279',\n",
       " '₹473',\n",
       " '₹699',\n",
       " '₹239',\n",
       " '₹269',\n",
       " '₹360',\n",
       " '₹439',\n",
       " '₹439',\n",
       " '₹581',\n",
       " '₹549',\n",
       " '₹299',\n",
       " '₹1,749',\n",
       " '₹259',\n",
       " '₹349',\n",
       " '₹209',\n",
       " '₹629',\n",
       " '₹259',\n",
       " '₹399',\n",
       " '₹299',\n",
       " '₹259',\n",
       " '₹209',\n",
       " '₹399',\n",
       " '₹292',\n",
       " '₹299',\n",
       " '₹399',\n",
       " '₹657',\n",
       " '₹259',\n",
       " '₹449',\n",
       " '₹299',\n",
       " '₹279',\n",
       " '₹473',\n",
       " '₹379',\n",
       " '₹473',\n",
       " '₹324',\n",
       " '₹199',\n",
       " '₹599',\n",
       " '₹399',\n",
       " '₹5,219',\n",
       " '₹269',\n",
       " '₹1,819',\n",
       " '₹581',\n",
       " '₹299',\n",
       " '₹1,374',\n",
       " '₹499',\n",
       " '₹292',\n",
       " '₹599',\n",
       " '₹389',\n",
       " '₹299',\n",
       " '₹299',\n",
       " '₹1,324',\n",
       " '₹5,279',\n",
       " '₹298',\n",
       " '₹269',\n",
       " '₹199',\n",
       " '₹259',\n",
       " '₹1,699',\n",
       " '₹279',\n",
       " '₹279',\n",
       " '₹399',\n",
       " '₹295',\n",
       " '₹249',\n",
       " '₹359',\n",
       " '₹209',\n",
       " '₹229',\n",
       " '₹299',\n",
       " '₹299',\n",
       " '₹199',\n",
       " '₹599',\n",
       " '₹299',\n",
       " '₹599',\n",
       " '₹299',\n",
       " '₹1,051',\n",
       " '₹259',\n",
       " '₹209',\n",
       " '₹399',\n",
       " '₹259',\n",
       " '₹749',\n",
       " '₹389']"
      ]
     },
     "execution_count": 161,
     "metadata": {},
     "output_type": "execute_result"
    }
   ],
   "source": [
    "p2 = price_s[0:100]\n",
    "p2"
   ]
  },
  {
   "cell_type": "code",
   "execution_count": 162,
   "id": "2c083c75",
   "metadata": {},
   "outputs": [
    {
     "data": {
      "text/plain": [
       "['60% off',\n",
       " '70% off',\n",
       " '50% off',\n",
       " '82% off',\n",
       " '65% off',\n",
       " '77% off',\n",
       " '70% off',\n",
       " '77% off',\n",
       " '66% off',\n",
       " '70% off',\n",
       " '76% off',\n",
       " '40% off',\n",
       " '70% off',\n",
       " '47% off',\n",
       " '74% off',\n",
       " '65% off',\n",
       " '60% off',\n",
       " '74% off',\n",
       " '82% off',\n",
       " '74% off',\n",
       " '60% off',\n",
       " '58% off',\n",
       " '60% off',\n",
       " '32% off',\n",
       " '65% off',\n",
       " '76% off',\n",
       " '73% off',\n",
       " '63% off',\n",
       " '57% off',\n",
       " '57% off',\n",
       " '76% off',\n",
       " '45% off',\n",
       " '76% off',\n",
       " '65% off',\n",
       " '76% off',\n",
       " '65% off',\n",
       " '65% off',\n",
       " '82% off',\n",
       " '74% off',\n",
       " '80% off',\n",
       " '40% off',\n",
       " '74% off',\n",
       " '65% off',\n",
       " '60% off',\n",
       " '41% off',\n",
       " '70% off',\n",
       " '80% off',\n",
       " '34% off',\n",
       " '74% off',\n",
       " '55% off',\n",
       " '70% off',\n",
       " '60% off',\n",
       " '32% off',\n",
       " '62% off',\n",
       " '40% off',\n",
       " '74% off',\n",
       " '84% off',\n",
       " '40% off',\n",
       " '60% off',\n",
       " '42% off',\n",
       " '10% off',\n",
       " '65% off',\n",
       " '84% off',\n",
       " '70% off',\n",
       " '75% off',\n",
       " '75% off',\n",
       " '41% off',\n",
       " '40% off',\n",
       " '70% off',\n",
       " '70% off',\n",
       " '80% off',\n",
       " '47% off',\n",
       " '52% off',\n",
       " '70% off',\n",
       " '10% off',\n",
       " '90% off',\n",
       " '74% off',\n",
       " '62% off',\n",
       " '60% off',\n",
       " '60% off',\n",
       " '60% off',\n",
       " '70% off',\n",
       " '50% off',\n",
       " '82% off',\n",
       " '65% off',\n",
       " '77% off',\n",
       " '70% off',\n",
       " '77% off',\n",
       " '66% off',\n",
       " '70% off',\n",
       " '76% off',\n",
       " '40% off',\n",
       " '70% off',\n",
       " '47% off',\n",
       " '74% off',\n",
       " '65% off',\n",
       " '60% off',\n",
       " '74% off',\n",
       " '82% off',\n",
       " '74% off']"
      ]
     },
     "execution_count": 162,
     "metadata": {},
     "output_type": "execute_result"
    }
   ],
   "source": [
    "of = offer[0:100]\n",
    "of"
   ]
  },
  {
   "cell_type": "code",
   "execution_count": 163,
   "id": "cf34f53c",
   "metadata": {},
   "outputs": [
    {
     "name": "stdout",
     "output_type": "stream",
     "text": [
      "100 100 100 100\n"
     ]
    }
   ],
   "source": [
    "print(len(b),len(pd),len(p2),len(of))"
   ]
  },
  {
   "cell_type": "code",
   "execution_count": 166,
   "id": "3b165906",
   "metadata": {},
   "outputs": [
    {
     "data": {
      "text/html": [
       "<div>\n",
       "<style scoped>\n",
       "    .dataframe tbody tr th:only-of-type {\n",
       "        vertical-align: middle;\n",
       "    }\n",
       "\n",
       "    .dataframe tbody tr th {\n",
       "        vertical-align: top;\n",
       "    }\n",
       "\n",
       "    .dataframe thead th {\n",
       "        text-align: right;\n",
       "    }\n",
       "</style>\n",
       "<table border=\"1\" class=\"dataframe\">\n",
       "  <thead>\n",
       "    <tr style=\"text-align: right;\">\n",
       "      <th></th>\n",
       "      <th>Brand</th>\n",
       "      <th>Product Description</th>\n",
       "      <th>Price</th>\n",
       "      <th>Offer</th>\n",
       "    </tr>\n",
       "  </thead>\n",
       "  <tbody>\n",
       "    <tr>\n",
       "      <th>0</th>\n",
       "      <td>Labbin</td>\n",
       "      <td>&lt;module 'pandas' from 'C:\\\\ProgramData\\\\Anacon...</td>\n",
       "      <td>₹399</td>\n",
       "      <td>60% off</td>\n",
       "    </tr>\n",
       "    <tr>\n",
       "      <th>1</th>\n",
       "      <td>Shozie</td>\n",
       "      <td>&lt;module 'pandas' from 'C:\\\\ProgramData\\\\Anacon...</td>\n",
       "      <td>₹295</td>\n",
       "      <td>70% off</td>\n",
       "    </tr>\n",
       "    <tr>\n",
       "      <th>2</th>\n",
       "      <td>HOTSTYLE</td>\n",
       "      <td>&lt;module 'pandas' from 'C:\\\\ProgramData\\\\Anacon...</td>\n",
       "      <td>₹249</td>\n",
       "      <td>50% off</td>\n",
       "    </tr>\n",
       "    <tr>\n",
       "      <th>3</th>\n",
       "      <td>aadi</td>\n",
       "      <td>&lt;module 'pandas' from 'C:\\\\ProgramData\\\\Anacon...</td>\n",
       "      <td>₹359</td>\n",
       "      <td>82% off</td>\n",
       "    </tr>\n",
       "    <tr>\n",
       "      <th>4</th>\n",
       "      <td>SFR</td>\n",
       "      <td>&lt;module 'pandas' from 'C:\\\\ProgramData\\\\Anacon...</td>\n",
       "      <td>₹209</td>\n",
       "      <td>65% off</td>\n",
       "    </tr>\n",
       "    <tr>\n",
       "      <th>...</th>\n",
       "      <td>...</td>\n",
       "      <td>...</td>\n",
       "      <td>...</td>\n",
       "      <td>...</td>\n",
       "    </tr>\n",
       "    <tr>\n",
       "      <th>95</th>\n",
       "      <td>SFR</td>\n",
       "      <td>&lt;module 'pandas' from 'C:\\\\ProgramData\\\\Anacon...</td>\n",
       "      <td>₹209</td>\n",
       "      <td>65% off</td>\n",
       "    </tr>\n",
       "    <tr>\n",
       "      <th>96</th>\n",
       "      <td>Labbin</td>\n",
       "      <td>&lt;module 'pandas' from 'C:\\\\ProgramData\\\\Anacon...</td>\n",
       "      <td>₹399</td>\n",
       "      <td>60% off</td>\n",
       "    </tr>\n",
       "    <tr>\n",
       "      <th>97</th>\n",
       "      <td>World Wear Footwear</td>\n",
       "      <td>&lt;module 'pandas' from 'C:\\\\ProgramData\\\\Anacon...</td>\n",
       "      <td>₹259</td>\n",
       "      <td>74% off</td>\n",
       "    </tr>\n",
       "    <tr>\n",
       "      <th>98</th>\n",
       "      <td>BRUTON</td>\n",
       "      <td>&lt;module 'pandas' from 'C:\\\\ProgramData\\\\Anacon...</td>\n",
       "      <td>₹749</td>\n",
       "      <td>82% off</td>\n",
       "    </tr>\n",
       "    <tr>\n",
       "      <th>99</th>\n",
       "      <td>TR</td>\n",
       "      <td>&lt;module 'pandas' from 'C:\\\\ProgramData\\\\Anacon...</td>\n",
       "      <td>₹389</td>\n",
       "      <td>74% off</td>\n",
       "    </tr>\n",
       "  </tbody>\n",
       "</table>\n",
       "<p>100 rows × 4 columns</p>\n",
       "</div>"
      ],
      "text/plain": [
       "                  Brand                                Product Description  \\\n",
       "0                Labbin  <module 'pandas' from 'C:\\\\ProgramData\\\\Anacon...   \n",
       "1                Shozie  <module 'pandas' from 'C:\\\\ProgramData\\\\Anacon...   \n",
       "2              HOTSTYLE  <module 'pandas' from 'C:\\\\ProgramData\\\\Anacon...   \n",
       "3                  aadi  <module 'pandas' from 'C:\\\\ProgramData\\\\Anacon...   \n",
       "4                   SFR  <module 'pandas' from 'C:\\\\ProgramData\\\\Anacon...   \n",
       "..                  ...                                                ...   \n",
       "95                  SFR  <module 'pandas' from 'C:\\\\ProgramData\\\\Anacon...   \n",
       "96               Labbin  <module 'pandas' from 'C:\\\\ProgramData\\\\Anacon...   \n",
       "97  World Wear Footwear  <module 'pandas' from 'C:\\\\ProgramData\\\\Anacon...   \n",
       "98               BRUTON  <module 'pandas' from 'C:\\\\ProgramData\\\\Anacon...   \n",
       "99                   TR  <module 'pandas' from 'C:\\\\ProgramData\\\\Anacon...   \n",
       "\n",
       "   Price    Offer  \n",
       "0   ₹399  60% off  \n",
       "1   ₹295  70% off  \n",
       "2   ₹249  50% off  \n",
       "3   ₹359  82% off  \n",
       "4   ₹209  65% off  \n",
       "..   ...      ...  \n",
       "95  ₹209  65% off  \n",
       "96  ₹399  60% off  \n",
       "97  ₹259  74% off  \n",
       "98  ₹749  82% off  \n",
       "99  ₹389  74% off  \n",
       "\n",
       "[100 rows x 4 columns]"
      ]
     },
     "execution_count": 166,
     "metadata": {},
     "output_type": "execute_result"
    }
   ],
   "source": [
    "#creating DataFrame\n",
    "\n",
    "df = pd.DataFrame({\"Brand\":b,\"Product Description\":pd,\"Price\":p2,\"Offer\":of})\n",
    "df\n",
    "\n",
    "# Multiple times I've tried clearing and importing pandas and ran the code for description, but still unable to import the exact\n",
    "# data for product description in DataFrame"
   ]
  },
  {
   "cell_type": "code",
   "execution_count": null,
   "id": "3ee816c0",
   "metadata": {},
   "outputs": [],
   "source": []
  },
  {
   "cell_type": "markdown",
   "id": "7a7163df",
   "metadata": {},
   "source": [
    "# Q7. Scrape first 10 laptops data"
   ]
  },
  {
   "cell_type": "code",
   "execution_count": 105,
   "id": "a8159648",
   "metadata": {},
   "outputs": [],
   "source": [
    "# Connecting to the driver\n",
    "driver = webdriver.Chrome(r\"C:\\Users\\navee\\Downloads\\chromedriver_win32\\chromedriver.exe\")"
   ]
  },
  {
   "cell_type": "code",
   "execution_count": 106,
   "id": "5a1aa11c",
   "metadata": {},
   "outputs": [],
   "source": [
    "# Opening Amazon Page\n",
    "driver.get(\"http://www.amazon.in/\")"
   ]
  },
  {
   "cell_type": "code",
   "execution_count": 107,
   "id": "4e90ecab",
   "metadata": {},
   "outputs": [],
   "source": [
    "# searching laptop\n",
    "designation = driver.find_element(By.XPATH,'//input[@id=\"twotabsearchtextbox\"]')\n",
    "designation.send_keys('laptop')"
   ]
  },
  {
   "cell_type": "code",
   "execution_count": 108,
   "id": "7a5dc5fc",
   "metadata": {},
   "outputs": [],
   "source": [
    "search = driver.find_element(By.XPATH,'//input[@id=\"nav-search-submit-button\"]')\n",
    "search.click()"
   ]
  },
  {
   "cell_type": "code",
   "execution_count": 109,
   "id": "59729e7a",
   "metadata": {},
   "outputs": [],
   "source": [
    "# Unable to identify the exact tag to filter Intel Core 7 from the webpage - Used full X path to filter Intel Core 7\n",
    "\n",
    "search2 = driver.find_element(By.XPATH,'//*[@id=\"p_n_feature_thirteen_browse-bin/12598163031\"]/span/a/div')\n",
    "search2.click()"
   ]
  },
  {
   "cell_type": "code",
   "execution_count": 110,
   "id": "c98b6560",
   "metadata": {},
   "outputs": [],
   "source": [
    "title = []\n",
    "ratings = []\n",
    "price = []"
   ]
  },
  {
   "cell_type": "code",
   "execution_count": 111,
   "id": "e85f7f75",
   "metadata": {},
   "outputs": [],
   "source": [
    "# Scrape Title\n",
    "\n",
    "title_tags = driver.find_elements(By.XPATH,'//span[@class=\"a-size-medium a-color-base a-text-normal\"]')\n",
    "for i in title_tags[0:10]:\n",
    "    t1 = i.text\n",
    "    title.append(t1)"
   ]
  },
  {
   "cell_type": "code",
   "execution_count": 112,
   "id": "f80d6646",
   "metadata": {},
   "outputs": [
    {
     "data": {
      "text/plain": [
       "10"
      ]
     },
     "execution_count": 112,
     "metadata": {},
     "output_type": "execute_result"
    }
   ],
   "source": [
    "len(title)"
   ]
  },
  {
   "cell_type": "code",
   "execution_count": 113,
   "id": "183dbef1",
   "metadata": {},
   "outputs": [
    {
     "data": {
      "text/plain": [
       "['Lenovo ThinkPad E14 Intel Core i7 12th Gen 14\" FHD IPS Thin and Light Laptop (16GB RAM/1TB SSD/Windows 11 Home/MS Office H&S 2021/Backlit Keybaord/FPR/Black/1.59 kg), 21E3S05800',\n",
       " 'Hp Pavilion 15 12Th Gen Intel Core I7 16Gb Sdram/1Tb Ssd 15.6 Inches (39.6Cm) Fhd,IPS/Intel Iris Xe Graphics/B&O/Windows 11 Home/Alexa/Backlit Kb/Fpr/Mso 2021/1.75Kg, 15-Eg2039Tu, Natural Silver',\n",
       " 'HP Pavilion Plus, 12th Gen Intel Core i7 16GB RAM/1TB SSD 14 inch(35.6 cm),OLED,400 nits,UWVA, Eye Safe Laptop/Intel Iris Xe Graphics/Backlit KB/B&O/FPR/Win 11/Alexa Built-in/MSO 2021, 14-eh0024TU',\n",
       " 'Lenovo IdeaPad Slim 5 12th Gen Intel Core i7 15.6\"(39.62cm) FHD IPS Laptop (16GB/512GB SSD/Win 11/Office 2021/Backlit KB/Fingerprint/FHD Camera/Alexa/3 Month Game Pass/Storm Grey/1.85Kg), 82SF004XIN',\n",
       " 'HP Pavilion 14 12th Gen Intel Core i7 16GB SDRAM/1TB SSD 14 inch(35.6cm) FHD,IPS,Micro-Edge Display/Intel UHD Graphics/B&O/Win 11/Alexa Built-in/Backlit KB/FPR/MSO 2021/Natural Silver, 14-dv2015TU',\n",
       " 'HP Pavilion x360 11th Gen Intel Core i7 14 inch(35.6 cm) FHD,IPS, Multitouch 2-in-1 Laptop(16GB RAM/512GB SSD/Backlit KB/Intel Iris Xe Graphics/Pen/Alexa Built-in/MSO/1.52Kg) 14-dy1050TU, Spruce Blue',\n",
       " 'ASUS TUF Dash F15 (2022), 15.6-inch (39.62 cms) WQHD 165Hz/3ms, Intel Core i7-12650H 12th Gen, RTX 3070 8GB Graphics, Gaming Laptop (16GB/1TB SSD/Windows 11/Office 2021/Black/2 kg), FX517ZR-HQ030WS',\n",
       " 'ASUS Zenbook 14 OLED (2022), 14\" (35.56 cms) 2.8K OLED 16:10 90Hz, Intel Core Evo i7-1260P 12th Gen, Thin and Light Laptop (16GB/512GB SSD/Windows 11/Office 2021/Blue/1.39 kg), UX3402ZA-KM731WS',\n",
       " 'Lenovo Yoga 7 Intel Evo i7 1260P 14\"(35.56cm) QHD OLED 2-in-1 400Nits Laptop(16GB/512GB SSD/Win 11/Office 2021/Backlit KB/Digital Pen/3Yr Warranty/Alexa/3 month Game Pass/Storm Grey/1.42Kg) 82QE0060IN',\n",
       " 'Lenovo ThinkPad E14 Intel Core i7 12th Gen 14\" FHD IPS Thin and Light Laptop (16GB RAM/512GB SSD/Windows 11 Home/MS Office H&S 2021/Backlit Keyboard/FPR/Black/1.59 kg), 21E3S05B00']"
      ]
     },
     "execution_count": 113,
     "metadata": {},
     "output_type": "execute_result"
    }
   ],
   "source": [
    "title"
   ]
  },
  {
   "cell_type": "code",
   "execution_count": 114,
   "id": "1fe42587",
   "metadata": {},
   "outputs": [],
   "source": [
    "# Scrape Ratings\n",
    "\n",
    "r1_tags = driver.find_elements(By.XPATH,'//span[@class=\"a-size-base\"]')\n",
    "for i in r1_tags[0:10]:\n",
    "    rat = i.text\n",
    "    ratings.append(rat)"
   ]
  },
  {
   "cell_type": "code",
   "execution_count": 115,
   "id": "bf914b11",
   "metadata": {},
   "outputs": [
    {
     "data": {
      "text/plain": [
       "['(3.7)',\n",
       " '(3.6)',\n",
       " '(4.0)',\n",
       " '(4.2)',\n",
       " '(4.3)',\n",
       " '(4.2)',\n",
       " '(5.0)',\n",
       " '(4.0)',\n",
       " '(3.7)',\n",
       " '(3.9)']"
      ]
     },
     "execution_count": 115,
     "metadata": {},
     "output_type": "execute_result"
    }
   ],
   "source": [
    "ratings"
   ]
  },
  {
   "cell_type": "code",
   "execution_count": 116,
   "id": "a97c42ae",
   "metadata": {},
   "outputs": [
    {
     "data": {
      "text/plain": [
       "10"
      ]
     },
     "execution_count": 116,
     "metadata": {},
     "output_type": "execute_result"
    }
   ],
   "source": [
    "len(ratings)"
   ]
  },
  {
   "cell_type": "code",
   "execution_count": 117,
   "id": "77798ef2",
   "metadata": {},
   "outputs": [],
   "source": [
    "# Scrape Price\n",
    "\n",
    "price_tags = driver.find_elements(By.XPATH,'//span[@class=\"a-price-whole\"]')\n",
    "for i in price_tags[0:10]:\n",
    "    p1 = i.text\n",
    "    price.append(p1)"
   ]
  },
  {
   "cell_type": "code",
   "execution_count": 118,
   "id": "654cd316",
   "metadata": {},
   "outputs": [
    {
     "data": {
      "text/plain": [
       "10"
      ]
     },
     "execution_count": 118,
     "metadata": {},
     "output_type": "execute_result"
    }
   ],
   "source": [
    "len(price)"
   ]
  },
  {
   "cell_type": "code",
   "execution_count": 119,
   "id": "e96b3677",
   "metadata": {},
   "outputs": [
    {
     "data": {
      "text/html": [
       "<div>\n",
       "<style scoped>\n",
       "    .dataframe tbody tr th:only-of-type {\n",
       "        vertical-align: middle;\n",
       "    }\n",
       "\n",
       "    .dataframe tbody tr th {\n",
       "        vertical-align: top;\n",
       "    }\n",
       "\n",
       "    .dataframe thead th {\n",
       "        text-align: right;\n",
       "    }\n",
       "</style>\n",
       "<table border=\"1\" class=\"dataframe\">\n",
       "  <thead>\n",
       "    <tr style=\"text-align: right;\">\n",
       "      <th></th>\n",
       "      <th>Title</th>\n",
       "      <th>Ratings</th>\n",
       "      <th>Price</th>\n",
       "    </tr>\n",
       "  </thead>\n",
       "  <tbody>\n",
       "    <tr>\n",
       "      <th>0</th>\n",
       "      <td>Lenovo ThinkPad E14 Intel Core i7 12th Gen 14\"...</td>\n",
       "      <td>(3.7)</td>\n",
       "      <td>1,02,490</td>\n",
       "    </tr>\n",
       "    <tr>\n",
       "      <th>1</th>\n",
       "      <td>Hp Pavilion 15 12Th Gen Intel Core I7 16Gb Sdr...</td>\n",
       "      <td>(3.6)</td>\n",
       "      <td>87,990</td>\n",
       "    </tr>\n",
       "    <tr>\n",
       "      <th>2</th>\n",
       "      <td>HP Pavilion Plus, 12th Gen Intel Core i7 16GB ...</td>\n",
       "      <td>(4.0)</td>\n",
       "      <td>95,546</td>\n",
       "    </tr>\n",
       "    <tr>\n",
       "      <th>3</th>\n",
       "      <td>Lenovo IdeaPad Slim 5 12th Gen Intel Core i7 1...</td>\n",
       "      <td>(4.2)</td>\n",
       "      <td>82,990</td>\n",
       "    </tr>\n",
       "    <tr>\n",
       "      <th>4</th>\n",
       "      <td>HP Pavilion 14 12th Gen Intel Core i7 16GB SDR...</td>\n",
       "      <td>(4.3)</td>\n",
       "      <td>89,000</td>\n",
       "    </tr>\n",
       "    <tr>\n",
       "      <th>5</th>\n",
       "      <td>HP Pavilion x360 11th Gen Intel Core i7 14 inc...</td>\n",
       "      <td>(4.2)</td>\n",
       "      <td>82,490</td>\n",
       "    </tr>\n",
       "    <tr>\n",
       "      <th>6</th>\n",
       "      <td>ASUS TUF Dash F15 (2022), 15.6-inch (39.62 cms...</td>\n",
       "      <td>(5.0)</td>\n",
       "      <td>1,49,900</td>\n",
       "    </tr>\n",
       "    <tr>\n",
       "      <th>7</th>\n",
       "      <td>ASUS Zenbook 14 OLED (2022), 14\" (35.56 cms) 2...</td>\n",
       "      <td>(4.0)</td>\n",
       "      <td>1,01,000</td>\n",
       "    </tr>\n",
       "    <tr>\n",
       "      <th>8</th>\n",
       "      <td>Lenovo Yoga 7 Intel Evo i7 1260P 14\"(35.56cm) ...</td>\n",
       "      <td>(3.7)</td>\n",
       "      <td>1,12,000</td>\n",
       "    </tr>\n",
       "    <tr>\n",
       "      <th>9</th>\n",
       "      <td>Lenovo ThinkPad E14 Intel Core i7 12th Gen 14\"...</td>\n",
       "      <td>(3.9)</td>\n",
       "      <td>95,990</td>\n",
       "    </tr>\n",
       "  </tbody>\n",
       "</table>\n",
       "</div>"
      ],
      "text/plain": [
       "                                               Title Ratings     Price\n",
       "0  Lenovo ThinkPad E14 Intel Core i7 12th Gen 14\"...   (3.7)  1,02,490\n",
       "1  Hp Pavilion 15 12Th Gen Intel Core I7 16Gb Sdr...   (3.6)    87,990\n",
       "2  HP Pavilion Plus, 12th Gen Intel Core i7 16GB ...   (4.0)    95,546\n",
       "3  Lenovo IdeaPad Slim 5 12th Gen Intel Core i7 1...   (4.2)    82,990\n",
       "4  HP Pavilion 14 12th Gen Intel Core i7 16GB SDR...   (4.3)    89,000\n",
       "5  HP Pavilion x360 11th Gen Intel Core i7 14 inc...   (4.2)    82,490\n",
       "6  ASUS TUF Dash F15 (2022), 15.6-inch (39.62 cms...   (5.0)  1,49,900\n",
       "7  ASUS Zenbook 14 OLED (2022), 14\" (35.56 cms) 2...   (4.0)  1,01,000\n",
       "8  Lenovo Yoga 7 Intel Evo i7 1260P 14\"(35.56cm) ...   (3.7)  1,12,000\n",
       "9  Lenovo ThinkPad E14 Intel Core i7 12th Gen 14\"...   (3.9)    95,990"
      ]
     },
     "execution_count": 119,
     "metadata": {},
     "output_type": "execute_result"
    }
   ],
   "source": [
    "#creating DataFrame\n",
    "\n",
    "df = pd.DataFrame({\"Title\":title,\"Ratings\":ratings,\"Price\":price})\n",
    "df"
   ]
  },
  {
   "cell_type": "code",
   "execution_count": null,
   "id": "feb783cb",
   "metadata": {},
   "outputs": [],
   "source": []
  },
  {
   "cell_type": "markdown",
   "id": "998dacfe",
   "metadata": {},
   "source": [
    "# Q8. Scrape data for Top 1000 Quotes of All Time"
   ]
  },
  {
   "cell_type": "code",
   "execution_count": 241,
   "id": "9d559d98",
   "metadata": {},
   "outputs": [],
   "source": [
    "# Connecting to the driver\n",
    "driver = webdriver.Chrome(r\"C:\\Users\\navee\\Downloads\\chromedriver_win32\\chromedriver.exe\")"
   ]
  },
  {
   "cell_type": "code",
   "execution_count": 242,
   "id": "3e3e4143",
   "metadata": {},
   "outputs": [],
   "source": [
    "# Opening Flipkart Page\n",
    "driver.get(\"http://www.azquotes.com/\")"
   ]
  },
  {
   "cell_type": "code",
   "execution_count": 243,
   "id": "989d6533",
   "metadata": {},
   "outputs": [],
   "source": [
    "# searching top quotes\n",
    "search = driver.find_element(By.XPATH,'//a[@href=\"/top_quotes.html\"]')\n",
    "search.click()"
   ]
  },
  {
   "cell_type": "code",
   "execution_count": 244,
   "id": "cdc4d5ea",
   "metadata": {},
   "outputs": [],
   "source": [
    "quote = []\n",
    "author = []\n",
    "type_quote = []"
   ]
  },
  {
   "cell_type": "code",
   "execution_count": 245,
   "id": "e4418af5",
   "metadata": {},
   "outputs": [],
   "source": [
    "# Scrape top 1000 Quotes\n",
    "start = 0\n",
    "end = 10\n",
    "for page in range(0,10):\n",
    "    quote_tags = driver.find_elements(By.XPATH,'//a[@class=\"title\"]')\n",
    "    for i in quote_tags:\n",
    "         quote.append(i.text)\n",
    "    next_button = driver.find_element(By.XPATH,\"/html/body/div[1]/div[2]/div/div/div/div[1]/div/div[3]/li[12]\")\n",
    "    next_button.click()\n",
    "    time.sleep(11)"
   ]
  },
  {
   "cell_type": "code",
   "execution_count": 246,
   "id": "12ba3c29",
   "metadata": {},
   "outputs": [
    {
     "data": {
      "text/plain": [
       "1000"
      ]
     },
     "execution_count": 246,
     "metadata": {},
     "output_type": "execute_result"
    }
   ],
   "source": [
    "len(quote)"
   ]
  },
  {
   "cell_type": "code",
   "execution_count": 247,
   "id": "c729f3c3",
   "metadata": {},
   "outputs": [],
   "source": [
    "# Scrape top 1000 Author\n",
    "start = 0\n",
    "end = 10\n",
    "for page in range(0,10):\n",
    "    author_tags = driver.find_elements(By.XPATH,'//div[@class=\"author\"]')\n",
    "    for i in author_tags:\n",
    "         author.append(i.text)\n",
    "    next_button = driver.find_element(By.XPATH,\"/html/body/div[1]/div[2]/div/div/div/div[1]/div/div[3]/li[12]\")\n",
    "    next_button.click()\n",
    "    time.sleep(11)"
   ]
  },
  {
   "cell_type": "code",
   "execution_count": 248,
   "id": "f16fc507",
   "metadata": {},
   "outputs": [
    {
     "data": {
      "text/plain": [
       "1000"
      ]
     },
     "execution_count": 248,
     "metadata": {},
     "output_type": "execute_result"
    }
   ],
   "source": [
    "len(author)"
   ]
  },
  {
   "cell_type": "code",
   "execution_count": 249,
   "id": "e9e32275",
   "metadata": {},
   "outputs": [],
   "source": [
    "# Scrape top 1000 quotes type\n",
    "start = 0\n",
    "end = 10\n",
    "for page in range(0,10):\n",
    "    type_tags = driver.find_elements(By.XPATH,'//div[@class=\"tags\"]')\n",
    "    for i in type_tags:\n",
    "         type_quote.append(i.text)\n",
    "    next_button = driver.find_element(By.XPATH,\"/html/body/div[1]/div[2]/div/div/div/div[1]/div/div[3]/li[12]\")\n",
    "    next_button.click()\n",
    "    time.sleep(11)"
   ]
  },
  {
   "cell_type": "code",
   "execution_count": 250,
   "id": "7263b478",
   "metadata": {},
   "outputs": [
    {
     "data": {
      "text/plain": [
       "1000"
      ]
     },
     "execution_count": 250,
     "metadata": {},
     "output_type": "execute_result"
    }
   ],
   "source": [
    "len(type_quote)"
   ]
  },
  {
   "cell_type": "code",
   "execution_count": 251,
   "id": "2062bcad",
   "metadata": {},
   "outputs": [
    {
     "data": {
      "text/html": [
       "<div>\n",
       "<style scoped>\n",
       "    .dataframe tbody tr th:only-of-type {\n",
       "        vertical-align: middle;\n",
       "    }\n",
       "\n",
       "    .dataframe tbody tr th {\n",
       "        vertical-align: top;\n",
       "    }\n",
       "\n",
       "    .dataframe thead th {\n",
       "        text-align: right;\n",
       "    }\n",
       "</style>\n",
       "<table border=\"1\" class=\"dataframe\">\n",
       "  <thead>\n",
       "    <tr style=\"text-align: right;\">\n",
       "      <th></th>\n",
       "      <th>Quote</th>\n",
       "      <th>Author</th>\n",
       "      <th>Type of Quotes</th>\n",
       "    </tr>\n",
       "  </thead>\n",
       "  <tbody>\n",
       "    <tr>\n",
       "      <th>0</th>\n",
       "      <td>The essence of strategy is choosing what not t...</td>\n",
       "      <td>Michael Porter</td>\n",
       "      <td>Essence, Deep Thought, Transcendentalism</td>\n",
       "    </tr>\n",
       "    <tr>\n",
       "      <th>1</th>\n",
       "      <td>One cannot and must not try to erase the past ...</td>\n",
       "      <td>Golda Meir</td>\n",
       "      <td>Inspiration, Past, Trying</td>\n",
       "    </tr>\n",
       "    <tr>\n",
       "      <th>2</th>\n",
       "      <td>Patriotism means to stand by the country. It d...</td>\n",
       "      <td>Theodore Roosevelt</td>\n",
       "      <td>Country, Peace, War</td>\n",
       "    </tr>\n",
       "    <tr>\n",
       "      <th>3</th>\n",
       "      <td>Death is something inevitable. When a man has ...</td>\n",
       "      <td>Nelson Mandela</td>\n",
       "      <td>Inspirational, Motivational, Death</td>\n",
       "    </tr>\n",
       "    <tr>\n",
       "      <th>4</th>\n",
       "      <td>You have to love a nation that celebrates its ...</td>\n",
       "      <td>Erma Bombeck</td>\n",
       "      <td>4th Of July, Food, Patriotic</td>\n",
       "    </tr>\n",
       "    <tr>\n",
       "      <th>...</th>\n",
       "      <td>...</td>\n",
       "      <td>...</td>\n",
       "      <td>...</td>\n",
       "    </tr>\n",
       "    <tr>\n",
       "      <th>995</th>\n",
       "      <td>Regret for the things we did can be tempered b...</td>\n",
       "      <td>Sydney J. Harris</td>\n",
       "      <td>Love, Inspirational, Motivational</td>\n",
       "    </tr>\n",
       "    <tr>\n",
       "      <th>996</th>\n",
       "      <td>America... just a nation of two hundred millio...</td>\n",
       "      <td>Hunter S. Thompson</td>\n",
       "      <td>Gun, Two, Qualms About</td>\n",
       "    </tr>\n",
       "    <tr>\n",
       "      <th>997</th>\n",
       "      <td>For every disciplined effort there is a multip...</td>\n",
       "      <td>Jim Rohn</td>\n",
       "      <td>Inspirational, Greatness, Best Effort</td>\n",
       "    </tr>\n",
       "    <tr>\n",
       "      <th>998</th>\n",
       "      <td>The spiritual journey is individual, highly pe...</td>\n",
       "      <td>Ram Dass</td>\n",
       "      <td>Spiritual, Truth, Yoga</td>\n",
       "    </tr>\n",
       "    <tr>\n",
       "      <th>999</th>\n",
       "      <td>The mind is not a vessel to be filled but a fi...</td>\n",
       "      <td>Plutarch</td>\n",
       "      <td>Inspirational, Leadership, Education</td>\n",
       "    </tr>\n",
       "  </tbody>\n",
       "</table>\n",
       "<p>1000 rows × 3 columns</p>\n",
       "</div>"
      ],
      "text/plain": [
       "                                                 Quote              Author  \\\n",
       "0    The essence of strategy is choosing what not t...      Michael Porter   \n",
       "1    One cannot and must not try to erase the past ...          Golda Meir   \n",
       "2    Patriotism means to stand by the country. It d...  Theodore Roosevelt   \n",
       "3    Death is something inevitable. When a man has ...      Nelson Mandela   \n",
       "4    You have to love a nation that celebrates its ...        Erma Bombeck   \n",
       "..                                                 ...                 ...   \n",
       "995  Regret for the things we did can be tempered b...    Sydney J. Harris   \n",
       "996  America... just a nation of two hundred millio...  Hunter S. Thompson   \n",
       "997  For every disciplined effort there is a multip...            Jim Rohn   \n",
       "998  The spiritual journey is individual, highly pe...            Ram Dass   \n",
       "999  The mind is not a vessel to be filled but a fi...            Plutarch   \n",
       "\n",
       "                               Type of Quotes  \n",
       "0    Essence, Deep Thought, Transcendentalism  \n",
       "1                   Inspiration, Past, Trying  \n",
       "2                         Country, Peace, War  \n",
       "3          Inspirational, Motivational, Death  \n",
       "4                4th Of July, Food, Patriotic  \n",
       "..                                        ...  \n",
       "995         Love, Inspirational, Motivational  \n",
       "996                    Gun, Two, Qualms About  \n",
       "997     Inspirational, Greatness, Best Effort  \n",
       "998                    Spiritual, Truth, Yoga  \n",
       "999      Inspirational, Leadership, Education  \n",
       "\n",
       "[1000 rows x 3 columns]"
      ]
     },
     "execution_count": 251,
     "metadata": {},
     "output_type": "execute_result"
    }
   ],
   "source": [
    "#creating DataFrame\n",
    "\n",
    "df = pd.DataFrame({\"Quote\":quote,\"Author\":author,\"Type of Quotes\":type_quote})\n",
    "df"
   ]
  },
  {
   "cell_type": "code",
   "execution_count": null,
   "id": "d7d66731",
   "metadata": {},
   "outputs": [],
   "source": []
  },
  {
   "cell_type": "markdown",
   "id": "2b4b5442",
   "metadata": {},
   "source": [
    "# Q9. List of respected former Prime Ministers of India"
   ]
  },
  {
   "cell_type": "code",
   "execution_count": null,
   "id": "4d112b08",
   "metadata": {},
   "outputs": [],
   "source": []
  },
  {
   "cell_type": "code",
   "execution_count": 7,
   "id": "4a208ed5",
   "metadata": {},
   "outputs": [],
   "source": [
    "# Connecting to the driver\n",
    "driver = webdriver.Chrome(r\"C:\\Users\\navee\\Downloads\\chromedriver_win32\\chromedriver.exe\")"
   ]
  },
  {
   "cell_type": "code",
   "execution_count": 8,
   "id": "90f3b3bf",
   "metadata": {},
   "outputs": [],
   "source": [
    "# Opening Page\n",
    "driver.get(\"http://www.jagranjosh.com/\")"
   ]
  },
  {
   "cell_type": "code",
   "execution_count": 9,
   "id": "f6fa15ac",
   "metadata": {},
   "outputs": [],
   "source": [
    "# searching GK\n",
    "search = driver.find_element(By.XPATH,\"/html/body/div/div[1]/div/div[1]/div/div[6]/div/div[1]/header/div[3]/ul/li[9]/a\")\n",
    "search.click()"
   ]
  },
  {
   "cell_type": "code",
   "execution_count": 10,
   "id": "9d5c4b60",
   "metadata": {},
   "outputs": [],
   "source": [
    "# searching list of all prime ministers\n",
    "search2 = driver.find_element(By.XPATH,'//a[@href=\"https://www.jagranjosh.com/general-knowledge/list-of-all-prime-ministers-of-india-1473165149-1\"]')\n",
    "search2.click()"
   ]
  },
  {
   "cell_type": "code",
   "execution_count": 11,
   "id": "5ae64246",
   "metadata": {},
   "outputs": [],
   "source": [
    "name = []\n",
    "bd = []\n",
    "office = []\n",
    "remark = []"
   ]
  },
  {
   "cell_type": "code",
   "execution_count": 12,
   "id": "caa6b06f",
   "metadata": {},
   "outputs": [],
   "source": [
    "# scarpe PM name\n",
    "\n",
    "name_tags = driver.find_elements(By.XPATH,'//*[@id=\"itemdiv\"]/div[4]/span/div[2]/table/tbody/tr/td[2]/p')\n",
    "for i in name_tags:\n",
    "    name.append(i.text)"
   ]
  },
  {
   "cell_type": "code",
   "execution_count": 13,
   "id": "c7a2eaea",
   "metadata": {},
   "outputs": [
    {
     "data": {
      "text/plain": [
       "['Jawahar Lal Nehru',\n",
       " 'Gulzarilal Nanda (Acting)',\n",
       " 'Lal Bahadur Shastri',\n",
       " 'Gulzari Lal Nanda  (Acting)',\n",
       " 'Indira Gandhi',\n",
       " 'Morarji Desai',\n",
       " 'Charan Singh',\n",
       " 'Indira Gandhi',\n",
       " 'Rajiv Gandhi',\n",
       " 'V. P. Singh',\n",
       " 'Chandra Shekhar',\n",
       " 'P. V. Narasimha Rao',\n",
       " 'Atal Bihari Vajpayee',\n",
       " 'H. D. Deve Gowda',\n",
       " 'Inder Kumar Gujral',\n",
       " 'Atal Bihari Vajpayee',\n",
       " 'Manmohan Singh',\n",
       " 'Narendra Modi']"
      ]
     },
     "execution_count": 13,
     "metadata": {},
     "output_type": "execute_result"
    }
   ],
   "source": [
    "name"
   ]
  },
  {
   "cell_type": "code",
   "execution_count": 14,
   "id": "d8b93621",
   "metadata": {},
   "outputs": [],
   "source": [
    "# scarpe PM Born and Dead\n",
    "\n",
    "bd_tags = driver.find_elements(By.XPATH,'//*[@id=\"itemdiv\"]/div[4]/span/div[2]/table/tbody/tr/td[3]/p')\n",
    "for i in bd_tags:\n",
    "    bd.append(i.text)"
   ]
  },
  {
   "cell_type": "code",
   "execution_count": 15,
   "id": "ba3cb391",
   "metadata": {},
   "outputs": [
    {
     "data": {
      "text/plain": [
       "['(1889–1964)',\n",
       " '(1898-1998)',\n",
       " '(1904–1966)',\n",
       " '(1898-1998)',\n",
       " '(1917–1984)',\n",
       " '(1896–1995)',\n",
       " '(1902–1987)',\n",
       " '(1917–1984)',\n",
       " '(1944–1991)',\n",
       " '(1931–2008)',\n",
       " '(1927–2007)',\n",
       " '(1921–2004)',\n",
       " '(1924- 2018)',\n",
       " '(born 1933)',\n",
       " '(1919–2012)',\n",
       " '(1924-2018)',\n",
       " '(born 1932)',\n",
       " '(born 1950)']"
      ]
     },
     "execution_count": 15,
     "metadata": {},
     "output_type": "execute_result"
    }
   ],
   "source": [
    "bd"
   ]
  },
  {
   "cell_type": "code",
   "execution_count": 16,
   "id": "c4b8d9e4",
   "metadata": {},
   "outputs": [],
   "source": [
    "# scarpe PM term of office\n",
    "\n",
    "office_tags = driver.find_elements(By.XPATH,'//*[@id=\"itemdiv\"]/div[4]/span/div[2]/table/tbody/tr/td[4]')\n",
    "for i in office_tags:\n",
    "    office.append(i.text)"
   ]
  },
  {
   "cell_type": "code",
   "execution_count": 17,
   "id": "87e69261",
   "metadata": {},
   "outputs": [
    {
     "data": {
      "text/plain": [
       "['15 August 1947 to 27 May 1964\\n16 years, 286 days',\n",
       " '27 May 1964 to 9 June 1964,\\n13 days',\n",
       " '9 June 1964 to 11 January 1966\\n1 year, 216 days',\n",
       " '11 January 1966 to 24 January 1966\\n13 days',\n",
       " '24 January 1966 to 24 March 1977\\n11 years, 59 days',\n",
       " '24 March 1977 to  28 July 1979 \\n2 year, 126 days',\n",
       " '28 July 1979 to 14 January 1980\\n170 days',\n",
       " '14 January 1980 to 31 October 1984\\n4 years, 291 days',\n",
       " '31 October 1984 to 2 December 1989\\n5 years, 32 days',\n",
       " '2 December 1989 to 10 November 1990\\n343 days',\n",
       " '10 November 1990 to 21 June 1991\\n223 days',\n",
       " '21 June 1991 to 16 May 1996\\n4 years, 330 days',\n",
       " '16 May 1996 to 1 June 1996\\n16 days',\n",
       " '1 June 1996 to 21 April 1997\\n324 days',\n",
       " '21 April 1997 to 19 March 1998 \\n332 days',\n",
       " '19 March 1998 to 22 May 2004 \\n6 years, 64 days',\n",
       " '22 May 2004 to 26 May 2014   \\n10 years, 4 days',\n",
       " '26 May 2014 - Present']"
      ]
     },
     "execution_count": 17,
     "metadata": {},
     "output_type": "execute_result"
    }
   ],
   "source": [
    "office"
   ]
  },
  {
   "cell_type": "code",
   "execution_count": 18,
   "id": "139bd7de",
   "metadata": {},
   "outputs": [
    {
     "data": {
      "text/plain": [
       "18"
      ]
     },
     "execution_count": 18,
     "metadata": {},
     "output_type": "execute_result"
    }
   ],
   "source": [
    "len(office)"
   ]
  },
  {
   "cell_type": "code",
   "execution_count": 19,
   "id": "abcf26df",
   "metadata": {},
   "outputs": [
    {
     "data": {
      "text/plain": [
       "[['15 August 1947 to 27 May 1964', '16 years, 286 days'],\n",
       " ['27 May 1964 to 9 June 1964,', '13 days'],\n",
       " ['9 June 1964 to 11 January 1966', '1 year, 216 days'],\n",
       " ['11 January 1966 to 24 January 1966', '13 days'],\n",
       " ['24 January 1966 to 24 March 1977', '11 years, 59 days'],\n",
       " ['24 March 1977 to  28 July 1979 ', '2 year, 126 days'],\n",
       " ['28 July 1979 to 14 January 1980', '170 days'],\n",
       " ['14 January 1980 to 31 October 1984', '4 years, 291 days'],\n",
       " ['31 October 1984 to 2 December 1989', '5 years, 32 days'],\n",
       " ['2 December 1989 to 10 November 1990', '343 days'],\n",
       " ['10 November 1990 to 21 June 1991', '223 days'],\n",
       " ['21 June 1991 to 16 May 1996', '4 years, 330 days'],\n",
       " ['16 May 1996 to 1 June 1996', '16 days'],\n",
       " ['1 June 1996 to 21 April 1997', '324 days'],\n",
       " ['21 April 1997 to 19 March 1998 ', '332 days'],\n",
       " ['19 March 1998 to 22 May 2004 ', '6 years, 64 days'],\n",
       " ['22 May 2004 to 26 May 2014   ', '10 years, 4 days'],\n",
       " ['26 May 2014 - Present']]"
      ]
     },
     "execution_count": 19,
     "metadata": {},
     "output_type": "execute_result"
    }
   ],
   "source": [
    "office1 = []\n",
    "\n",
    "for i in range(len(office)):\n",
    "    if i==len(office)-19:\n",
    "        break\n",
    "    else:\n",
    "        office2 = office[i].strip().split(\"\\n\")\n",
    "    office1.append(office2)\n",
    "office1"
   ]
  },
  {
   "cell_type": "code",
   "execution_count": 20,
   "id": "60161560",
   "metadata": {},
   "outputs": [],
   "source": [
    "# scarpe PM Remark\n",
    "\n",
    "remark_tags = driver.find_elements(By.XPATH,'//*[@id=\"itemdiv\"]/div[4]/span/div[2]/table/tbody/tr/td[5]/p')\n",
    "for i in remark_tags:\n",
    "    remark.append(i.text)"
   ]
  },
  {
   "cell_type": "code",
   "execution_count": 21,
   "id": "5f487f3f",
   "metadata": {},
   "outputs": [
    {
     "data": {
      "text/plain": [
       "['The first prime minister of India and the longest-serving PM of India, the first to die in office.',\n",
       " 'First acting PM of India',\n",
       " \"He has given the slogan of 'Jai Jawan Jai Kisan' during the Indo-Pak war of 1965\",\n",
       " '-',\n",
       " 'First female Prime Minister of India',\n",
       " 'Oldest to become PM (81 years old) and first to resign from office',\n",
       " 'Only PM who did not face the Parliament',\n",
       " 'The first lady who served as PM for the second term',\n",
       " 'Youngest to become PM (40 years old)',\n",
       " 'First PM to step down after a vote of no confidence',\n",
       " 'He belongs to  Samajwadi Janata Party',\n",
       " 'First PM from south India',\n",
       " 'PM for shortest tenure',\n",
       " 'He belongs to  Janata Dal',\n",
       " '------',\n",
       " ' The first non-congress PM who completed a full term as PM',\n",
       " ' First Sikh PM',\n",
       " '4th Prime Minister of India who served two consecutive tenures']"
      ]
     },
     "execution_count": 21,
     "metadata": {},
     "output_type": "execute_result"
    }
   ],
   "source": [
    "remark"
   ]
  },
  {
   "cell_type": "code",
   "execution_count": 22,
   "id": "40be13ed",
   "metadata": {},
   "outputs": [
    {
     "data": {
      "text/plain": [
       "18"
      ]
     },
     "execution_count": 22,
     "metadata": {},
     "output_type": "execute_result"
    }
   ],
   "source": [
    "len(remark)"
   ]
  },
  {
   "cell_type": "code",
   "execution_count": 23,
   "id": "68ac8361",
   "metadata": {},
   "outputs": [
    {
     "data": {
      "text/html": [
       "<div>\n",
       "<style scoped>\n",
       "    .dataframe tbody tr th:only-of-type {\n",
       "        vertical-align: middle;\n",
       "    }\n",
       "\n",
       "    .dataframe tbody tr th {\n",
       "        vertical-align: top;\n",
       "    }\n",
       "\n",
       "    .dataframe thead th {\n",
       "        text-align: right;\n",
       "    }\n",
       "</style>\n",
       "<table border=\"1\" class=\"dataframe\">\n",
       "  <thead>\n",
       "    <tr style=\"text-align: right;\">\n",
       "      <th></th>\n",
       "      <th>Name</th>\n",
       "      <th>Born-Dead</th>\n",
       "      <th>Term of Office</th>\n",
       "      <th>Remark</th>\n",
       "    </tr>\n",
       "  </thead>\n",
       "  <tbody>\n",
       "    <tr>\n",
       "      <th>0</th>\n",
       "      <td>Jawahar Lal Nehru</td>\n",
       "      <td>(1889–1964)</td>\n",
       "      <td>[15 August 1947 to 27 May 1964, 16 years, 286 ...</td>\n",
       "      <td>The first prime minister of India and the long...</td>\n",
       "    </tr>\n",
       "    <tr>\n",
       "      <th>1</th>\n",
       "      <td>Gulzarilal Nanda (Acting)</td>\n",
       "      <td>(1898-1998)</td>\n",
       "      <td>[27 May 1964 to 9 June 1964,, 13 days]</td>\n",
       "      <td>First acting PM of India</td>\n",
       "    </tr>\n",
       "    <tr>\n",
       "      <th>2</th>\n",
       "      <td>Lal Bahadur Shastri</td>\n",
       "      <td>(1904–1966)</td>\n",
       "      <td>[9 June 1964 to 11 January 1966, 1 year, 216 d...</td>\n",
       "      <td>He has given the slogan of 'Jai Jawan Jai Kisa...</td>\n",
       "    </tr>\n",
       "    <tr>\n",
       "      <th>3</th>\n",
       "      <td>Gulzari Lal Nanda  (Acting)</td>\n",
       "      <td>(1898-1998)</td>\n",
       "      <td>[11 January 1966 to 24 January 1966, 13 days]</td>\n",
       "      <td>-</td>\n",
       "    </tr>\n",
       "    <tr>\n",
       "      <th>4</th>\n",
       "      <td>Indira Gandhi</td>\n",
       "      <td>(1917–1984)</td>\n",
       "      <td>[24 January 1966 to 24 March 1977, 11 years, 5...</td>\n",
       "      <td>First female Prime Minister of India</td>\n",
       "    </tr>\n",
       "    <tr>\n",
       "      <th>5</th>\n",
       "      <td>Morarji Desai</td>\n",
       "      <td>(1896–1995)</td>\n",
       "      <td>[24 March 1977 to  28 July 1979 , 2 year, 126 ...</td>\n",
       "      <td>Oldest to become PM (81 years old) and first t...</td>\n",
       "    </tr>\n",
       "    <tr>\n",
       "      <th>6</th>\n",
       "      <td>Charan Singh</td>\n",
       "      <td>(1902–1987)</td>\n",
       "      <td>[28 July 1979 to 14 January 1980, 170 days]</td>\n",
       "      <td>Only PM who did not face the Parliament</td>\n",
       "    </tr>\n",
       "    <tr>\n",
       "      <th>7</th>\n",
       "      <td>Indira Gandhi</td>\n",
       "      <td>(1917–1984)</td>\n",
       "      <td>[14 January 1980 to 31 October 1984, 4 years, ...</td>\n",
       "      <td>The first lady who served as PM for the second...</td>\n",
       "    </tr>\n",
       "    <tr>\n",
       "      <th>8</th>\n",
       "      <td>Rajiv Gandhi</td>\n",
       "      <td>(1944–1991)</td>\n",
       "      <td>[31 October 1984 to 2 December 1989, 5 years, ...</td>\n",
       "      <td>Youngest to become PM (40 years old)</td>\n",
       "    </tr>\n",
       "    <tr>\n",
       "      <th>9</th>\n",
       "      <td>V. P. Singh</td>\n",
       "      <td>(1931–2008)</td>\n",
       "      <td>[2 December 1989 to 10 November 1990, 343 days]</td>\n",
       "      <td>First PM to step down after a vote of no confi...</td>\n",
       "    </tr>\n",
       "    <tr>\n",
       "      <th>10</th>\n",
       "      <td>Chandra Shekhar</td>\n",
       "      <td>(1927–2007)</td>\n",
       "      <td>[10 November 1990 to 21 June 1991, 223 days]</td>\n",
       "      <td>He belongs to  Samajwadi Janata Party</td>\n",
       "    </tr>\n",
       "    <tr>\n",
       "      <th>11</th>\n",
       "      <td>P. V. Narasimha Rao</td>\n",
       "      <td>(1921–2004)</td>\n",
       "      <td>[21 June 1991 to 16 May 1996, 4 years, 330 days]</td>\n",
       "      <td>First PM from south India</td>\n",
       "    </tr>\n",
       "    <tr>\n",
       "      <th>12</th>\n",
       "      <td>Atal Bihari Vajpayee</td>\n",
       "      <td>(1924- 2018)</td>\n",
       "      <td>[16 May 1996 to 1 June 1996, 16 days]</td>\n",
       "      <td>PM for shortest tenure</td>\n",
       "    </tr>\n",
       "    <tr>\n",
       "      <th>13</th>\n",
       "      <td>H. D. Deve Gowda</td>\n",
       "      <td>(born 1933)</td>\n",
       "      <td>[1 June 1996 to 21 April 1997, 324 days]</td>\n",
       "      <td>He belongs to  Janata Dal</td>\n",
       "    </tr>\n",
       "    <tr>\n",
       "      <th>14</th>\n",
       "      <td>Inder Kumar Gujral</td>\n",
       "      <td>(1919–2012)</td>\n",
       "      <td>[21 April 1997 to 19 March 1998 , 332 days]</td>\n",
       "      <td>------</td>\n",
       "    </tr>\n",
       "    <tr>\n",
       "      <th>15</th>\n",
       "      <td>Atal Bihari Vajpayee</td>\n",
       "      <td>(1924-2018)</td>\n",
       "      <td>[19 March 1998 to 22 May 2004 , 6 years, 64 days]</td>\n",
       "      <td>The first non-congress PM who completed a ful...</td>\n",
       "    </tr>\n",
       "    <tr>\n",
       "      <th>16</th>\n",
       "      <td>Manmohan Singh</td>\n",
       "      <td>(born 1932)</td>\n",
       "      <td>[22 May 2004 to 26 May 2014   , 10 years, 4 days]</td>\n",
       "      <td>First Sikh PM</td>\n",
       "    </tr>\n",
       "    <tr>\n",
       "      <th>17</th>\n",
       "      <td>Narendra Modi</td>\n",
       "      <td>(born 1950)</td>\n",
       "      <td>[26 May 2014 - Present]</td>\n",
       "      <td>4th Prime Minister of India who served two con...</td>\n",
       "    </tr>\n",
       "  </tbody>\n",
       "</table>\n",
       "</div>"
      ],
      "text/plain": [
       "                           Name     Born-Dead  \\\n",
       "0             Jawahar Lal Nehru   (1889–1964)   \n",
       "1     Gulzarilal Nanda (Acting)   (1898-1998)   \n",
       "2           Lal Bahadur Shastri   (1904–1966)   \n",
       "3   Gulzari Lal Nanda  (Acting)   (1898-1998)   \n",
       "4                 Indira Gandhi   (1917–1984)   \n",
       "5                 Morarji Desai   (1896–1995)   \n",
       "6                  Charan Singh   (1902–1987)   \n",
       "7                 Indira Gandhi   (1917–1984)   \n",
       "8                  Rajiv Gandhi   (1944–1991)   \n",
       "9                   V. P. Singh   (1931–2008)   \n",
       "10              Chandra Shekhar   (1927–2007)   \n",
       "11          P. V. Narasimha Rao   (1921–2004)   \n",
       "12         Atal Bihari Vajpayee  (1924- 2018)   \n",
       "13             H. D. Deve Gowda   (born 1933)   \n",
       "14           Inder Kumar Gujral   (1919–2012)   \n",
       "15         Atal Bihari Vajpayee   (1924-2018)   \n",
       "16               Manmohan Singh   (born 1932)   \n",
       "17                Narendra Modi   (born 1950)   \n",
       "\n",
       "                                       Term of Office  \\\n",
       "0   [15 August 1947 to 27 May 1964, 16 years, 286 ...   \n",
       "1              [27 May 1964 to 9 June 1964,, 13 days]   \n",
       "2   [9 June 1964 to 11 January 1966, 1 year, 216 d...   \n",
       "3       [11 January 1966 to 24 January 1966, 13 days]   \n",
       "4   [24 January 1966 to 24 March 1977, 11 years, 5...   \n",
       "5   [24 March 1977 to  28 July 1979 , 2 year, 126 ...   \n",
       "6         [28 July 1979 to 14 January 1980, 170 days]   \n",
       "7   [14 January 1980 to 31 October 1984, 4 years, ...   \n",
       "8   [31 October 1984 to 2 December 1989, 5 years, ...   \n",
       "9     [2 December 1989 to 10 November 1990, 343 days]   \n",
       "10       [10 November 1990 to 21 June 1991, 223 days]   \n",
       "11   [21 June 1991 to 16 May 1996, 4 years, 330 days]   \n",
       "12              [16 May 1996 to 1 June 1996, 16 days]   \n",
       "13           [1 June 1996 to 21 April 1997, 324 days]   \n",
       "14        [21 April 1997 to 19 March 1998 , 332 days]   \n",
       "15  [19 March 1998 to 22 May 2004 , 6 years, 64 days]   \n",
       "16  [22 May 2004 to 26 May 2014   , 10 years, 4 days]   \n",
       "17                            [26 May 2014 - Present]   \n",
       "\n",
       "                                               Remark  \n",
       "0   The first prime minister of India and the long...  \n",
       "1                            First acting PM of India  \n",
       "2   He has given the slogan of 'Jai Jawan Jai Kisa...  \n",
       "3                                                   -  \n",
       "4                First female Prime Minister of India  \n",
       "5   Oldest to become PM (81 years old) and first t...  \n",
       "6             Only PM who did not face the Parliament  \n",
       "7   The first lady who served as PM for the second...  \n",
       "8                Youngest to become PM (40 years old)  \n",
       "9   First PM to step down after a vote of no confi...  \n",
       "10              He belongs to  Samajwadi Janata Party  \n",
       "11                          First PM from south India  \n",
       "12                             PM for shortest tenure  \n",
       "13                          He belongs to  Janata Dal  \n",
       "14                                             ------  \n",
       "15   The first non-congress PM who completed a ful...  \n",
       "16                                      First Sikh PM  \n",
       "17  4th Prime Minister of India who served two con...  "
      ]
     },
     "execution_count": 23,
     "metadata": {},
     "output_type": "execute_result"
    }
   ],
   "source": [
    "#creating DataFrame\n",
    "\n",
    "df = pd.DataFrame({\"Name\":name,\"Born-Dead\":bd,\"Term of Office\":office1,\"Remark\":remark})\n",
    "df"
   ]
  },
  {
   "cell_type": "code",
   "execution_count": null,
   "id": "93d827a2",
   "metadata": {},
   "outputs": [],
   "source": []
  },
  {
   "cell_type": "markdown",
   "id": "92f96e39",
   "metadata": {},
   "source": [
    "# Q.10  50 Most expensive cars in the world"
   ]
  },
  {
   "cell_type": "code",
   "execution_count": 2,
   "id": "9ea45f1f",
   "metadata": {},
   "outputs": [],
   "source": [
    "# Connecting to the driver\n",
    "driver = webdriver.Chrome(r\"C:\\Users\\navee\\Downloads\\chromedriver_win32\\chromedriver.exe\")"
   ]
  },
  {
   "cell_type": "code",
   "execution_count": 3,
   "id": "f70caee5",
   "metadata": {},
   "outputs": [],
   "source": [
    "# Opening Page\n",
    "driver.get(\"https://www.motor1.com/\")"
   ]
  },
  {
   "cell_type": "code",
   "execution_count": null,
   "id": "cbb4d5a3",
   "metadata": {},
   "outputs": [],
   "source": [
    "# searching cars\n",
    "drop = driver.find_element(By.XPATH,'//div[@class=\"m1-hamburger-button\"]')\n",
    "drop.click()"
   ]
  },
  {
   "cell_type": "code",
   "execution_count": 6,
   "id": "61f8160e",
   "metadata": {},
   "outputs": [],
   "source": [
    "# searching cars\n",
    "drop2 = driver.find_element(By.XPATH,'//li[@class=\"m1-navigation-main__animated-block grand left top mobile dropdown show\"]')\n",
    "drop2.click()"
   ]
  },
  {
   "cell_type": "code",
   "execution_count": 7,
   "id": "bf0f2fc5",
   "metadata": {},
   "outputs": [],
   "source": [
    "# searching cars\n",
    "drop3 = driver.find_element(By.XPATH,'//a[@href=\"/features/308149/most-expensive-new-cars-ever/\"]')\n",
    "drop3.click()"
   ]
  },
  {
   "cell_type": "code",
   "execution_count": 8,
   "id": "07c0fd27",
   "metadata": {},
   "outputs": [],
   "source": [
    "car = []\n",
    "description = []\n",
    "price = []"
   ]
  },
  {
   "cell_type": "code",
   "execution_count": 9,
   "id": "10f57adb",
   "metadata": {},
   "outputs": [],
   "source": [
    "# scarpe Car\n",
    "\n",
    "car_tags = driver.find_elements(By.XPATH,'//*[@id=\"article_box\"]/div[1]/div[2]/div[1]/h3')\n",
    "for i in car_tags:\n",
    "    car.append(i.text)"
   ]
  },
  {
   "cell_type": "code",
   "execution_count": 10,
   "id": "71f93d65",
   "metadata": {},
   "outputs": [
    {
     "data": {
      "text/plain": [
       "['Drako GTE',\n",
       " 'De Tomaso P72',\n",
       " 'Ferrari LaFerrari',\n",
       " 'Pagani Huayra',\n",
       " 'McLaren Elva',\n",
       " 'Czinger 21C',\n",
       " 'Ferrari Monza',\n",
       " 'Gordon Murray T.33',\n",
       " 'Koenigsegg Gemera',\n",
       " 'Zenvo TSR-S',\n",
       " 'Hennessey Venom F5',\n",
       " 'Bentley Bacalar',\n",
       " 'Hispano Suiza Carmen Boulogne',\n",
       " 'Bentley Mulliner Batur',\n",
       " 'Deus Vayanne',\n",
       " 'SSC Tuatara',\n",
       " 'Lotus Evija',\n",
       " 'Aston Martin Vulcan',\n",
       " 'Delage D12',\n",
       " 'McLaren Speedtail',\n",
       " 'Rimac Nevera',\n",
       " 'Pagani Utopia',\n",
       " 'Pininfarina Battista',\n",
       " 'Ferrari FXX K Evo',\n",
       " 'Gordon Murray T.50',\n",
       " 'Lamborghini Countach',\n",
       " 'Mercedes-AMG Project One',\n",
       " 'Aston Martin Victor',\n",
       " 'Hennessey Venom F5 Roadster',\n",
       " 'Koenigsegg Jesko',\n",
       " 'Aston Martin Valkyrie',\n",
       " 'W Motors Lykan Hypersport',\n",
       " 'McLaren Solus',\n",
       " 'Pagani Huayra Roadster BC',\n",
       " 'Bugatti Chiron Pur Sport',\n",
       " 'Lamborghini Sian',\n",
       " 'Koenigsegg CC850',\n",
       " 'Bugatti Chiron Super Sport 300+',\n",
       " 'Lamborghini Veneno',\n",
       " 'Bugatti Bolide',\n",
       " 'Bugatti Mistral',\n",
       " 'Pagani Huayra Imola',\n",
       " 'Bugatti Divo',\n",
       " 'SP Automotive Chaos',\n",
       " 'Pagani Codalunga',\n",
       " 'Mercedes-Maybach Exelero',\n",
       " 'Bugatti Centodieci',\n",
       " 'Rolls-Royce Sweptail',\n",
       " 'Bugatti La Voiture Noire',\n",
       " 'Rolls-Royce Boat Tail*']"
      ]
     },
     "execution_count": 10,
     "metadata": {},
     "output_type": "execute_result"
    }
   ],
   "source": [
    "car1 = car[0:50]\n",
    "car1"
   ]
  },
  {
   "cell_type": "code",
   "execution_count": 11,
   "id": "1df80ca2",
   "metadata": {},
   "outputs": [
    {
     "data": {
      "text/plain": [
       "50"
      ]
     },
     "execution_count": 11,
     "metadata": {},
     "output_type": "execute_result"
    }
   ],
   "source": [
    "len(car1)"
   ]
  },
  {
   "cell_type": "code",
   "execution_count": 38,
   "id": "fe58373b",
   "metadata": {},
   "outputs": [],
   "source": [
    "# scarpe Car\n",
    "\n",
    "description_tags = driver.find_elements(By.XPATH,'//*[@id=\"article_box\"]/div[1]/div[2]/div[1]/p')\n",
    "for i in description_tags:\n",
    "    description.append(i.text)"
   ]
  },
  {
   "cell_type": "code",
   "execution_count": 39,
   "id": "fc644894",
   "metadata": {},
   "outputs": [
    {
     "data": {
      "text/plain": [
       "['By: Jeff Perez',\n",
       " 'When it comes to high-end hypercars and super-fast supercars, a few companies should come to mind first: Bugatti, Ferrari, Koenigsegg, Rimac, and Pagani, among others. These manufacturers have cemented themselves as the top dogs in the supercar and hypercar space, extending to their wealthiest clientele the fastest, rarest, prettiest – and in this case – most expensive cars on the planet.\\nBut in order to find out which of these unattainable-to-most vehicles is the priciest, we\\'ve scoured the invoice sheets and uncovered 40 cars all worth $1 million or more. The group includes hybrid Ferrari convertibles, an American speed king, a few electric Hypercars, and two a one-of-a-kind Rolls-Royce cars built for royalty.\\nWe should note, though: The prices listed here are the price of the vehicles when new. So we’re not counting auction cars like the Ferrari 250 GTO, or overpriced secondhand sales. But don’t worry, there’s still hundreds of millions worth of cars here to whet your appetite.\\nTop Videos:\\nBentley Orchestra\\nJoin owners and enthusiasts discussing this topic at FerrariChat.com!\\nDrako GTE\\nPrice: $1.2 Million\\nThe Drako GTE is a super sedan in every sense of the word. Packing 1,200 horsepower and a whopping 6,491 pound-feet of torque from a fully electric powertrain, the GTE can hit 60 in just about 2.0 seconds and tops out at 206 miles per hour. The cost for this family-friendly rocket is a cool $1.2 million.\\nDe Tomaso P72\\nPrice: $1.3 Million\\nThe De Tomaso P72 is basically the definition of beautiful. The shapely supercar debuted at the 2019 Goodwood Festival Of Speed with a supercharged Ford V8 boasting 700 horsepower. The P72 marked the return of the DeTomaso brand after nearly 30 years on hiatus, and if you want one, it will cost you at least $1.3 million.\\nFerrari LaFerrari\\nPrice: $1.4 Million\\nAt $1.4 million new, the Ferrari LaFerrari is actually one of the most affordable supercars on this list. It’s a bargain compared to the most expensive vehicle here. Debuting in 2013 with 950 hybrid horses (708 kilowatts) and a top speed of around 220 miles per hour (354 kilometers per hour), this is still Ferrari’s fastest and most powerful production model to date. The company built just 499 examples of the coupe between 2013 and 2016.\\nPagani Huayra\\nPrice: $1.4 Million\\nInarguably one of the prettiest cars on this list, the Pagani Huayra cost a cool $1.4 million when new. Like the LaFerrari, Pagani built the Huayra in extremely limited numbers. The company hand-constructed just 100 units of the coupe between 2012 and 2018, with another 20 versions of the BC model (which makes our list further down) between 2017 and 2019. Powering each and every example was a Mercedes-AMG V12 capable of 720 horsepower (537 kilowatts).\\nMcLaren Elva\\nPrice: $1.7 Million\\nThe McLaren Elva is one of the latest additions to the British supercar maker’s storied legacy. Even without a proper windshield (though, no option) or roof to rely on, the Elva produces 804 horsepower and 590 pound-feet of torque from its twin-turbocharged 4.0-liter V8. Originally McLaren announced just 399 units, but later the company dropped that to an even more scarce 249 examples. Either way, most of you will never get your hands on one – the Elva costs $1.7 million.\\nCzinger 21C\\nPrice: $1.7 Million\\nYou might not know the name Czinger yet, but this California-based boutique automaker is responsible for the $1.7 million 21C supercar. With 1,250 horsepower on tap thanks to a 2.9-liter twin-turbocharged V8, the 21C can rocket to 60 miles per hour in 1.9 seconds and a top speed of around 281 miles per hour.\\nFerrari Monza\\nPrice: $1.7 Million\\nMuch like the roof-less McLaren Elva, the Ferrari Monza SP1 and SP2 are all about al fresco motoring. As the name implies, the SP1 is the single-seater option while the SP2 has just enough room for you to bring along a friend. Both cars come powered by the same naturally aspirated 6.5-liter V12 engine capable of 809 horsepower and 530 pound-feet. Unfortunately for US buyers, neither of these models are street legal in the States. But f you have the funds to afford the car’s $1.75 million price tag, getting onto a track probably won’t be an issue anyway.\\nGordon Murray T.33\\nPrice: $1.7 Million\\nThe second and slightly more affordable supercar in the new Gordon Murray lineup is the T.33. With 607 horsepower courtesy of a naturally aspirated 3.9-liter V12, the T.33 revs to a ridiculous 10,500 RPM. With a price tag of around $1.7 million at current conversion rates, Gordon Murray automotive promises to sell this car globally, in both right- and left-hand-drive configurations. Too bad it\\'s already sold out.\\nKoenigsegg Gemera\\nPrice: $1.7 Million\\nOne of two Koenigsegg models on this list, the Gemera is actually the Swedish supercar maker’s first four-seater. But that doesn’t mean it’s some family car. With a twin-turbocharged 2.0-liter engine under the hood and three electric motors, the Gemera has 1,700 horsepower and will hit 60 in just 1.9 seconds. The company only plans to build 300 of them, each one costing at least $1.7 million.\\nZenvo TSR-S\\nPrice: $1.7 Million\\nHailing from Denmark, the Zenvo TSR-S debuted in 2018 at the Geneva Motor Show as the most extreme option in the supercar startup’s repertoire. Boasting a twin-charged 5.8-liter V8 engine, the TSR-S produces 1,177 horsepower and will hit 62 miles per hour in just 2.8 seconds. Expect to pay at least $1.7 million to get your hands on this powerful and limited supercar.\\nHennessey Venom F5\\nPrice: $1.8 Million\\nThe Hennessey Venom GT was a record-breaker, topping out at 265.7 miles per hour in a world record run. But the new F5 plans to beat its predecessor with an estimated top speed of 311 mph, and with that comes a higher price, too. The Venom F5 starts at $1.8 million, according to the company, which makes it just a bit pricier than its $1.2-million predecessor.\\nBentley Bacalar\\nPrice: $1.9 Million\\nWith just 12 total units produced, the Bentley Bacalar makes some of the \"limited\" cars on this list look plentiful by comparison. Although the car’s opulent design may be the first thing to grab your attention, the Bacalar is no slouch in terms of performance either. With Bentley’s signature turbocharged 6.0-liter W12 turbocharged engine, this car delivers 650 horsepower and 664 pound-feet. If you have a spare $1.9 million lying around and are considering buying one, you’re already too late – Bentley says that every example is now in customer hands.\\nHispano Suiza Carmen Boulogne\\nPrice: $1.9 Million\\nTo call the Hispano Suiza Carmen Boulogne beautiful would be... a stretch. But this interesting-looking supercar made its US debut at this year\\'s Amelia Island Concours d\\'Elegance boasting a 1,114-horsepower electric powertrain and a 0-60 time of 2.6 seconds. The Boulogne version pictured here – the lighter and more powerful of the two – costs close to $1.9 million.\\nBentley Mulliner Batur\\nPrice: $2.0 Million\\nThe electric onslaught is coming. Bentley says it will be a fully electric automaker by 2030. But before the luxury brand transitions to battery power fully, the Mulliner Batur helps send the iconic W12 engine off in style. With 710 horsepower from that twin-turbocharged engine, the Batur is the most powerful Bentley ever. And since it\\'s limited to just 18 examples globally, the Batur costs a whopping $2.0 million.\\nDeus Vayanne\\nPrice: $2.0 Million\\nThe Deus Vayanne may not be a household name (yet), but the all-electric hypercar debuted earlier this year with 2,200 horsepower, a 0-60 time of just under 2.0 seconds, and an estimated top speed of 248 miles per hour. Deus plans to build 99 examples of the Vayanne, with the first few examples scheduled to go on sale in 2025.\\nSSC Tuatara\\nPrice: $2.0 Million*\\nAlthough initially cloaked in controversy, SSC did manage to hit 282.9 miles per hour with its Tuatara hypercar, breaking a world record. But not only is the Tuatara one of the fastest vehicles on the planet, it’s also one of the priciest. The cost for all that speed is estimated to be around $2.0 million for the base Tuatara, limited to just 100 units worldwide.\\nLotus Evija\\nPrice: $2.1 Million\\nWith a new Emira sports car and an Eletre electric SUV, Lotus is on the brink of a comeback. The automaker plans to roll out a number of new products within the next few years, with part of that strategy including the range-topping Evija. This supercar comes in at a cool $2.1 million and produces nearly 2,000 horsepower via four electric motors. Lotus plans to build just 130 road-going examples of the Evija.\\nAston Martin Vulcan\\nPrice: $2.3 Million\\nAs with a few other cars on this list, the Aston Martin Vulcan was a track-only special. The British supercar made its world debut in 2015, powered by a naturally aspirated 7.0-liter V12 that produced 820 horsepower, and limited to just 24 examples worldwide. An even more track-focused AMR Pro model followed, but even the base Vulcan was a pricey commodity, costing about $2.4-million from the factory.\\nDelage D12\\nPrice: $2.3 Million\\nYou may have heard of Delage before. In the early 1900s, this French automaker was competing on the track with Bugatti and Ferrari. Now Delage is back and with a beautiful new hypercar dubbed the D12. Powered by a 7.6-liter V12 engine, the new D12 produces upwards of 1,010 horsepower and costs a cool $2.3 million.\\nMcLaren Speedtail\\nPrice: $2.3 Million\\nWhat would you pay for the fastest production McLaren ever? Well, at least $2.3 million. With 1,035 horsepower courtesy of a gasoline-electric hybrid V8 powertrain, the Speedtail tops out at 250 miles per hour and is able to reach 186 mph in just 12.8 seconds – 2.7 seconds faster than the P1. Unfortunately, if you didn\\'t get your hands on one new in 2020, you\\'ll have to shell out serious cash on the used market. McLaren only built 106 examples.\\nRimac Nevera\\nPrice: $2.4 Million\\nThe Rimac Nevera takes the title of most expensive EV with its $2.4 million price tag – but only by a few hundred thousand dollars over the next priciest electric supercar. Packing 1,914 horsepower and 1,740 pound-feet of torque, the Nevera can hit 60 in under 2.0 seconds and will continue on to a top speed of 258 miles per hour. Those lucky enough to order one should see it in their driveway before the end of 2022.\\nPagani Utopia\\nPrice: $2.5 Million\\nFirst came the Zonda, then the Huayra, and now the Pagani Utopia. With 852 horsepower and an available seven-speed manual gearbox, the Utopia is the most powerful road-going Pagani ever produced and it’s limited to just 99 examples worldwide. The cost for one is a cool $2.5 million.\\nPininfarina Battista\\nPrice: $2.5 Million\\nAptly named after the company’s founder, Battista Farina, the Pininfarina Battista delivers the kind of performance (and price!) to make its namesake proud. Revealed at the 2019 Geneva Motor Show, the Battista is completely electric, putting out 1,827 horsepower. If a normal supercar’s 0 to 60 time sounds too leisurely for you, the company says that the Battista will take you there in under 2.0 seconds. Pininfarina plans on building 150 examples of the Battista, costing $2.5 million each.\\nFerrari FXX K Evo\\nPrice: $2.6 Million\\nSure, you could buy a normal LaFerrari (which also makes the list further down), but why settle for a supercar so mundane when you can take home this track-only version instead? Granted, the Ferrari FXX K Evo came out in 2017, and it\\'s well past the point of being sold out. But when it was new, this 1,036-horsepower Ferrari tore up the track with its naturally aspirated V12 and aggressive aerodynamics.\\nGordon Murray T.50\\nPrice: $2.6 Million\\nIf the name Gordon Murray sounds familiar, it’s because he\\'s the man behind the design of the iconic McLaren F1. These days, Mr. Murray has his own supercar venture, and the handsome T.50 is the crown jewel of the lineup. At $2.6 million, the T.50 packs a naturally aspirated 4.0-liter V12 that makes 654 horsepower. The car itself weighs a mere 2,174 pounds, and at 392 pounds, the T.50 has the lightest V12 on the road today.\\nLamborghini Countach\\nPrice: $2.6 Million\\nThe name Countach may be iconic, but is it worth $2.6 million? That\\'s what Lamborghini hopes you will spend on its new Aventador-based model. Debuting in August of 2021, the Countach LPI 800-4 has a 6.5-liter V12 with a light hybrid assist that gives it a whopping 803 horsepower, allowing for a 60 time of 2.8 seconds and a top speed of more than 220 miles per hour.\\nMercedes-AMG Project One\\nPrice: $2.7 Million\\nMercedes has promised a production version of the Project One hypercar for quite a while now. The first official announcement was in March of 2017 before the first concept debuted later that same year. But after nearly five years of teasing, it appears as if the Project One will finally hit public roads. And when it does, the hybrid hypercar will have over 1,200 horsepower (895 kilowatts) and a price tag of $2.7 million.\\nAston Martin Victor\\nPrice: $3.0 Million\\nThe folks at Aston Martin know a thing or two about exclusive vehicles, and the Victor might be the most exclusive project for the British brand to date. Based on the One-77 platform, the Victor uses parts from several donor Astons including the track project Vulcan and the upcoming Valkyrie. And talking about limited production – the Victor is one-of-one and rumored to cost nearly $3 million.\\nHennessey Venom F5 Roadster\\n$3.0 Million\\nThe same Hennessey Venom F5 hypercar we all know and love, but with less roof. The F5 Roadster has the same twin-turbocharged 6.6-liter V8 as the coupe, producing the same 1,817 horsepower and 1,193 pound-feet of torque. Hennessey estimates a top speed of over 300 miles per hour, but if you want one, it will cost you at least $3.0 million.\\nKoenigsegg Jesko\\nPrice: $3.0 Million\\nThe Koenigsegg Jesko, apart from being the fastest car the company has made to date, is also the most expensive. At $3.0 million out of the box, the handsome hypercar has 1,600-horsepower courtesy of the brand\\'s ubiquitous twin-turbocharged 5.0-liter V8 engine. Opt for the Absolut model, and the Jesko, in theory, will be able to hit 300 miles per hour.\\nAston Martin Valkyrie\\nPrice: $3.2 Million\\nThe upcoming Aston Martin hybrid hypercar hasn’t even hit the market yet, but already the $3.2 million Valkyrie has sold out. For what it’s worth, Aston Martin hasn’t officially released pricing. Estimates suggest the hypercar could go for anywhere between $2.6 and $3.9 million – but $3.2 million seems to be the magic number. Whatever the case, this machine is impressive. Its Cosworth-sourced 6.5-liter V12 produces 1,160 horsepower (865 kilowatts) and 664 pound-feet (900 Newton-meters) of torque, meaning its top speed should be well over 200 miles per hour (321 kilometers per hour). The company will build just 150 examples of the standard Valkyrie, with a limited 25-run AMR model arriving later.\\nW Motors Lykan Hypersport\\nPrice: $3.4 Million\\nDubai-based W Motors shocked the world with its edgy Lykan Hypersport supercar in 2013. With titanium LED headlights housing 420 15-carat diamonds and a holographic display in the center console, it\\'s no surprise it was the third most expensive car ever when new. It falls to number six on our list here, but it\\'s still a wild hypercar with a powerful heart; the twin-turbocharged 3.7-liter six-cylinder engine underhood produces 780 horsepower (581 kilowatts) and 708 (960 Newton-meters) of torque.\\nMcLaren Solus\\n$3.5 Million\\nOne seat, 829 horsepower, and a top speed of over 200 miles per hour. The new McLaren Solus is about as close as you can get to a Formula 1 car from the factory, powered by a naturally aspirated 5.2-liter V10 engine with a 0-62 mile-per-hour time of just 2.5 seconds. Estimates suggest a McLaren Solus will set you back about $3.5 million.\\nPagani Huayra Roadster BC\\nPrice: $3.5 Million\\nFollowing Pagani’s past playbook, a roadster version of the ferocious Huayra BC was inevitable. Last year, the company made it official by showing off the Huayra Roadster BC, a topless monster with 800 horsepower (597 kilowatts) and 774 lb-ft of torque (1049 Newton-meters). Somewhat surprisingly, Pagani gave the roadster 50 more horsepower than its coupe sibling, by cranking up its AMG-sourced twin-turbocharged 6.0-liter V12. In addition to the joy of hearing the glorious engine note without a roof in the way, owners should take comfort in knowing that their car is ultra-rare. Pagani is limiting production to just 40 units, each with a sticker price of $3.5 million.\\nBugatti Chiron Pur Sport\\nPrice: $3.6 Million\\nAnother showstopper from the Geneva Motor Show that never was, the Bugatti Chiron Pur Sport is a special edition Chiron with a focus on aerodynamics, weight reduction, and power distribution. It’s the same 8.0-liter quad-turbo W16 engine underneath the skin but it’s now mated to a recalibrated automatic gearbox. While the peak output remains unchanged at 1,500 horsepower (1,103 kilowatts), the rpm redline has been set 200 rpm higher, up to 6,900 rpm. The Pur Sport also features slightly revised bodywork, with a bigger rear wing and more aerodynamic front fascia. Beginning production in late 2020, the Bugatti starts at $3.6 million.\\nLamborghini Sian\\nPrice: $3.6 million\\nIn several ways, the Sian represents a bridge to Lamborghini’s future. Though it’s based on the Aventador SVJ, this wild-looking Lambo is the brand’s first production electrified offering. In addition to the SVJ-sourced 6.5-liter V12, the Sian uses a 48-volt mild-hybrid system. Total system output is 819 horsepower (611 kilowatts), which also makes it the most powerful Lamborghini ever. As confirmed by the 63 stuck on either side of the Sian’s wing, Lamborghini will produce just 63 units. And each will cost far more than the Aventador SVJ, carrying a price of $3.6 million.\\nKoenigsegg CC850\\nPrice: $3.7 Million\\nThe Koenigsegg CC850 was a surprise to be sure, but a welcomed one. Borrowing the twin-turbocharged 5.0-liter V8 from the Jesko, it notches that output up to 1,385 horsepower and 1,022 pound-feet of torque, with a so-called “TWMPAFMPC” transmission that shifts (pun intended) between manual and automatic functions. Of course, all that performance technology will cost you; the CC850 starts at $3.7 million.\\nBugatti Chiron Super Sport 300+\\nPrice: $3.9 Million\\nEarlier this year, Bugatti captured the collective attention of the automotive world by announcing that it broke the 300 miles per hour barrier with a modified version of the Chiron. The Super Sport 300 + is a road-going version of that car, meant to celebrate the occasion. Limited to just 30 units, the Super Sport 300+ is a beautiful version of the Chiron, with flowing, slippery bodywork and a sweet stripe motif. Even with 300 in the name, Bugatti is limiting the top speed of each car to \"just\" 277 mph. Production starts this year.\\nLamborghini Veneno\\nPrice: $4.5 Million\\nLamborghini built just 14 examples of the Aventador-based Veneno between 2014 and 2015. Each one cost around $4.5 million, depending on how it was spec\\'d, and was available in both convertible and coupe configurations. Underhood Lamborghini fitted a more-powerful iteration of the Aventador\\'s 6.5-liter V12, now producing 740 horsepower (552 kilowatts) and 509 pound-feet (609 Newton-meters) of torque, which gave it the ability to sprint to 60 miles per hour (96 kilometers per hour) in a blistering 2.9 seconds. To date, it’s the most expensive new Lamborghini ever.\\nBugatti Bolide\\nPrice: $4.7 Million\\nProduced in extremely limited numbers atop the body of a Chiron, it\\'s no wonder Bugatti\\'s one-of-40 Bolide track car is this pricey. At $4.7 million, the 1,824-horsepower hypercar has more power than the Chiron Super Sport 300+, and more extreme bodywork that allow it to lap tracks like the Nurburgring in record time (in theory). Bugatti says the Bolide would be able to conquer the ‘Ring in record time.\\nBugatti Mistral\\nPrice: $5.0 Million\\nThe Bugatti Mistral sends the iconic W16 engine off in style. With 1,577 horsepower and no roof, the Mistral takes the best bits of the Chiron and borrows elements from the Bolide and Divo to create a truly unique roadster. Of course, Bugatti plans to build just 99 examples of the Mistral at the cost of around $5.0 million in the US – and all of them are already accounted for.\\nPagani Huayra Imola\\nPrice: $5.4 Million\\nEven though the new Utopia marks the next big step for Pagani, the Huayra Imola packs nearly as much power with a twin-turbocharged 6.0-liter V12 engine producing 827 horsepower and 811 pound-feet of torque. The Huayra Imola is estimated to cost around $5.4 million new, which would make it the second most expensive Pagani of all time.\\nBugatti Divo\\nPrice: $5.8 Million\\nAmong Bugatti’s recently debuted vehicles, the Divo is a staff favorite. Though it shares much in common with its cheaper (!) sibling the Chiron, the Divo has a lot going for it to justify the extra money. By adding lighter wheels, a carbon fiber intercooler and removing some sound deadening, Bugatti made the Divo 77 pounds lighter than the Chiron. Though power is unchanged from the Chiron’s 1,500 ponies (1,119 kilowatts), The Divo features a different aerodynamic setup, which makes it 8 seconds quicker around the Nardo test track. Finally, the moment you’ve been waiting for: Bugatti is making 40 examples of the car, each costing $5.8 million.\\nSP Automotive Chaos\\nPrice: $6.4 Million\\nSP Automotive (short for Spyros Panopoulos) is a new name in the world of hypercars, but the brand\\'s 2,000-horsepower, $6.4-million, aptly named Chaos has already made an impact. With a twin-turbocharged 4.0-liter V10, the base SP Automotive Chaos is one of the most expensive cars on this list – beating out many Lambos and Bugattis – but there\\'s an even pricier version of this car that costs an eye-watering $14.4 million. That version reportedly packs 3,000 hp.\\nPagani Codalunga\\nPrice: $7.4 Million\\nThe long list of pricey (new) Paganis ends with the Codualunga. Inspired by 1960s Italian coachbuilding, the stunning exterior and steampunk-esque interior – while equally stunning – are only part of what makes this Pagani so pricey. Under the hood is a twin-turbocharged 6.0-liter V12 producing 829 horsepower and 809 pound-feet of torque, paired to a seven-speed sequential transmission for a real race-car–like feel. The cost for this one-of-five Pagani is $7.4 million.\\nMercedes-Maybach Exelero\\nPrice: $8.0 Million\\nLike many others before it, the Mercedes-Benz Maybach Exelero is a one-off. Commissioned by Fulda, a German subsidiary of Goodyear, to test its new tires, the Exlero debuted in 2004. Mercedes built the Exelero on the bones of a Maybach, and gave it the same twin-turbo V12 engine producing 690 horsepower (510 kilowatts) and 752 pound-feet (1,020 Newton-meters) of torque. Top speed is listed at 218 miles per hour (350 kilometers per hour) and adjusted for inflation, the Exelero would cost more than $10 million in today\\'s money.\\nBugatti Centodieci\\nPrice: $9.0 Million\\nBugatti debuted the Centodieci at last year’s Pebble Beach car week, showing off yet another ultra-rare, super-expensive model to the world. Limited to just 10 – dieci – units, the car is a modern throwback to the Bugatti EB110. At the same time, it’s meant to celebrate Bugatti’s momentous 110-year anniversary. Its unique styling cues won’t make everyone fall in love, but at least you won’t have to worry about seeing another one on the road. Carrying a price just shy of $9 million, the Centodiece is one of the most exclusive cars ever made.\\nRolls-Royce Sweptail\\nPrice: $12.8 Million\\nRolls-Royce, expectedly, takes two of the top three spots on this list, with the stunning Sweptail one-off from 2017 coming in at number three. With a monumental price tag of $13.0 million, it was, at the time of its debut, the most expensive new car ever. It\\'s been outpriced since then, but the 453-horsepower luxury car is still a jaw-dropper.\\nBugatti La Voiture Noire\\nPrice: $13.4 Million\\nWith a price tag of $13.4 million, the one-off Bugatti La Voiture Noire is officially the most expensive new Bugatti ever made. And understandably so. A modern interpretation of Jean Bugatti\\'s personal Type 57 SC Atlantic, the La Voiture Noire uses the same quad-turbocharged 8.0-liter W16 engine as the Chiron, producing 1,479 horsepower. It has six – that\\'s right, six exhaust tips, radical new wheels, an aggressive, bespoke fascia, and a gigantic light-up badge in the rear that spells out the name of the brand. Of course, this one-of-one Bugatti already has a home.\\nRolls-Royce Boat Tail*\\nPrice: $28.0 Million (est.)\\nRolls-Royce is back in the business of coachbuilding with the gorgeous new Boat Tail. A successor to the stunning Sweptail from 2017 – which itself cost a reported $12.8 million – the Boat Tail has a unique two-tone exterior, custom high-end finishes inside, and even a \"hosting suite\" complete with a champagne fridge and built-in sun umbrella. Although Rolls-Royce doesn’t officially announce pricing for one-off builds such as this, rumor has it that the Boat Tail cost a whopping $28.0 million new.\\nFAQs\\nWhat Is The Most Expensive Car In The World?\\nThe most expensive car in the world – officially – is the Bugatti La Voiture Noire. With a price tag of $18.7 million after taxes, the one-off Bugatti La Voiture Noire is officially the priciest new car ever.\\nWhat Is The Most Expensive Car Ever Sold?\\nThe most expensive car ever sold is a 1962 Ferrari 250 GTO that sold at an RM Sotheby’s auction for $48.4 million in 2018. Prior to that, a separate 250 GTO sold at a Bonham’s auction in 2014 for $38.1 million.\\nWhat Is The Most Valuable Car Brand?\\nAs of 2022, Tesla is still the world’s most valuable car brand with a valuation of $694 billion. Toyota, at second, has a valuation of $216 billion but outsells Tesla by a significant margin globally.\\nMost Expensive Cars In The World\\nDrako GTE - $1.2 Million\\nDeTomaso P72: $1.3 Million\\nFerrari LaFerrari - $1.4 Million\\nPagani Huayra - $1.4 Million\\nCzinger 21C - $1.7 Million\\nFerrari Monza - $1.7 Million\\nGordon Murray T.33 - $1.7 Million\\nKoenigsegg Gemera - $1.7 Million\\nMcLaren Elva - $1.7 Million\\nZenvo TSR-S - $1.7 Million\\nHennessey Venom F5 - $1.8 Million\\nBentley Bacalar - $1.9 Million\\nHispano Suiza Carmen Boulogne: $1.9 Million\\nBentley Mulliner Batur: $2.0 Million\\nDeus Vayanne: $2.0 Million\\nSSC Tuatara - $2.0 Million*\\nLotus Evija - $2.1 Million\\nAston Martin Vulcan - $2.3 Million\\nDelage D12: $2.3 Million\\nMcLaren Speedtail - $2.3 Million\\nRimac Nevera - $2.4 Million\\nPagani Utopia: $2.5 Million\\nPininfarina Battista - $2.5 Million\\nFerrari FXX K Evo - $2.6 Million\\nGordon Murray T.50 - $2.6 Million\\nLamborghini Countach - $2.6 Million\\nMercedes-AMG Project One - $2.7 Million\\nAston Martin Victor - $3.0 Million\\nHennessey Venom F5 Roadster: $3.0 Million\\nKoenigsegg Jesko - $3.0 Million\\nAston Martin Valkyrie - $3.2 Million\\nW Motors Lykan Hypersport - $3.4 Million\\nMcLaren Solus: $3.5 Million\\nPagani Huayra Roadster BC - $3.5 Million\\nBugatti Chiron Pur Sport - $3.6 Million\\nLamborghini Sian - $3.6 million\\nKoenigsegg CC850: $3.7 Million\\nBugatti Chiron Super Sport 300+ - $3.9 Million\\nLamborghini Veneno - $4.5 Million\\nBugatti Bolide - $4.7 Million\\nBugatti Mistral: $5.0 Million\\nPagani Huayra Imola: $5.4 Million\\nBugatti Divo - $5.8 Million\\nSP Automotive Chaos - $6.4 Million\\nPagani Codalunga: $7.4 Million\\nMercedes-Maybach Exelero - $8.0 Million\\nBugatti Centodieci - $9.0 Million\\nRolls-Royce Sweptail - $12.8 Million\\nBugatti La Voiture Noire - $13.4 Million\\nRolls-Royce Boat Tail - $28.0 Million*',\n",
       " 'When it comes to high-end hypercars and super-fast supercars, a few companies should come to mind first: Bugatti, Ferrari, Koenigsegg, Rimac, and Pagani, among others. These manufacturers have cemented themselves as the top dogs in the supercar and hypercar space, extending to their wealthiest clientele the fastest, rarest, prettiest – and in this case – most expensive cars on the planet.\\nBut in order to find out which of these unattainable-to-most vehicles is the priciest, we\\'ve scoured the invoice sheets and uncovered 40 cars all worth $1 million or more. The group includes hybrid Ferrari convertibles, an American speed king, a few electric Hypercars, and two a one-of-a-kind Rolls-Royce cars built for royalty.\\nWe should note, though: The prices listed here are the price of the vehicles when new. So we’re not counting auction cars like the Ferrari 250 GTO, or overpriced secondhand sales. But don’t worry, there’s still hundreds of millions worth of cars here to whet your appetite.\\nTop Videos:\\nBentley Orchestra\\nJoin owners and enthusiasts discussing this topic at FerrariChat.com!\\nDrako GTE\\nPrice: $1.2 Million\\nThe Drako GTE is a super sedan in every sense of the word. Packing 1,200 horsepower and a whopping 6,491 pound-feet of torque from a fully electric powertrain, the GTE can hit 60 in just about 2.0 seconds and tops out at 206 miles per hour. The cost for this family-friendly rocket is a cool $1.2 million.\\nDe Tomaso P72\\nPrice: $1.3 Million\\nThe De Tomaso P72 is basically the definition of beautiful. The shapely supercar debuted at the 2019 Goodwood Festival Of Speed with a supercharged Ford V8 boasting 700 horsepower. The P72 marked the return of the DeTomaso brand after nearly 30 years on hiatus, and if you want one, it will cost you at least $1.3 million.\\nFerrari LaFerrari\\nPrice: $1.4 Million\\nAt $1.4 million new, the Ferrari LaFerrari is actually one of the most affordable supercars on this list. It’s a bargain compared to the most expensive vehicle here. Debuting in 2013 with 950 hybrid horses (708 kilowatts) and a top speed of around 220 miles per hour (354 kilometers per hour), this is still Ferrari’s fastest and most powerful production model to date. The company built just 499 examples of the coupe between 2013 and 2016.\\nPagani Huayra\\nPrice: $1.4 Million\\nInarguably one of the prettiest cars on this list, the Pagani Huayra cost a cool $1.4 million when new. Like the LaFerrari, Pagani built the Huayra in extremely limited numbers. The company hand-constructed just 100 units of the coupe between 2012 and 2018, with another 20 versions of the BC model (which makes our list further down) between 2017 and 2019. Powering each and every example was a Mercedes-AMG V12 capable of 720 horsepower (537 kilowatts).\\nMcLaren Elva\\nPrice: $1.7 Million\\nThe McLaren Elva is one of the latest additions to the British supercar maker’s storied legacy. Even without a proper windshield (though, no option) or roof to rely on, the Elva produces 804 horsepower and 590 pound-feet of torque from its twin-turbocharged 4.0-liter V8. Originally McLaren announced just 399 units, but later the company dropped that to an even more scarce 249 examples. Either way, most of you will never get your hands on one – the Elva costs $1.7 million.\\nCzinger 21C\\nPrice: $1.7 Million\\nYou might not know the name Czinger yet, but this California-based boutique automaker is responsible for the $1.7 million 21C supercar. With 1,250 horsepower on tap thanks to a 2.9-liter twin-turbocharged V8, the 21C can rocket to 60 miles per hour in 1.9 seconds and a top speed of around 281 miles per hour.\\nFerrari Monza\\nPrice: $1.7 Million\\nMuch like the roof-less McLaren Elva, the Ferrari Monza SP1 and SP2 are all about al fresco motoring. As the name implies, the SP1 is the single-seater option while the SP2 has just enough room for you to bring along a friend. Both cars come powered by the same naturally aspirated 6.5-liter V12 engine capable of 809 horsepower and 530 pound-feet. Unfortunately for US buyers, neither of these models are street legal in the States. But f you have the funds to afford the car’s $1.75 million price tag, getting onto a track probably won’t be an issue anyway.\\nGordon Murray T.33\\nPrice: $1.7 Million\\nThe second and slightly more affordable supercar in the new Gordon Murray lineup is the T.33. With 607 horsepower courtesy of a naturally aspirated 3.9-liter V12, the T.33 revs to a ridiculous 10,500 RPM. With a price tag of around $1.7 million at current conversion rates, Gordon Murray automotive promises to sell this car globally, in both right- and left-hand-drive configurations. Too bad it\\'s already sold out.\\nKoenigsegg Gemera\\nPrice: $1.7 Million\\nOne of two Koenigsegg models on this list, the Gemera is actually the Swedish supercar maker’s first four-seater. But that doesn’t mean it’s some family car. With a twin-turbocharged 2.0-liter engine under the hood and three electric motors, the Gemera has 1,700 horsepower and will hit 60 in just 1.9 seconds. The company only plans to build 300 of them, each one costing at least $1.7 million.\\nZenvo TSR-S\\nPrice: $1.7 Million\\nHailing from Denmark, the Zenvo TSR-S debuted in 2018 at the Geneva Motor Show as the most extreme option in the supercar startup’s repertoire. Boasting a twin-charged 5.8-liter V8 engine, the TSR-S produces 1,177 horsepower and will hit 62 miles per hour in just 2.8 seconds. Expect to pay at least $1.7 million to get your hands on this powerful and limited supercar.\\nHennessey Venom F5\\nPrice: $1.8 Million\\nThe Hennessey Venom GT was a record-breaker, topping out at 265.7 miles per hour in a world record run. But the new F5 plans to beat its predecessor with an estimated top speed of 311 mph, and with that comes a higher price, too. The Venom F5 starts at $1.8 million, according to the company, which makes it just a bit pricier than its $1.2-million predecessor.\\nBentley Bacalar\\nPrice: $1.9 Million\\nWith just 12 total units produced, the Bentley Bacalar makes some of the \"limited\" cars on this list look plentiful by comparison. Although the car’s opulent design may be the first thing to grab your attention, the Bacalar is no slouch in terms of performance either. With Bentley’s signature turbocharged 6.0-liter W12 turbocharged engine, this car delivers 650 horsepower and 664 pound-feet. If you have a spare $1.9 million lying around and are considering buying one, you’re already too late – Bentley says that every example is now in customer hands.\\nHispano Suiza Carmen Boulogne\\nPrice: $1.9 Million\\nTo call the Hispano Suiza Carmen Boulogne beautiful would be... a stretch. But this interesting-looking supercar made its US debut at this year\\'s Amelia Island Concours d\\'Elegance boasting a 1,114-horsepower electric powertrain and a 0-60 time of 2.6 seconds. The Boulogne version pictured here – the lighter and more powerful of the two – costs close to $1.9 million.\\nBentley Mulliner Batur\\nPrice: $2.0 Million\\nThe electric onslaught is coming. Bentley says it will be a fully electric automaker by 2030. But before the luxury brand transitions to battery power fully, the Mulliner Batur helps send the iconic W12 engine off in style. With 710 horsepower from that twin-turbocharged engine, the Batur is the most powerful Bentley ever. And since it\\'s limited to just 18 examples globally, the Batur costs a whopping $2.0 million.\\nDeus Vayanne\\nPrice: $2.0 Million\\nThe Deus Vayanne may not be a household name (yet), but the all-electric hypercar debuted earlier this year with 2,200 horsepower, a 0-60 time of just under 2.0 seconds, and an estimated top speed of 248 miles per hour. Deus plans to build 99 examples of the Vayanne, with the first few examples scheduled to go on sale in 2025.\\nSSC Tuatara\\nPrice: $2.0 Million*\\nAlthough initially cloaked in controversy, SSC did manage to hit 282.9 miles per hour with its Tuatara hypercar, breaking a world record. But not only is the Tuatara one of the fastest vehicles on the planet, it’s also one of the priciest. The cost for all that speed is estimated to be around $2.0 million for the base Tuatara, limited to just 100 units worldwide.\\nLotus Evija\\nPrice: $2.1 Million\\nWith a new Emira sports car and an Eletre electric SUV, Lotus is on the brink of a comeback. The automaker plans to roll out a number of new products within the next few years, with part of that strategy including the range-topping Evija. This supercar comes in at a cool $2.1 million and produces nearly 2,000 horsepower via four electric motors. Lotus plans to build just 130 road-going examples of the Evija.\\nAston Martin Vulcan\\nPrice: $2.3 Million\\nAs with a few other cars on this list, the Aston Martin Vulcan was a track-only special. The British supercar made its world debut in 2015, powered by a naturally aspirated 7.0-liter V12 that produced 820 horsepower, and limited to just 24 examples worldwide. An even more track-focused AMR Pro model followed, but even the base Vulcan was a pricey commodity, costing about $2.4-million from the factory.\\nDelage D12\\nPrice: $2.3 Million\\nYou may have heard of Delage before. In the early 1900s, this French automaker was competing on the track with Bugatti and Ferrari. Now Delage is back and with a beautiful new hypercar dubbed the D12. Powered by a 7.6-liter V12 engine, the new D12 produces upwards of 1,010 horsepower and costs a cool $2.3 million.\\nMcLaren Speedtail\\nPrice: $2.3 Million\\nWhat would you pay for the fastest production McLaren ever? Well, at least $2.3 million. With 1,035 horsepower courtesy of a gasoline-electric hybrid V8 powertrain, the Speedtail tops out at 250 miles per hour and is able to reach 186 mph in just 12.8 seconds – 2.7 seconds faster than the P1. Unfortunately, if you didn\\'t get your hands on one new in 2020, you\\'ll have to shell out serious cash on the used market. McLaren only built 106 examples.\\nRimac Nevera\\nPrice: $2.4 Million\\nThe Rimac Nevera takes the title of most expensive EV with its $2.4 million price tag – but only by a few hundred thousand dollars over the next priciest electric supercar. Packing 1,914 horsepower and 1,740 pound-feet of torque, the Nevera can hit 60 in under 2.0 seconds and will continue on to a top speed of 258 miles per hour. Those lucky enough to order one should see it in their driveway before the end of 2022.\\nPagani Utopia\\nPrice: $2.5 Million\\nFirst came the Zonda, then the Huayra, and now the Pagani Utopia. With 852 horsepower and an available seven-speed manual gearbox, the Utopia is the most powerful road-going Pagani ever produced and it’s limited to just 99 examples worldwide. The cost for one is a cool $2.5 million.\\nPininfarina Battista\\nPrice: $2.5 Million\\nAptly named after the company’s founder, Battista Farina, the Pininfarina Battista delivers the kind of performance (and price!) to make its namesake proud. Revealed at the 2019 Geneva Motor Show, the Battista is completely electric, putting out 1,827 horsepower. If a normal supercar’s 0 to 60 time sounds too leisurely for you, the company says that the Battista will take you there in under 2.0 seconds. Pininfarina plans on building 150 examples of the Battista, costing $2.5 million each.\\nFerrari FXX K Evo\\nPrice: $2.6 Million\\nSure, you could buy a normal LaFerrari (which also makes the list further down), but why settle for a supercar so mundane when you can take home this track-only version instead? Granted, the Ferrari FXX K Evo came out in 2017, and it\\'s well past the point of being sold out. But when it was new, this 1,036-horsepower Ferrari tore up the track with its naturally aspirated V12 and aggressive aerodynamics.\\nGordon Murray T.50\\nPrice: $2.6 Million\\nIf the name Gordon Murray sounds familiar, it’s because he\\'s the man behind the design of the iconic McLaren F1. These days, Mr. Murray has his own supercar venture, and the handsome T.50 is the crown jewel of the lineup. At $2.6 million, the T.50 packs a naturally aspirated 4.0-liter V12 that makes 654 horsepower. The car itself weighs a mere 2,174 pounds, and at 392 pounds, the T.50 has the lightest V12 on the road today.\\nLamborghini Countach\\nPrice: $2.6 Million\\nThe name Countach may be iconic, but is it worth $2.6 million? That\\'s what Lamborghini hopes you will spend on its new Aventador-based model. Debuting in August of 2021, the Countach LPI 800-4 has a 6.5-liter V12 with a light hybrid assist that gives it a whopping 803 horsepower, allowing for a 60 time of 2.8 seconds and a top speed of more than 220 miles per hour.\\nMercedes-AMG Project One\\nPrice: $2.7 Million\\nMercedes has promised a production version of the Project One hypercar for quite a while now. The first official announcement was in March of 2017 before the first concept debuted later that same year. But after nearly five years of teasing, it appears as if the Project One will finally hit public roads. And when it does, the hybrid hypercar will have over 1,200 horsepower (895 kilowatts) and a price tag of $2.7 million.\\nAston Martin Victor\\nPrice: $3.0 Million\\nThe folks at Aston Martin know a thing or two about exclusive vehicles, and the Victor might be the most exclusive project for the British brand to date. Based on the One-77 platform, the Victor uses parts from several donor Astons including the track project Vulcan and the upcoming Valkyrie. And talking about limited production – the Victor is one-of-one and rumored to cost nearly $3 million.\\nHennessey Venom F5 Roadster\\n$3.0 Million\\nThe same Hennessey Venom F5 hypercar we all know and love, but with less roof. The F5 Roadster has the same twin-turbocharged 6.6-liter V8 as the coupe, producing the same 1,817 horsepower and 1,193 pound-feet of torque. Hennessey estimates a top speed of over 300 miles per hour, but if you want one, it will cost you at least $3.0 million.\\nKoenigsegg Jesko\\nPrice: $3.0 Million\\nThe Koenigsegg Jesko, apart from being the fastest car the company has made to date, is also the most expensive. At $3.0 million out of the box, the handsome hypercar has 1,600-horsepower courtesy of the brand\\'s ubiquitous twin-turbocharged 5.0-liter V8 engine. Opt for the Absolut model, and the Jesko, in theory, will be able to hit 300 miles per hour.\\nAston Martin Valkyrie\\nPrice: $3.2 Million\\nThe upcoming Aston Martin hybrid hypercar hasn’t even hit the market yet, but already the $3.2 million Valkyrie has sold out. For what it’s worth, Aston Martin hasn’t officially released pricing. Estimates suggest the hypercar could go for anywhere between $2.6 and $3.9 million – but $3.2 million seems to be the magic number. Whatever the case, this machine is impressive. Its Cosworth-sourced 6.5-liter V12 produces 1,160 horsepower (865 kilowatts) and 664 pound-feet (900 Newton-meters) of torque, meaning its top speed should be well over 200 miles per hour (321 kilometers per hour). The company will build just 150 examples of the standard Valkyrie, with a limited 25-run AMR model arriving later.\\nW Motors Lykan Hypersport\\nPrice: $3.4 Million\\nDubai-based W Motors shocked the world with its edgy Lykan Hypersport supercar in 2013. With titanium LED headlights housing 420 15-carat diamonds and a holographic display in the center console, it\\'s no surprise it was the third most expensive car ever when new. It falls to number six on our list here, but it\\'s still a wild hypercar with a powerful heart; the twin-turbocharged 3.7-liter six-cylinder engine underhood produces 780 horsepower (581 kilowatts) and 708 (960 Newton-meters) of torque.\\nMcLaren Solus\\n$3.5 Million\\nOne seat, 829 horsepower, and a top speed of over 200 miles per hour. The new McLaren Solus is about as close as you can get to a Formula 1 car from the factory, powered by a naturally aspirated 5.2-liter V10 engine with a 0-62 mile-per-hour time of just 2.5 seconds. Estimates suggest a McLaren Solus will set you back about $3.5 million.\\nPagani Huayra Roadster BC\\nPrice: $3.5 Million\\nFollowing Pagani’s past playbook, a roadster version of the ferocious Huayra BC was inevitable. Last year, the company made it official by showing off the Huayra Roadster BC, a topless monster with 800 horsepower (597 kilowatts) and 774 lb-ft of torque (1049 Newton-meters). Somewhat surprisingly, Pagani gave the roadster 50 more horsepower than its coupe sibling, by cranking up its AMG-sourced twin-turbocharged 6.0-liter V12. In addition to the joy of hearing the glorious engine note without a roof in the way, owners should take comfort in knowing that their car is ultra-rare. Pagani is limiting production to just 40 units, each with a sticker price of $3.5 million.\\nBugatti Chiron Pur Sport\\nPrice: $3.6 Million\\nAnother showstopper from the Geneva Motor Show that never was, the Bugatti Chiron Pur Sport is a special edition Chiron with a focus on aerodynamics, weight reduction, and power distribution. It’s the same 8.0-liter quad-turbo W16 engine underneath the skin but it’s now mated to a recalibrated automatic gearbox. While the peak output remains unchanged at 1,500 horsepower (1,103 kilowatts), the rpm redline has been set 200 rpm higher, up to 6,900 rpm. The Pur Sport also features slightly revised bodywork, with a bigger rear wing and more aerodynamic front fascia. Beginning production in late 2020, the Bugatti starts at $3.6 million.\\nLamborghini Sian\\nPrice: $3.6 million\\nIn several ways, the Sian represents a bridge to Lamborghini’s future. Though it’s based on the Aventador SVJ, this wild-looking Lambo is the brand’s first production electrified offering. In addition to the SVJ-sourced 6.5-liter V12, the Sian uses a 48-volt mild-hybrid system. Total system output is 819 horsepower (611 kilowatts), which also makes it the most powerful Lamborghini ever. As confirmed by the 63 stuck on either side of the Sian’s wing, Lamborghini will produce just 63 units. And each will cost far more than the Aventador SVJ, carrying a price of $3.6 million.\\nKoenigsegg CC850\\nPrice: $3.7 Million\\nThe Koenigsegg CC850 was a surprise to be sure, but a welcomed one. Borrowing the twin-turbocharged 5.0-liter V8 from the Jesko, it notches that output up to 1,385 horsepower and 1,022 pound-feet of torque, with a so-called “TWMPAFMPC” transmission that shifts (pun intended) between manual and automatic functions. Of course, all that performance technology will cost you; the CC850 starts at $3.7 million.\\nBugatti Chiron Super Sport 300+\\nPrice: $3.9 Million\\nEarlier this year, Bugatti captured the collective attention of the automotive world by announcing that it broke the 300 miles per hour barrier with a modified version of the Chiron. The Super Sport 300 + is a road-going version of that car, meant to celebrate the occasion. Limited to just 30 units, the Super Sport 300+ is a beautiful version of the Chiron, with flowing, slippery bodywork and a sweet stripe motif. Even with 300 in the name, Bugatti is limiting the top speed of each car to \"just\" 277 mph. Production starts this year.\\nLamborghini Veneno\\nPrice: $4.5 Million\\nLamborghini built just 14 examples of the Aventador-based Veneno between 2014 and 2015. Each one cost around $4.5 million, depending on how it was spec\\'d, and was available in both convertible and coupe configurations. Underhood Lamborghini fitted a more-powerful iteration of the Aventador\\'s 6.5-liter V12, now producing 740 horsepower (552 kilowatts) and 509 pound-feet (609 Newton-meters) of torque, which gave it the ability to sprint to 60 miles per hour (96 kilometers per hour) in a blistering 2.9 seconds. To date, it’s the most expensive new Lamborghini ever.\\nBugatti Bolide\\nPrice: $4.7 Million\\nProduced in extremely limited numbers atop the body of a Chiron, it\\'s no wonder Bugatti\\'s one-of-40 Bolide track car is this pricey. At $4.7 million, the 1,824-horsepower hypercar has more power than the Chiron Super Sport 300+, and more extreme bodywork that allow it to lap tracks like the Nurburgring in record time (in theory). Bugatti says the Bolide would be able to conquer the ‘Ring in record time.\\nBugatti Mistral\\nPrice: $5.0 Million\\nThe Bugatti Mistral sends the iconic W16 engine off in style. With 1,577 horsepower and no roof, the Mistral takes the best bits of the Chiron and borrows elements from the Bolide and Divo to create a truly unique roadster. Of course, Bugatti plans to build just 99 examples of the Mistral at the cost of around $5.0 million in the US – and all of them are already accounted for.\\nPagani Huayra Imola\\nPrice: $5.4 Million\\nEven though the new Utopia marks the next big step for Pagani, the Huayra Imola packs nearly as much power with a twin-turbocharged 6.0-liter V12 engine producing 827 horsepower and 811 pound-feet of torque. The Huayra Imola is estimated to cost around $5.4 million new, which would make it the second most expensive Pagani of all time.\\nBugatti Divo\\nPrice: $5.8 Million\\nAmong Bugatti’s recently debuted vehicles, the Divo is a staff favorite. Though it shares much in common with its cheaper (!) sibling the Chiron, the Divo has a lot going for it to justify the extra money. By adding lighter wheels, a carbon fiber intercooler and removing some sound deadening, Bugatti made the Divo 77 pounds lighter than the Chiron. Though power is unchanged from the Chiron’s 1,500 ponies (1,119 kilowatts), The Divo features a different aerodynamic setup, which makes it 8 seconds quicker around the Nardo test track. Finally, the moment you’ve been waiting for: Bugatti is making 40 examples of the car, each costing $5.8 million.\\nSP Automotive Chaos\\nPrice: $6.4 Million\\nSP Automotive (short for Spyros Panopoulos) is a new name in the world of hypercars, but the brand\\'s 2,000-horsepower, $6.4-million, aptly named Chaos has already made an impact. With a twin-turbocharged 4.0-liter V10, the base SP Automotive Chaos is one of the most expensive cars on this list – beating out many Lambos and Bugattis – but there\\'s an even pricier version of this car that costs an eye-watering $14.4 million. That version reportedly packs 3,000 hp.\\nPagani Codalunga\\nPrice: $7.4 Million\\nThe long list of pricey (new) Paganis ends with the Codualunga. Inspired by 1960s Italian coachbuilding, the stunning exterior and steampunk-esque interior – while equally stunning – are only part of what makes this Pagani so pricey. Under the hood is a twin-turbocharged 6.0-liter V12 producing 829 horsepower and 809 pound-feet of torque, paired to a seven-speed sequential transmission for a real race-car–like feel. The cost for this one-of-five Pagani is $7.4 million.\\nMercedes-Maybach Exelero\\nPrice: $8.0 Million\\nLike many others before it, the Mercedes-Benz Maybach Exelero is a one-off. Commissioned by Fulda, a German subsidiary of Goodyear, to test its new tires, the Exlero debuted in 2004. Mercedes built the Exelero on the bones of a Maybach, and gave it the same twin-turbo V12 engine producing 690 horsepower (510 kilowatts) and 752 pound-feet (1,020 Newton-meters) of torque. Top speed is listed at 218 miles per hour (350 kilometers per hour) and adjusted for inflation, the Exelero would cost more than $10 million in today\\'s money.\\nBugatti Centodieci\\nPrice: $9.0 Million\\nBugatti debuted the Centodieci at last year’s Pebble Beach car week, showing off yet another ultra-rare, super-expensive model to the world. Limited to just 10 – dieci – units, the car is a modern throwback to the Bugatti EB110. At the same time, it’s meant to celebrate Bugatti’s momentous 110-year anniversary. Its unique styling cues won’t make everyone fall in love, but at least you won’t have to worry about seeing another one on the road. Carrying a price just shy of $9 million, the Centodiece is one of the most exclusive cars ever made.\\nRolls-Royce Sweptail\\nPrice: $12.8 Million\\nRolls-Royce, expectedly, takes two of the top three spots on this list, with the stunning Sweptail one-off from 2017 coming in at number three. With a monumental price tag of $13.0 million, it was, at the time of its debut, the most expensive new car ever. It\\'s been outpriced since then, but the 453-horsepower luxury car is still a jaw-dropper.\\nBugatti La Voiture Noire\\nPrice: $13.4 Million\\nWith a price tag of $13.4 million, the one-off Bugatti La Voiture Noire is officially the most expensive new Bugatti ever made. And understandably so. A modern interpretation of Jean Bugatti\\'s personal Type 57 SC Atlantic, the La Voiture Noire uses the same quad-turbocharged 8.0-liter W16 engine as the Chiron, producing 1,479 horsepower. It has six – that\\'s right, six exhaust tips, radical new wheels, an aggressive, bespoke fascia, and a gigantic light-up badge in the rear that spells out the name of the brand. Of course, this one-of-one Bugatti already has a home.\\nRolls-Royce Boat Tail*\\nPrice: $28.0 Million (est.)\\nRolls-Royce is back in the business of coachbuilding with the gorgeous new Boat Tail. A successor to the stunning Sweptail from 2017 – which itself cost a reported $12.8 million – the Boat Tail has a unique two-tone exterior, custom high-end finishes inside, and even a \"hosting suite\" complete with a champagne fridge and built-in sun umbrella. Although Rolls-Royce doesn’t officially announce pricing for one-off builds such as this, rumor has it that the Boat Tail cost a whopping $28.0 million new.\\nFAQs\\nWhat Is The Most Expensive Car In The World?\\nThe most expensive car in the world – officially – is the Bugatti La Voiture Noire. With a price tag of $18.7 million after taxes, the one-off Bugatti La Voiture Noire is officially the priciest new car ever.\\nWhat Is The Most Expensive Car Ever Sold?\\nThe most expensive car ever sold is a 1962 Ferrari 250 GTO that sold at an RM Sotheby’s auction for $48.4 million in 2018. Prior to that, a separate 250 GTO sold at a Bonham’s auction in 2014 for $38.1 million.\\nWhat Is The Most Valuable Car Brand?\\nAs of 2022, Tesla is still the world’s most valuable car brand with a valuation of $694 billion. Toyota, at second, has a valuation of $216 billion but outsells Tesla by a significant margin globally.\\nMost Expensive Cars In The World\\nDrako GTE - $1.2 Million\\nDeTomaso P72: $1.3 Million\\nFerrari LaFerrari - $1.4 Million\\nPagani Huayra - $1.4 Million\\nCzinger 21C - $1.7 Million\\nFerrari Monza - $1.7 Million\\nGordon Murray T.33 - $1.7 Million\\nKoenigsegg Gemera - $1.7 Million\\nMcLaren Elva - $1.7 Million\\nZenvo TSR-S - $1.7 Million\\nHennessey Venom F5 - $1.8 Million\\nBentley Bacalar - $1.9 Million\\nHispano Suiza Carmen Boulogne: $1.9 Million\\nBentley Mulliner Batur: $2.0 Million\\nDeus Vayanne: $2.0 Million\\nSSC Tuatara - $2.0 Million*\\nLotus Evija - $2.1 Million\\nAston Martin Vulcan - $2.3 Million\\nDelage D12: $2.3 Million\\nMcLaren Speedtail - $2.3 Million\\nRimac Nevera - $2.4 Million\\nPagani Utopia: $2.5 Million\\nPininfarina Battista - $2.5 Million\\nFerrari FXX K Evo - $2.6 Million\\nGordon Murray T.50 - $2.6 Million\\nLamborghini Countach - $2.6 Million\\nMercedes-AMG Project One - $2.7 Million\\nAston Martin Victor - $3.0 Million\\nHennessey Venom F5 Roadster: $3.0 Million\\nKoenigsegg Jesko - $3.0 Million\\nAston Martin Valkyrie - $3.2 Million\\nW Motors Lykan Hypersport - $3.4 Million\\nMcLaren Solus: $3.5 Million\\nPagani Huayra Roadster BC - $3.5 Million\\nBugatti Chiron Pur Sport - $3.6 Million\\nLamborghini Sian - $3.6 million\\nKoenigsegg CC850: $3.7 Million\\nBugatti Chiron Super Sport 300+ - $3.9 Million\\nLamborghini Veneno - $4.5 Million\\nBugatti Bolide - $4.7 Million\\nBugatti Mistral: $5.0 Million\\nPagani Huayra Imola: $5.4 Million\\nBugatti Divo - $5.8 Million\\nSP Automotive Chaos - $6.4 Million\\nPagani Codalunga: $7.4 Million\\nMercedes-Maybach Exelero - $8.0 Million\\nBugatti Centodieci - $9.0 Million\\nRolls-Royce Sweptail - $12.8 Million\\nBugatti La Voiture Noire - $13.4 Million\\nRolls-Royce Boat Tail - $28.0 Million*',\n",
       " 'The Drako GTE is a super sedan in every sense of the word. Packing 1,200 horsepower and a whopping 6,491 pound-feet of torque from a fully electric powertrain, the GTE can hit 60 in just about 2.0 seconds and tops out at 206 miles per hour. The cost for this family-friendly rocket is a cool $1.2 million.',\n",
       " 'The Drako GTE is a super sedan in every sense of the word. Packing 1,200 horsepower and a whopping 6,491 pound-feet of torque from a fully electric powertrain, the GTE can hit 60 in just about 2.0 seconds and tops out at 206 miles per hour. The cost for this family-friendly rocket is a cool $1.2 million.',\n",
       " 'When it comes to high-end hypercars and super-fast supercars, a few companies should come to mind first: Bugatti, Ferrari, Koenigsegg, Rimac, and Pagani, among others. These manufacturers have cemented themselves as the top dogs in the supercar and hypercar space, extending to their wealthiest clientele the fastest, rarest, prettiest – and in this case – most expensive cars on the planet.',\n",
       " \"But in order to find out which of these unattainable-to-most vehicles is the priciest, we've scoured the invoice sheets and uncovered 40 cars all worth $1 million or more. The group includes hybrid Ferrari convertibles, an American speed king, a few electric Hypercars, and two a one-of-a-kind Rolls-Royce cars built for royalty.\",\n",
       " 'We should note, though: The prices listed here are the price of the vehicles when new. So we’re not counting auction cars like the Ferrari 250 GTO, or overpriced secondhand sales. But don’t worry, there’s still hundreds of millions worth of cars here to whet your appetite.',\n",
       " 'Price: $1.2 Million',\n",
       " 'The Drako GTE is a super sedan in every sense of the word. Packing 1,200 horsepower and a whopping 6,491 pound-feet of torque from a fully electric powertrain, the GTE can hit 60 in just about 2.0 seconds and tops out at 206 miles per hour. The cost for this family-friendly rocket is a cool $1.2 million.',\n",
       " 'Price: $1.3 Million',\n",
       " 'The De Tomaso P72 is basically the definition of beautiful. The shapely supercar debuted at the 2019 Goodwood Festival Of Speed with a supercharged Ford V8 boasting 700 horsepower. The P72 marked the return of the DeTomaso brand after nearly 30 years on hiatus, and if you want one, it will cost you at least $1.3 million.',\n",
       " 'Price: $1.4 Million',\n",
       " 'At $1.4 million new, the Ferrari LaFerrari is actually one of the most affordable supercars on this list. It’s a bargain compared to the most expensive vehicle here. Debuting in 2013 with 950 hybrid horses (708 kilowatts) and a top speed of around 220 miles per hour (354 kilometers per hour), this is still Ferrari’s fastest and most powerful production model to date. The company built just 499 examples of the coupe between 2013 and 2016.',\n",
       " 'Price: $1.4 Million',\n",
       " 'Inarguably one of the prettiest cars on this list, the Pagani Huayra cost a cool $1.4 million when new. Like the LaFerrari, Pagani built the Huayra in extremely limited numbers. The company hand-constructed just 100 units of the coupe between 2012 and 2018, with another 20 versions of the BC model (which makes our list further down) between 2017 and 2019. Powering each and every example was a Mercedes-AMG V12 capable of 720 horsepower (537 kilowatts).',\n",
       " 'Price: $1.7 Million',\n",
       " 'The McLaren Elva is one of the latest additions to the British supercar maker’s storied legacy. Even without a proper windshield (though, no option) or roof to rely on, the Elva produces 804 horsepower and 590 pound-feet of torque from its twin-turbocharged 4.0-liter V8. Originally McLaren announced just 399 units, but later the company dropped that to an even more scarce 249 examples. Either way, most of you will never get your hands on one – the Elva costs $1.7 million.',\n",
       " 'Price: $1.7 Million',\n",
       " 'You might not know the name Czinger yet, but this California-based boutique automaker is responsible for the $1.7 million 21C supercar. With 1,250 horsepower on tap thanks to a 2.9-liter twin-turbocharged V8, the 21C can rocket to 60 miles per hour in 1.9 seconds and a top speed of around 281 miles per hour.',\n",
       " 'Price: $1.7 Million',\n",
       " 'Much like the roof-less McLaren Elva, the Ferrari Monza SP1 and SP2 are all about al fresco motoring. As the name implies, the SP1 is the single-seater option while the SP2 has just enough room for you to bring along a friend. Both cars come powered by the same naturally aspirated 6.5-liter V12 engine capable of 809 horsepower and 530 pound-feet. Unfortunately for US buyers, neither of these models are street legal in the States. But f you have the funds to afford the car’s $1.75 million price tag, getting onto a track probably won’t be an issue anyway.',\n",
       " 'Price: $1.7 Million',\n",
       " \"The second and slightly more affordable supercar in the new Gordon Murray lineup is the T.33. With 607 horsepower courtesy of a naturally aspirated 3.9-liter V12, the T.33 revs to a ridiculous 10,500 RPM. With a price tag of around $1.7 million at current conversion rates, Gordon Murray automotive promises to sell this car globally, in both right- and left-hand-drive configurations. Too bad it's already sold out.\",\n",
       " 'Price: $1.7 Million',\n",
       " 'One of two Koenigsegg models on this list, the Gemera is actually the Swedish supercar maker’s first four-seater. But that doesn’t mean it’s some family car. With a twin-turbocharged 2.0-liter engine under the hood and three electric motors, the Gemera has 1,700 horsepower and will hit 60 in just 1.9 seconds. The company only plans to build 300 of them, each one costing at least $1.7 million.',\n",
       " 'Price: $1.7 Million',\n",
       " 'Hailing from Denmark, the Zenvo TSR-S debuted in 2018 at the Geneva Motor Show as the most extreme option in the supercar startup’s repertoire. Boasting a twin-charged 5.8-liter V8 engine, the TSR-S produces 1,177 horsepower and will hit 62 miles per hour in just 2.8 seconds. Expect to pay at least $1.7 million to get your hands on this powerful and limited supercar.',\n",
       " 'Price: $1.8 Million',\n",
       " 'The Hennessey Venom GT was a record-breaker, topping out at 265.7 miles per hour in a world record run. But the new F5 plans to beat its predecessor with an estimated top speed of 311 mph, and with that comes a higher price, too. The Venom F5 starts at $1.8 million, according to the company, which makes it just a bit pricier than its $1.2-million predecessor.',\n",
       " 'Price: $1.9 Million',\n",
       " 'With just 12 total units produced, the Bentley Bacalar makes some of the \"limited\" cars on this list look plentiful by comparison. Although the car’s opulent design may be the first thing to grab your attention, the Bacalar is no slouch in terms of performance either. With Bentley’s signature turbocharged 6.0-liter W12 turbocharged engine, this car delivers 650 horsepower and 664 pound-feet. If you have a spare $1.9 million lying around and are considering buying one, you’re already too late – Bentley says that every example is now in customer hands.',\n",
       " 'Price: $1.9 Million',\n",
       " \"To call the Hispano Suiza Carmen Boulogne beautiful would be... a stretch. But this interesting-looking supercar made its US debut at this year's Amelia Island Concours d'Elegance boasting a 1,114-horsepower electric powertrain and a 0-60 time of 2.6 seconds. The Boulogne version pictured here – the lighter and more powerful of the two – costs close to $1.9 million.\",\n",
       " 'Price: $2.0 Million',\n",
       " \"The electric onslaught is coming. Bentley says it will be a fully electric automaker by 2030. But before the luxury brand transitions to battery power fully, the Mulliner Batur helps send the iconic W12 engine off in style. With 710 horsepower from that twin-turbocharged engine, the Batur is the most powerful Bentley ever. And since it's limited to just 18 examples globally, the Batur costs a whopping $2.0 million.\",\n",
       " 'Price: $2.0 Million',\n",
       " 'The Deus Vayanne may not be a household name (yet), but the all-electric hypercar debuted earlier this year with 2,200 horsepower, a 0-60 time of just under 2.0 seconds, and an estimated top speed of 248 miles per hour. Deus plans to build 99 examples of the Vayanne, with the first few examples scheduled to go on sale in 2025.',\n",
       " 'Price: $2.0 Million*',\n",
       " 'Although initially cloaked in controversy, SSC did manage to hit 282.9 miles per hour with its Tuatara hypercar, breaking a world record. But not only is the Tuatara one of the fastest vehicles on the planet, it’s also one of the priciest. The cost for all that speed is estimated to be around $2.0 million for the base Tuatara, limited to just 100 units worldwide.',\n",
       " 'Price: $2.1 Million',\n",
       " 'With a new Emira sports car and an Eletre electric SUV, Lotus is on the brink of a comeback. The automaker plans to roll out a number of new products within the next few years, with part of that strategy including the range-topping Evija. This supercar comes in at a cool $2.1 million and produces nearly 2,000 horsepower via four electric motors. Lotus plans to build just 130 road-going examples of the Evija.',\n",
       " 'Price: $2.3 Million',\n",
       " 'As with a few other cars on this list, the Aston Martin Vulcan was a track-only special. The British supercar made its world debut in 2015, powered by a naturally aspirated 7.0-liter V12 that produced 820 horsepower, and limited to just 24 examples worldwide. An even more track-focused AMR Pro model followed, but even the base Vulcan was a pricey commodity, costing about $2.4-million from the factory.',\n",
       " 'Price: $2.3 Million',\n",
       " 'You may have heard of Delage before. In the early 1900s, this French automaker was competing on the track with Bugatti and Ferrari. Now Delage is back and with a beautiful new hypercar dubbed the D12. Powered by a 7.6-liter V12 engine, the new D12 produces upwards of 1,010 horsepower and costs a cool $2.3 million.',\n",
       " 'Price: $2.3 Million',\n",
       " \"What would you pay for the fastest production McLaren ever? Well, at least $2.3 million. With 1,035 horsepower courtesy of a gasoline-electric hybrid V8 powertrain, the Speedtail tops out at 250 miles per hour and is able to reach 186 mph in just 12.8 seconds – 2.7 seconds faster than the P1. Unfortunately, if you didn't get your hands on one new in 2020, you'll have to shell out serious cash on the used market. McLaren only built 106 examples.\",\n",
       " 'Price: $2.4 Million',\n",
       " 'The Rimac Nevera takes the title of most expensive EV with its $2.4 million price tag – but only by a few hundred thousand dollars over the next priciest electric supercar. Packing 1,914 horsepower and 1,740 pound-feet of torque, the Nevera can hit 60 in under 2.0 seconds and will continue on to a top speed of 258 miles per hour. Those lucky enough to order one should see it in their driveway before the end of 2022.',\n",
       " 'Price: $2.5 Million',\n",
       " 'First came the Zonda, then the Huayra, and now the Pagani Utopia. With 852 horsepower and an available seven-speed manual gearbox, the Utopia is the most powerful road-going Pagani ever produced and it’s limited to just 99 examples worldwide. The cost for one is a cool $2.5 million.',\n",
       " 'Price: $2.5 Million',\n",
       " 'Aptly named after the company’s founder, Battista Farina, the Pininfarina Battista delivers the kind of performance (and price!) to make its namesake proud. Revealed at the 2019 Geneva Motor Show, the Battista is completely electric, putting out 1,827 horsepower. If a normal supercar’s 0 to 60 time sounds too leisurely for you, the company says that the Battista will take you there in under 2.0 seconds. Pininfarina plans on building 150 examples of the Battista, costing $2.5 million each.',\n",
       " 'Price: $2.6 Million',\n",
       " \"Sure, you could buy a normal LaFerrari (which also makes the list further down), but why settle for a supercar so mundane when you can take home this track-only version instead? Granted, the Ferrari FXX K Evo came out in 2017, and it's well past the point of being sold out. But when it was new, this 1,036-horsepower Ferrari tore up the track with its naturally aspirated V12 and aggressive aerodynamics.\",\n",
       " 'Price: $2.6 Million',\n",
       " \"If the name Gordon Murray sounds familiar, it’s because he's the man behind the design of the iconic McLaren F1. These days, Mr. Murray has his own supercar venture, and the handsome T.50 is the crown jewel of the lineup. At $2.6 million, the T.50 packs a naturally aspirated 4.0-liter V12 that makes 654 horsepower. The car itself weighs a mere 2,174 pounds, and at 392 pounds, the T.50 has the lightest V12 on the road today.\",\n",
       " 'Price: $2.6 Million',\n",
       " \"The name Countach may be iconic, but is it worth $2.6 million? That's what Lamborghini hopes you will spend on its new Aventador-based model. Debuting in August of 2021, the Countach LPI 800-4 has a 6.5-liter V12 with a light hybrid assist that gives it a whopping 803 horsepower, allowing for a 60 time of 2.8 seconds and a top speed of more than 220 miles per hour.\",\n",
       " 'Price: $2.7 Million',\n",
       " 'Mercedes has promised a production version of the Project One hypercar for quite a while now. The first official announcement was in March of 2017 before the first concept debuted later that same year. But after nearly five years of teasing, it appears as if the Project One will finally hit public roads. And when it does, the hybrid hypercar will have over 1,200 horsepower (895 kilowatts) and a price tag of $2.7 million.',\n",
       " 'Price: $3.0 Million',\n",
       " 'The folks at Aston Martin know a thing or two about exclusive vehicles, and the Victor might be the most exclusive project for the British brand to date. Based on the One-77 platform, the Victor uses parts from several donor Astons including the track project Vulcan and the upcoming Valkyrie. And talking about limited production – the Victor is one-of-one and rumored to cost nearly $3 million.',\n",
       " '$3.0 Million',\n",
       " 'The same Hennessey Venom F5 hypercar we all know and love, but with less roof. The F5 Roadster has the same twin-turbocharged 6.6-liter V8 as the coupe, producing the same 1,817 horsepower and 1,193 pound-feet of torque. Hennessey estimates a top speed of over 300 miles per hour, but if you want one, it will cost you at least $3.0 million.',\n",
       " 'Price: $3.0 Million',\n",
       " \"The Koenigsegg Jesko, apart from being the fastest car the company has made to date, is also the most expensive. At $3.0 million out of the box, the handsome hypercar has 1,600-horsepower courtesy of the brand's ubiquitous twin-turbocharged 5.0-liter V8 engine. Opt for the Absolut model, and the Jesko, in theory, will be able to hit 300 miles per hour.\",\n",
       " 'Price: $3.2 Million',\n",
       " 'The upcoming Aston Martin hybrid hypercar hasn’t even hit the market yet, but already the $3.2 million Valkyrie has sold out. For what it’s worth, Aston Martin hasn’t officially released pricing. Estimates suggest the hypercar could go for anywhere between $2.6 and $3.9 million – but $3.2 million seems to be the magic number. Whatever the case, this machine is impressive. Its Cosworth-sourced 6.5-liter V12 produces 1,160 horsepower (865 kilowatts) and 664 pound-feet (900 Newton-meters) of torque, meaning its top speed should be well over 200 miles per hour (321 kilometers per hour). The company will build just 150 examples of the standard Valkyrie, with a limited 25-run AMR model arriving later.',\n",
       " 'Price: $3.4 Million',\n",
       " \"Dubai-based W Motors shocked the world with its edgy Lykan Hypersport supercar in 2013. With titanium LED headlights housing 420 15-carat diamonds and a holographic display in the center console, it's no surprise it was the third most expensive car ever when new. It falls to number six on our list here, but it's still a wild hypercar with a powerful heart; the twin-turbocharged 3.7-liter six-cylinder engine underhood produces 780 horsepower (581 kilowatts) and 708 (960 Newton-meters) of torque.\",\n",
       " '$3.5 Million',\n",
       " 'One seat, 829 horsepower, and a top speed of over 200 miles per hour. The new McLaren Solus is about as close as you can get to a Formula 1 car from the factory, powered by a naturally aspirated 5.2-liter V10 engine with a 0-62 mile-per-hour time of just 2.5 seconds. Estimates suggest a McLaren Solus will set you back about $3.5 million.',\n",
       " 'Price: $3.5 Million',\n",
       " 'Following Pagani’s past playbook, a roadster version of the ferocious Huayra BC was inevitable. Last year, the company made it official by showing off the Huayra Roadster BC, a topless monster with 800 horsepower (597 kilowatts) and 774 lb-ft of torque (1049 Newton-meters). Somewhat surprisingly, Pagani gave the roadster 50 more horsepower than its coupe sibling, by cranking up its AMG-sourced twin-turbocharged 6.0-liter V12. In addition to the joy of hearing the glorious engine note without a roof in the way, owners should take comfort in knowing that their car is ultra-rare. Pagani is limiting production to just 40 units, each with a sticker price of $3.5 million.',\n",
       " 'Price: $3.6 Million',\n",
       " 'Another showstopper from the Geneva Motor Show that never was, the Bugatti Chiron Pur Sport is a special edition Chiron with a focus on aerodynamics, weight reduction, and power distribution. It’s the same 8.0-liter quad-turbo W16 engine underneath the skin but it’s now mated to a recalibrated automatic gearbox. While the peak output remains unchanged at 1,500 horsepower (1,103 kilowatts), the rpm redline has been set 200 rpm higher, up to 6,900 rpm. The Pur Sport also features slightly revised bodywork, with a bigger rear wing and more aerodynamic front fascia. Beginning production in late 2020, the Bugatti starts at $3.6 million.',\n",
       " 'Price: $3.6 million',\n",
       " 'In several ways, the Sian represents a bridge to Lamborghini’s future. Though it’s based on the Aventador SVJ, this wild-looking Lambo is the brand’s first production electrified offering. In addition to the SVJ-sourced 6.5-liter V12, the Sian uses a 48-volt mild-hybrid system. Total system output is 819 horsepower (611 kilowatts), which also makes it the most powerful Lamborghini ever. As confirmed by the 63 stuck on either side of the Sian’s wing, Lamborghini will produce just 63 units. And each will cost far more than the Aventador SVJ, carrying a price of $3.6 million.',\n",
       " 'Price: $3.7 Million',\n",
       " 'The Koenigsegg CC850 was a surprise to be sure, but a welcomed one. Borrowing the twin-turbocharged 5.0-liter V8 from the Jesko, it notches that output up to 1,385 horsepower and 1,022 pound-feet of torque, with a so-called “TWMPAFMPC” transmission that shifts (pun intended) between manual and automatic functions. Of course, all that performance technology will cost you; the CC850 starts at $3.7 million.',\n",
       " 'Price: $3.9 Million',\n",
       " 'Earlier this year, Bugatti captured the collective attention of the automotive world by announcing that it broke the 300 miles per hour barrier with a modified version of the Chiron. The Super Sport 300 + is a road-going version of that car, meant to celebrate the occasion. Limited to just 30 units, the Super Sport 300+ is a beautiful version of the Chiron, with flowing, slippery bodywork and a sweet stripe motif. Even with 300 in the name, Bugatti is limiting the top speed of each car to \"just\" 277 mph. Production starts this year.',\n",
       " 'Price: $4.5 Million',\n",
       " \"Lamborghini built just 14 examples of the Aventador-based Veneno between 2014 and 2015. Each one cost around $4.5 million, depending on how it was spec'd, and was available in both convertible and coupe configurations. Underhood Lamborghini fitted a more-powerful iteration of the Aventador's 6.5-liter V12, now producing 740 horsepower (552 kilowatts) and 509 pound-feet (609 Newton-meters) of torque, which gave it the ability to sprint to 60 miles per hour (96 kilometers per hour) in a blistering 2.9 seconds. To date, it’s the most expensive new Lamborghini ever.\",\n",
       " 'Price: $4.7 Million',\n",
       " \"Produced in extremely limited numbers atop the body of a Chiron, it's no wonder Bugatti's one-of-40 Bolide track car is this pricey. At $4.7 million, the 1,824-horsepower hypercar has more power than the Chiron Super Sport 300+, and more extreme bodywork that allow it to lap tracks like the Nurburgring in record time (in theory). Bugatti says the Bolide would be able to conquer the ‘Ring in record time.\",\n",
       " 'Price: $5.0 Million',\n",
       " 'The Bugatti Mistral sends the iconic W16 engine off in style. With 1,577 horsepower and no roof, the Mistral takes the best bits of the Chiron and borrows elements from the Bolide and Divo to create a truly unique roadster. Of course, Bugatti plans to build just 99 examples of the Mistral at the cost of around $5.0 million in the US – and all of them are already accounted for.',\n",
       " 'Price: $5.4 Million',\n",
       " 'Even though the new Utopia marks the next big step for Pagani, the Huayra Imola packs nearly as much power with a twin-turbocharged 6.0-liter V12 engine producing 827 horsepower and 811 pound-feet of torque. The Huayra Imola is estimated to cost around $5.4 million new, which would make it the second most expensive Pagani of all time.',\n",
       " 'Price: $5.8 Million',\n",
       " 'Among Bugatti’s recently debuted vehicles, the Divo is a staff favorite. Though it shares much in common with its cheaper (!) sibling the Chiron, the Divo has a lot going for it to justify the extra money. By adding lighter wheels, a carbon fiber intercooler and removing some sound deadening, Bugatti made the Divo 77 pounds lighter than the Chiron. Though power is unchanged from the Chiron’s 1,500 ponies (1,119 kilowatts), The Divo features a different aerodynamic setup, which makes it 8 seconds quicker around the Nardo test track. Finally, the moment you’ve been waiting for: Bugatti is making 40 examples of the car, each costing $5.8 million.',\n",
       " 'Price: $6.4 Million',\n",
       " \"SP Automotive (short for Spyros Panopoulos) is a new name in the world of hypercars, but the brand's 2,000-horsepower, $6.4-million, aptly named Chaos has already made an impact. With a twin-turbocharged 4.0-liter V10, the base SP Automotive Chaos is one of the most expensive cars on this list – beating out many Lambos and Bugattis – but there's an even pricier version of this car that costs an eye-watering $14.4 million. That version reportedly packs 3,000 hp.\",\n",
       " 'Price: $7.4 Million',\n",
       " 'The long list of pricey (new) Paganis ends with the Codualunga. Inspired by 1960s Italian coachbuilding, the stunning exterior and steampunk-esque interior – while equally stunning – are only part of what makes this Pagani so pricey. Under the hood is a twin-turbocharged 6.0-liter V12 producing 829 horsepower and 809 pound-feet of torque, paired to a seven-speed sequential transmission for a real race-car–like feel. The cost for this one-of-five Pagani is $7.4 million.',\n",
       " 'Price: $8.0 Million',\n",
       " \"Like many others before it, the Mercedes-Benz Maybach Exelero is a one-off. Commissioned by Fulda, a German subsidiary of Goodyear, to test its new tires, the Exlero debuted in 2004. Mercedes built the Exelero on the bones of a Maybach, and gave it the same twin-turbo V12 engine producing 690 horsepower (510 kilowatts) and 752 pound-feet (1,020 Newton-meters) of torque. Top speed is listed at 218 miles per hour (350 kilometers per hour) and adjusted for inflation, the Exelero would cost more than $10 million in today's money.\",\n",
       " 'Price: $9.0 Million',\n",
       " 'Bugatti debuted the Centodieci at last year’s Pebble Beach car week, showing off yet another ultra-rare, super-expensive model to the world. Limited to just 10 – dieci – units, the car is a modern throwback to the Bugatti EB110. At the same time, it’s meant to celebrate Bugatti’s momentous 110-year anniversary. Its unique styling cues won’t make everyone fall in love, but at least you won’t have to worry about seeing another one on the road. Carrying a price just shy of $9 million, the Centodiece is one of the most exclusive cars ever made.',\n",
       " 'Price: $12.8 Million',\n",
       " \"Rolls-Royce, expectedly, takes two of the top three spots on this list, with the stunning Sweptail one-off from 2017 coming in at number three. With a monumental price tag of $13.0 million, it was, at the time of its debut, the most expensive new car ever. It's been outpriced since then, but the 453-horsepower luxury car is still a jaw-dropper.\",\n",
       " 'Price: $13.4 Million',\n",
       " \"With a price tag of $13.4 million, the one-off Bugatti La Voiture Noire is officially the most expensive new Bugatti ever made. And understandably so. A modern interpretation of Jean Bugatti's personal Type 57 SC Atlantic, the La Voiture Noire uses the same quad-turbocharged 8.0-liter W16 engine as the Chiron, producing 1,479 horsepower. It has six – that's right, six exhaust tips, radical new wheels, an aggressive, bespoke fascia, and a gigantic light-up badge in the rear that spells out the name of the brand. Of course, this one-of-one Bugatti already has a home.\",\n",
       " 'Price: $28.0 Million (est.)',\n",
       " 'Rolls-Royce is back in the business of coachbuilding with the gorgeous new Boat Tail. A successor to the stunning Sweptail from 2017 – which itself cost a reported $12.8 million – the Boat Tail has a unique two-tone exterior, custom high-end finishes inside, and even a \"hosting suite\" complete with a champagne fridge and built-in sun umbrella. Although Rolls-Royce doesn’t officially announce pricing for one-off builds such as this, rumor has it that the Boat Tail cost a whopping $28.0 million new.']"
      ]
     },
     "execution_count": 39,
     "metadata": {},
     "output_type": "execute_result"
    }
   ],
   "source": [
    "description"
   ]
  },
  {
   "cell_type": "code",
   "execution_count": 45,
   "id": "94eaf3e4",
   "metadata": {},
   "outputs": [
    {
     "data": {
      "text/plain": [
       "108"
      ]
     },
     "execution_count": 45,
     "metadata": {},
     "output_type": "execute_result"
    }
   ],
   "source": [
    "len(description)"
   ]
  },
  {
   "cell_type": "code",
   "execution_count": 69,
   "id": "42c30ecf",
   "metadata": {},
   "outputs": [
    {
     "data": {
      "text/plain": [
       "['When it comes to high-end hypercars and super-fast supercars, a few companies should come to mind first: Bugatti, Ferrari, Koenigsegg, Rimac, and Pagani, among others. These manufacturers have cemented themselves as the top dogs in the supercar and hypercar space, extending to their wealthiest clientele the fastest, rarest, prettiest – and in this case – most expensive cars on the planet.',\n",
       " 'We should note, though: The prices listed here are the price of the vehicles when new. So we’re not counting auction cars like the Ferrari 250 GTO, or overpriced secondhand sales. But don’t worry, there’s still hundreds of millions worth of cars here to whet your appetite.',\n",
       " 'The Drako GTE is a super sedan in every sense of the word. Packing 1,200 horsepower and a whopping 6,491 pound-feet of torque from a fully electric powertrain, the GTE can hit 60 in just about 2.0 seconds and tops out at 206 miles per hour. The cost for this family-friendly rocket is a cool $1.2 million.',\n",
       " 'The De Tomaso P72 is basically the definition of beautiful. The shapely supercar debuted at the 2019 Goodwood Festival Of Speed with a supercharged Ford V8 boasting 700 horsepower. The P72 marked the return of the DeTomaso brand after nearly 30 years on hiatus, and if you want one, it will cost you at least $1.3 million.',\n",
       " 'At $1.4 million new, the Ferrari LaFerrari is actually one of the most affordable supercars on this list. It’s a bargain compared to the most expensive vehicle here. Debuting in 2013 with 950 hybrid horses (708 kilowatts) and a top speed of around 220 miles per hour (354 kilometers per hour), this is still Ferrari’s fastest and most powerful production model to date. The company built just 499 examples of the coupe between 2013 and 2016.',\n",
       " 'Inarguably one of the prettiest cars on this list, the Pagani Huayra cost a cool $1.4 million when new. Like the LaFerrari, Pagani built the Huayra in extremely limited numbers. The company hand-constructed just 100 units of the coupe between 2012 and 2018, with another 20 versions of the BC model (which makes our list further down) between 2017 and 2019. Powering each and every example was a Mercedes-AMG V12 capable of 720 horsepower (537 kilowatts).',\n",
       " 'The McLaren Elva is one of the latest additions to the British supercar maker’s storied legacy. Even without a proper windshield (though, no option) or roof to rely on, the Elva produces 804 horsepower and 590 pound-feet of torque from its twin-turbocharged 4.0-liter V8. Originally McLaren announced just 399 units, but later the company dropped that to an even more scarce 249 examples. Either way, most of you will never get your hands on one – the Elva costs $1.7 million.',\n",
       " 'You might not know the name Czinger yet, but this California-based boutique automaker is responsible for the $1.7 million 21C supercar. With 1,250 horsepower on tap thanks to a 2.9-liter twin-turbocharged V8, the 21C can rocket to 60 miles per hour in 1.9 seconds and a top speed of around 281 miles per hour.',\n",
       " 'Much like the roof-less McLaren Elva, the Ferrari Monza SP1 and SP2 are all about al fresco motoring. As the name implies, the SP1 is the single-seater option while the SP2 has just enough room for you to bring along a friend. Both cars come powered by the same naturally aspirated 6.5-liter V12 engine capable of 809 horsepower and 530 pound-feet. Unfortunately for US buyers, neither of these models are street legal in the States. But f you have the funds to afford the car’s $1.75 million price tag, getting onto a track probably won’t be an issue anyway.',\n",
       " \"The second and slightly more affordable supercar in the new Gordon Murray lineup is the T.33. With 607 horsepower courtesy of a naturally aspirated 3.9-liter V12, the T.33 revs to a ridiculous 10,500 RPM. With a price tag of around $1.7 million at current conversion rates, Gordon Murray automotive promises to sell this car globally, in both right- and left-hand-drive configurations. Too bad it's already sold out.\",\n",
       " 'One of two Koenigsegg models on this list, the Gemera is actually the Swedish supercar maker’s first four-seater. But that doesn’t mean it’s some family car. With a twin-turbocharged 2.0-liter engine under the hood and three electric motors, the Gemera has 1,700 horsepower and will hit 60 in just 1.9 seconds. The company only plans to build 300 of them, each one costing at least $1.7 million.',\n",
       " 'Hailing from Denmark, the Zenvo TSR-S debuted in 2018 at the Geneva Motor Show as the most extreme option in the supercar startup’s repertoire. Boasting a twin-charged 5.8-liter V8 engine, the TSR-S produces 1,177 horsepower and will hit 62 miles per hour in just 2.8 seconds. Expect to pay at least $1.7 million to get your hands on this powerful and limited supercar.',\n",
       " 'The Hennessey Venom GT was a record-breaker, topping out at 265.7 miles per hour in a world record run. But the new F5 plans to beat its predecessor with an estimated top speed of 311 mph, and with that comes a higher price, too. The Venom F5 starts at $1.8 million, according to the company, which makes it just a bit pricier than its $1.2-million predecessor.',\n",
       " 'With just 12 total units produced, the Bentley Bacalar makes some of the \"limited\" cars on this list look plentiful by comparison. Although the car’s opulent design may be the first thing to grab your attention, the Bacalar is no slouch in terms of performance either. With Bentley’s signature turbocharged 6.0-liter W12 turbocharged engine, this car delivers 650 horsepower and 664 pound-feet. If you have a spare $1.9 million lying around and are considering buying one, you’re already too late – Bentley says that every example is now in customer hands.',\n",
       " \"To call the Hispano Suiza Carmen Boulogne beautiful would be... a stretch. But this interesting-looking supercar made its US debut at this year's Amelia Island Concours d'Elegance boasting a 1,114-horsepower electric powertrain and a 0-60 time of 2.6 seconds. The Boulogne version pictured here – the lighter and more powerful of the two – costs close to $1.9 million.\",\n",
       " \"The electric onslaught is coming. Bentley says it will be a fully electric automaker by 2030. But before the luxury brand transitions to battery power fully, the Mulliner Batur helps send the iconic W12 engine off in style. With 710 horsepower from that twin-turbocharged engine, the Batur is the most powerful Bentley ever. And since it's limited to just 18 examples globally, the Batur costs a whopping $2.0 million.\",\n",
       " 'The Deus Vayanne may not be a household name (yet), but the all-electric hypercar debuted earlier this year with 2,200 horsepower, a 0-60 time of just under 2.0 seconds, and an estimated top speed of 248 miles per hour. Deus plans to build 99 examples of the Vayanne, with the first few examples scheduled to go on sale in 2025.',\n",
       " 'Although initially cloaked in controversy, SSC did manage to hit 282.9 miles per hour with its Tuatara hypercar, breaking a world record. But not only is the Tuatara one of the fastest vehicles on the planet, it’s also one of the priciest. The cost for all that speed is estimated to be around $2.0 million for the base Tuatara, limited to just 100 units worldwide.',\n",
       " 'With a new Emira sports car and an Eletre electric SUV, Lotus is on the brink of a comeback. The automaker plans to roll out a number of new products within the next few years, with part of that strategy including the range-topping Evija. This supercar comes in at a cool $2.1 million and produces nearly 2,000 horsepower via four electric motors. Lotus plans to build just 130 road-going examples of the Evija.',\n",
       " 'As with a few other cars on this list, the Aston Martin Vulcan was a track-only special. The British supercar made its world debut in 2015, powered by a naturally aspirated 7.0-liter V12 that produced 820 horsepower, and limited to just 24 examples worldwide. An even more track-focused AMR Pro model followed, but even the base Vulcan was a pricey commodity, costing about $2.4-million from the factory.',\n",
       " 'You may have heard of Delage before. In the early 1900s, this French automaker was competing on the track with Bugatti and Ferrari. Now Delage is back and with a beautiful new hypercar dubbed the D12. Powered by a 7.6-liter V12 engine, the new D12 produces upwards of 1,010 horsepower and costs a cool $2.3 million.',\n",
       " \"What would you pay for the fastest production McLaren ever? Well, at least $2.3 million. With 1,035 horsepower courtesy of a gasoline-electric hybrid V8 powertrain, the Speedtail tops out at 250 miles per hour and is able to reach 186 mph in just 12.8 seconds – 2.7 seconds faster than the P1. Unfortunately, if you didn't get your hands on one new in 2020, you'll have to shell out serious cash on the used market. McLaren only built 106 examples.\",\n",
       " 'The Rimac Nevera takes the title of most expensive EV with its $2.4 million price tag – but only by a few hundred thousand dollars over the next priciest electric supercar. Packing 1,914 horsepower and 1,740 pound-feet of torque, the Nevera can hit 60 in under 2.0 seconds and will continue on to a top speed of 258 miles per hour. Those lucky enough to order one should see it in their driveway before the end of 2022.',\n",
       " 'First came the Zonda, then the Huayra, and now the Pagani Utopia. With 852 horsepower and an available seven-speed manual gearbox, the Utopia is the most powerful road-going Pagani ever produced and it’s limited to just 99 examples worldwide. The cost for one is a cool $2.5 million.',\n",
       " 'Aptly named after the company’s founder, Battista Farina, the Pininfarina Battista delivers the kind of performance (and price!) to make its namesake proud. Revealed at the 2019 Geneva Motor Show, the Battista is completely electric, putting out 1,827 horsepower. If a normal supercar’s 0 to 60 time sounds too leisurely for you, the company says that the Battista will take you there in under 2.0 seconds. Pininfarina plans on building 150 examples of the Battista, costing $2.5 million each.',\n",
       " \"Sure, you could buy a normal LaFerrari (which also makes the list further down), but why settle for a supercar so mundane when you can take home this track-only version instead? Granted, the Ferrari FXX K Evo came out in 2017, and it's well past the point of being sold out. But when it was new, this 1,036-horsepower Ferrari tore up the track with its naturally aspirated V12 and aggressive aerodynamics.\",\n",
       " \"If the name Gordon Murray sounds familiar, it’s because he's the man behind the design of the iconic McLaren F1. These days, Mr. Murray has his own supercar venture, and the handsome T.50 is the crown jewel of the lineup. At $2.6 million, the T.50 packs a naturally aspirated 4.0-liter V12 that makes 654 horsepower. The car itself weighs a mere 2,174 pounds, and at 392 pounds, the T.50 has the lightest V12 on the road today.\",\n",
       " \"The name Countach may be iconic, but is it worth $2.6 million? That's what Lamborghini hopes you will spend on its new Aventador-based model. Debuting in August of 2021, the Countach LPI 800-4 has a 6.5-liter V12 with a light hybrid assist that gives it a whopping 803 horsepower, allowing for a 60 time of 2.8 seconds and a top speed of more than 220 miles per hour.\",\n",
       " 'Mercedes has promised a production version of the Project One hypercar for quite a while now. The first official announcement was in March of 2017 before the first concept debuted later that same year. But after nearly five years of teasing, it appears as if the Project One will finally hit public roads. And when it does, the hybrid hypercar will have over 1,200 horsepower (895 kilowatts) and a price tag of $2.7 million.',\n",
       " 'The folks at Aston Martin know a thing or two about exclusive vehicles, and the Victor might be the most exclusive project for the British brand to date. Based on the One-77 platform, the Victor uses parts from several donor Astons including the track project Vulcan and the upcoming Valkyrie. And talking about limited production – the Victor is one-of-one and rumored to cost nearly $3 million.',\n",
       " 'The same Hennessey Venom F5 hypercar we all know and love, but with less roof. The F5 Roadster has the same twin-turbocharged 6.6-liter V8 as the coupe, producing the same 1,817 horsepower and 1,193 pound-feet of torque. Hennessey estimates a top speed of over 300 miles per hour, but if you want one, it will cost you at least $3.0 million.',\n",
       " \"The Koenigsegg Jesko, apart from being the fastest car the company has made to date, is also the most expensive. At $3.0 million out of the box, the handsome hypercar has 1,600-horsepower courtesy of the brand's ubiquitous twin-turbocharged 5.0-liter V8 engine. Opt for the Absolut model, and the Jesko, in theory, will be able to hit 300 miles per hour.\",\n",
       " 'The upcoming Aston Martin hybrid hypercar hasn’t even hit the market yet, but already the $3.2 million Valkyrie has sold out. For what it’s worth, Aston Martin hasn’t officially released pricing. Estimates suggest the hypercar could go for anywhere between $2.6 and $3.9 million – but $3.2 million seems to be the magic number. Whatever the case, this machine is impressive. Its Cosworth-sourced 6.5-liter V12 produces 1,160 horsepower (865 kilowatts) and 664 pound-feet (900 Newton-meters) of torque, meaning its top speed should be well over 200 miles per hour (321 kilometers per hour). The company will build just 150 examples of the standard Valkyrie, with a limited 25-run AMR model arriving later.',\n",
       " \"Dubai-based W Motors shocked the world with its edgy Lykan Hypersport supercar in 2013. With titanium LED headlights housing 420 15-carat diamonds and a holographic display in the center console, it's no surprise it was the third most expensive car ever when new. It falls to number six on our list here, but it's still a wild hypercar with a powerful heart; the twin-turbocharged 3.7-liter six-cylinder engine underhood produces 780 horsepower (581 kilowatts) and 708 (960 Newton-meters) of torque.\",\n",
       " 'One seat, 829 horsepower, and a top speed of over 200 miles per hour. The new McLaren Solus is about as close as you can get to a Formula 1 car from the factory, powered by a naturally aspirated 5.2-liter V10 engine with a 0-62 mile-per-hour time of just 2.5 seconds. Estimates suggest a McLaren Solus will set you back about $3.5 million.',\n",
       " 'Following Pagani’s past playbook, a roadster version of the ferocious Huayra BC was inevitable. Last year, the company made it official by showing off the Huayra Roadster BC, a topless monster with 800 horsepower (597 kilowatts) and 774 lb-ft of torque (1049 Newton-meters). Somewhat surprisingly, Pagani gave the roadster 50 more horsepower than its coupe sibling, by cranking up its AMG-sourced twin-turbocharged 6.0-liter V12. In addition to the joy of hearing the glorious engine note without a roof in the way, owners should take comfort in knowing that their car is ultra-rare. Pagani is limiting production to just 40 units, each with a sticker price of $3.5 million.',\n",
       " 'Another showstopper from the Geneva Motor Show that never was, the Bugatti Chiron Pur Sport is a special edition Chiron with a focus on aerodynamics, weight reduction, and power distribution. It’s the same 8.0-liter quad-turbo W16 engine underneath the skin but it’s now mated to a recalibrated automatic gearbox. While the peak output remains unchanged at 1,500 horsepower (1,103 kilowatts), the rpm redline has been set 200 rpm higher, up to 6,900 rpm. The Pur Sport also features slightly revised bodywork, with a bigger rear wing and more aerodynamic front fascia. Beginning production in late 2020, the Bugatti starts at $3.6 million.',\n",
       " 'In several ways, the Sian represents a bridge to Lamborghini’s future. Though it’s based on the Aventador SVJ, this wild-looking Lambo is the brand’s first production electrified offering. In addition to the SVJ-sourced 6.5-liter V12, the Sian uses a 48-volt mild-hybrid system. Total system output is 819 horsepower (611 kilowatts), which also makes it the most powerful Lamborghini ever. As confirmed by the 63 stuck on either side of the Sian’s wing, Lamborghini will produce just 63 units. And each will cost far more than the Aventador SVJ, carrying a price of $3.6 million.',\n",
       " 'The Koenigsegg CC850 was a surprise to be sure, but a welcomed one. Borrowing the twin-turbocharged 5.0-liter V8 from the Jesko, it notches that output up to 1,385 horsepower and 1,022 pound-feet of torque, with a so-called “TWMPAFMPC” transmission that shifts (pun intended) between manual and automatic functions. Of course, all that performance technology will cost you; the CC850 starts at $3.7 million.',\n",
       " 'Earlier this year, Bugatti captured the collective attention of the automotive world by announcing that it broke the 300 miles per hour barrier with a modified version of the Chiron. The Super Sport 300 + is a road-going version of that car, meant to celebrate the occasion. Limited to just 30 units, the Super Sport 300+ is a beautiful version of the Chiron, with flowing, slippery bodywork and a sweet stripe motif. Even with 300 in the name, Bugatti is limiting the top speed of each car to \"just\" 277 mph. Production starts this year.',\n",
       " \"Lamborghini built just 14 examples of the Aventador-based Veneno between 2014 and 2015. Each one cost around $4.5 million, depending on how it was spec'd, and was available in both convertible and coupe configurations. Underhood Lamborghini fitted a more-powerful iteration of the Aventador's 6.5-liter V12, now producing 740 horsepower (552 kilowatts) and 509 pound-feet (609 Newton-meters) of torque, which gave it the ability to sprint to 60 miles per hour (96 kilometers per hour) in a blistering 2.9 seconds. To date, it’s the most expensive new Lamborghini ever.\",\n",
       " \"Produced in extremely limited numbers atop the body of a Chiron, it's no wonder Bugatti's one-of-40 Bolide track car is this pricey. At $4.7 million, the 1,824-horsepower hypercar has more power than the Chiron Super Sport 300+, and more extreme bodywork that allow it to lap tracks like the Nurburgring in record time (in theory). Bugatti says the Bolide would be able to conquer the ‘Ring in record time.\",\n",
       " 'The Bugatti Mistral sends the iconic W16 engine off in style. With 1,577 horsepower and no roof, the Mistral takes the best bits of the Chiron and borrows elements from the Bolide and Divo to create a truly unique roadster. Of course, Bugatti plans to build just 99 examples of the Mistral at the cost of around $5.0 million in the US – and all of them are already accounted for.',\n",
       " 'Even though the new Utopia marks the next big step for Pagani, the Huayra Imola packs nearly as much power with a twin-turbocharged 6.0-liter V12 engine producing 827 horsepower and 811 pound-feet of torque. The Huayra Imola is estimated to cost around $5.4 million new, which would make it the second most expensive Pagani of all time.',\n",
       " 'Among Bugatti’s recently debuted vehicles, the Divo is a staff favorite. Though it shares much in common with its cheaper (!) sibling the Chiron, the Divo has a lot going for it to justify the extra money. By adding lighter wheels, a carbon fiber intercooler and removing some sound deadening, Bugatti made the Divo 77 pounds lighter than the Chiron. Though power is unchanged from the Chiron’s 1,500 ponies (1,119 kilowatts), The Divo features a different aerodynamic setup, which makes it 8 seconds quicker around the Nardo test track. Finally, the moment you’ve been waiting for: Bugatti is making 40 examples of the car, each costing $5.8 million.',\n",
       " \"SP Automotive (short for Spyros Panopoulos) is a new name in the world of hypercars, but the brand's 2,000-horsepower, $6.4-million, aptly named Chaos has already made an impact. With a twin-turbocharged 4.0-liter V10, the base SP Automotive Chaos is one of the most expensive cars on this list – beating out many Lambos and Bugattis – but there's an even pricier version of this car that costs an eye-watering $14.4 million. That version reportedly packs 3,000 hp.\",\n",
       " 'The long list of pricey (new) Paganis ends with the Codualunga. Inspired by 1960s Italian coachbuilding, the stunning exterior and steampunk-esque interior – while equally stunning – are only part of what makes this Pagani so pricey. Under the hood is a twin-turbocharged 6.0-liter V12 producing 829 horsepower and 809 pound-feet of torque, paired to a seven-speed sequential transmission for a real race-car–like feel. The cost for this one-of-five Pagani is $7.4 million.',\n",
       " \"Like many others before it, the Mercedes-Benz Maybach Exelero is a one-off. Commissioned by Fulda, a German subsidiary of Goodyear, to test its new tires, the Exlero debuted in 2004. Mercedes built the Exelero on the bones of a Maybach, and gave it the same twin-turbo V12 engine producing 690 horsepower (510 kilowatts) and 752 pound-feet (1,020 Newton-meters) of torque. Top speed is listed at 218 miles per hour (350 kilometers per hour) and adjusted for inflation, the Exelero would cost more than $10 million in today's money.\",\n",
       " 'Bugatti debuted the Centodieci at last year’s Pebble Beach car week, showing off yet another ultra-rare, super-expensive model to the world. Limited to just 10 – dieci – units, the car is a modern throwback to the Bugatti EB110. At the same time, it’s meant to celebrate Bugatti’s momentous 110-year anniversary. Its unique styling cues won’t make everyone fall in love, but at least you won’t have to worry about seeing another one on the road. Carrying a price just shy of $9 million, the Centodiece is one of the most exclusive cars ever made.',\n",
       " \"Rolls-Royce, expectedly, takes two of the top three spots on this list, with the stunning Sweptail one-off from 2017 coming in at number three. With a monumental price tag of $13.0 million, it was, at the time of its debut, the most expensive new car ever. It's been outpriced since then, but the 453-horsepower luxury car is still a jaw-dropper.\",\n",
       " \"With a price tag of $13.4 million, the one-off Bugatti La Voiture Noire is officially the most expensive new Bugatti ever made. And understandably so. A modern interpretation of Jean Bugatti's personal Type 57 SC Atlantic, the La Voiture Noire uses the same quad-turbocharged 8.0-liter W16 engine as the Chiron, producing 1,479 horsepower. It has six – that's right, six exhaust tips, radical new wheels, an aggressive, bespoke fascia, and a gigantic light-up badge in the rear that spells out the name of the brand. Of course, this one-of-one Bugatti already has a home.\",\n",
       " 'Rolls-Royce is back in the business of coachbuilding with the gorgeous new Boat Tail. A successor to the stunning Sweptail from 2017 – which itself cost a reported $12.8 million – the Boat Tail has a unique two-tone exterior, custom high-end finishes inside, and even a \"hosting suite\" complete with a champagne fridge and built-in sun umbrella. Although Rolls-Royce doesn’t officially announce pricing for one-off builds such as this, rumor has it that the Boat Tail cost a whopping $28.0 million new.']"
      ]
     },
     "execution_count": 69,
     "metadata": {},
     "output_type": "execute_result"
    }
   ],
   "source": [
    "des = description[5:108:2]\n",
    "des"
   ]
  },
  {
   "cell_type": "code",
   "execution_count": 70,
   "id": "a9186470",
   "metadata": {},
   "outputs": [
    {
     "data": {
      "text/plain": [
       "52"
      ]
     },
     "execution_count": 70,
     "metadata": {},
     "output_type": "execute_result"
    }
   ],
   "source": [
    "len(des)"
   ]
  },
  {
   "cell_type": "code",
   "execution_count": 72,
   "id": "ff219b5d",
   "metadata": {},
   "outputs": [
    {
     "data": {
      "text/plain": [
       "['The Drako GTE is a super sedan in every sense of the word. Packing 1,200 horsepower and a whopping 6,491 pound-feet of torque from a fully electric powertrain, the GTE can hit 60 in just about 2.0 seconds and tops out at 206 miles per hour. The cost for this family-friendly rocket is a cool $1.2 million.',\n",
       " 'The De Tomaso P72 is basically the definition of beautiful. The shapely supercar debuted at the 2019 Goodwood Festival Of Speed with a supercharged Ford V8 boasting 700 horsepower. The P72 marked the return of the DeTomaso brand after nearly 30 years on hiatus, and if you want one, it will cost you at least $1.3 million.',\n",
       " 'At $1.4 million new, the Ferrari LaFerrari is actually one of the most affordable supercars on this list. It’s a bargain compared to the most expensive vehicle here. Debuting in 2013 with 950 hybrid horses (708 kilowatts) and a top speed of around 220 miles per hour (354 kilometers per hour), this is still Ferrari’s fastest and most powerful production model to date. The company built just 499 examples of the coupe between 2013 and 2016.',\n",
       " 'Inarguably one of the prettiest cars on this list, the Pagani Huayra cost a cool $1.4 million when new. Like the LaFerrari, Pagani built the Huayra in extremely limited numbers. The company hand-constructed just 100 units of the coupe between 2012 and 2018, with another 20 versions of the BC model (which makes our list further down) between 2017 and 2019. Powering each and every example was a Mercedes-AMG V12 capable of 720 horsepower (537 kilowatts).',\n",
       " 'The McLaren Elva is one of the latest additions to the British supercar maker’s storied legacy. Even without a proper windshield (though, no option) or roof to rely on, the Elva produces 804 horsepower and 590 pound-feet of torque from its twin-turbocharged 4.0-liter V8. Originally McLaren announced just 399 units, but later the company dropped that to an even more scarce 249 examples. Either way, most of you will never get your hands on one – the Elva costs $1.7 million.',\n",
       " 'You might not know the name Czinger yet, but this California-based boutique automaker is responsible for the $1.7 million 21C supercar. With 1,250 horsepower on tap thanks to a 2.9-liter twin-turbocharged V8, the 21C can rocket to 60 miles per hour in 1.9 seconds and a top speed of around 281 miles per hour.',\n",
       " 'Much like the roof-less McLaren Elva, the Ferrari Monza SP1 and SP2 are all about al fresco motoring. As the name implies, the SP1 is the single-seater option while the SP2 has just enough room for you to bring along a friend. Both cars come powered by the same naturally aspirated 6.5-liter V12 engine capable of 809 horsepower and 530 pound-feet. Unfortunately for US buyers, neither of these models are street legal in the States. But f you have the funds to afford the car’s $1.75 million price tag, getting onto a track probably won’t be an issue anyway.',\n",
       " \"The second and slightly more affordable supercar in the new Gordon Murray lineup is the T.33. With 607 horsepower courtesy of a naturally aspirated 3.9-liter V12, the T.33 revs to a ridiculous 10,500 RPM. With a price tag of around $1.7 million at current conversion rates, Gordon Murray automotive promises to sell this car globally, in both right- and left-hand-drive configurations. Too bad it's already sold out.\",\n",
       " 'One of two Koenigsegg models on this list, the Gemera is actually the Swedish supercar maker’s first four-seater. But that doesn’t mean it’s some family car. With a twin-turbocharged 2.0-liter engine under the hood and three electric motors, the Gemera has 1,700 horsepower and will hit 60 in just 1.9 seconds. The company only plans to build 300 of them, each one costing at least $1.7 million.',\n",
       " 'Hailing from Denmark, the Zenvo TSR-S debuted in 2018 at the Geneva Motor Show as the most extreme option in the supercar startup’s repertoire. Boasting a twin-charged 5.8-liter V8 engine, the TSR-S produces 1,177 horsepower and will hit 62 miles per hour in just 2.8 seconds. Expect to pay at least $1.7 million to get your hands on this powerful and limited supercar.',\n",
       " 'The Hennessey Venom GT was a record-breaker, topping out at 265.7 miles per hour in a world record run. But the new F5 plans to beat its predecessor with an estimated top speed of 311 mph, and with that comes a higher price, too. The Venom F5 starts at $1.8 million, according to the company, which makes it just a bit pricier than its $1.2-million predecessor.',\n",
       " 'With just 12 total units produced, the Bentley Bacalar makes some of the \"limited\" cars on this list look plentiful by comparison. Although the car’s opulent design may be the first thing to grab your attention, the Bacalar is no slouch in terms of performance either. With Bentley’s signature turbocharged 6.0-liter W12 turbocharged engine, this car delivers 650 horsepower and 664 pound-feet. If you have a spare $1.9 million lying around and are considering buying one, you’re already too late – Bentley says that every example is now in customer hands.',\n",
       " \"To call the Hispano Suiza Carmen Boulogne beautiful would be... a stretch. But this interesting-looking supercar made its US debut at this year's Amelia Island Concours d'Elegance boasting a 1,114-horsepower electric powertrain and a 0-60 time of 2.6 seconds. The Boulogne version pictured here – the lighter and more powerful of the two – costs close to $1.9 million.\",\n",
       " \"The electric onslaught is coming. Bentley says it will be a fully electric automaker by 2030. But before the luxury brand transitions to battery power fully, the Mulliner Batur helps send the iconic W12 engine off in style. With 710 horsepower from that twin-turbocharged engine, the Batur is the most powerful Bentley ever. And since it's limited to just 18 examples globally, the Batur costs a whopping $2.0 million.\",\n",
       " 'The Deus Vayanne may not be a household name (yet), but the all-electric hypercar debuted earlier this year with 2,200 horsepower, a 0-60 time of just under 2.0 seconds, and an estimated top speed of 248 miles per hour. Deus plans to build 99 examples of the Vayanne, with the first few examples scheduled to go on sale in 2025.',\n",
       " 'Although initially cloaked in controversy, SSC did manage to hit 282.9 miles per hour with its Tuatara hypercar, breaking a world record. But not only is the Tuatara one of the fastest vehicles on the planet, it’s also one of the priciest. The cost for all that speed is estimated to be around $2.0 million for the base Tuatara, limited to just 100 units worldwide.',\n",
       " 'With a new Emira sports car and an Eletre electric SUV, Lotus is on the brink of a comeback. The automaker plans to roll out a number of new products within the next few years, with part of that strategy including the range-topping Evija. This supercar comes in at a cool $2.1 million and produces nearly 2,000 horsepower via four electric motors. Lotus plans to build just 130 road-going examples of the Evija.',\n",
       " 'As with a few other cars on this list, the Aston Martin Vulcan was a track-only special. The British supercar made its world debut in 2015, powered by a naturally aspirated 7.0-liter V12 that produced 820 horsepower, and limited to just 24 examples worldwide. An even more track-focused AMR Pro model followed, but even the base Vulcan was a pricey commodity, costing about $2.4-million from the factory.',\n",
       " 'You may have heard of Delage before. In the early 1900s, this French automaker was competing on the track with Bugatti and Ferrari. Now Delage is back and with a beautiful new hypercar dubbed the D12. Powered by a 7.6-liter V12 engine, the new D12 produces upwards of 1,010 horsepower and costs a cool $2.3 million.',\n",
       " \"What would you pay for the fastest production McLaren ever? Well, at least $2.3 million. With 1,035 horsepower courtesy of a gasoline-electric hybrid V8 powertrain, the Speedtail tops out at 250 miles per hour and is able to reach 186 mph in just 12.8 seconds – 2.7 seconds faster than the P1. Unfortunately, if you didn't get your hands on one new in 2020, you'll have to shell out serious cash on the used market. McLaren only built 106 examples.\",\n",
       " 'The Rimac Nevera takes the title of most expensive EV with its $2.4 million price tag – but only by a few hundred thousand dollars over the next priciest electric supercar. Packing 1,914 horsepower and 1,740 pound-feet of torque, the Nevera can hit 60 in under 2.0 seconds and will continue on to a top speed of 258 miles per hour. Those lucky enough to order one should see it in their driveway before the end of 2022.',\n",
       " 'First came the Zonda, then the Huayra, and now the Pagani Utopia. With 852 horsepower and an available seven-speed manual gearbox, the Utopia is the most powerful road-going Pagani ever produced and it’s limited to just 99 examples worldwide. The cost for one is a cool $2.5 million.',\n",
       " 'Aptly named after the company’s founder, Battista Farina, the Pininfarina Battista delivers the kind of performance (and price!) to make its namesake proud. Revealed at the 2019 Geneva Motor Show, the Battista is completely electric, putting out 1,827 horsepower. If a normal supercar’s 0 to 60 time sounds too leisurely for you, the company says that the Battista will take you there in under 2.0 seconds. Pininfarina plans on building 150 examples of the Battista, costing $2.5 million each.',\n",
       " \"Sure, you could buy a normal LaFerrari (which also makes the list further down), but why settle for a supercar so mundane when you can take home this track-only version instead? Granted, the Ferrari FXX K Evo came out in 2017, and it's well past the point of being sold out. But when it was new, this 1,036-horsepower Ferrari tore up the track with its naturally aspirated V12 and aggressive aerodynamics.\",\n",
       " \"If the name Gordon Murray sounds familiar, it’s because he's the man behind the design of the iconic McLaren F1. These days, Mr. Murray has his own supercar venture, and the handsome T.50 is the crown jewel of the lineup. At $2.6 million, the T.50 packs a naturally aspirated 4.0-liter V12 that makes 654 horsepower. The car itself weighs a mere 2,174 pounds, and at 392 pounds, the T.50 has the lightest V12 on the road today.\",\n",
       " \"The name Countach may be iconic, but is it worth $2.6 million? That's what Lamborghini hopes you will spend on its new Aventador-based model. Debuting in August of 2021, the Countach LPI 800-4 has a 6.5-liter V12 with a light hybrid assist that gives it a whopping 803 horsepower, allowing for a 60 time of 2.8 seconds and a top speed of more than 220 miles per hour.\",\n",
       " 'Mercedes has promised a production version of the Project One hypercar for quite a while now. The first official announcement was in March of 2017 before the first concept debuted later that same year. But after nearly five years of teasing, it appears as if the Project One will finally hit public roads. And when it does, the hybrid hypercar will have over 1,200 horsepower (895 kilowatts) and a price tag of $2.7 million.',\n",
       " 'The folks at Aston Martin know a thing or two about exclusive vehicles, and the Victor might be the most exclusive project for the British brand to date. Based on the One-77 platform, the Victor uses parts from several donor Astons including the track project Vulcan and the upcoming Valkyrie. And talking about limited production – the Victor is one-of-one and rumored to cost nearly $3 million.',\n",
       " 'The same Hennessey Venom F5 hypercar we all know and love, but with less roof. The F5 Roadster has the same twin-turbocharged 6.6-liter V8 as the coupe, producing the same 1,817 horsepower and 1,193 pound-feet of torque. Hennessey estimates a top speed of over 300 miles per hour, but if you want one, it will cost you at least $3.0 million.',\n",
       " \"The Koenigsegg Jesko, apart from being the fastest car the company has made to date, is also the most expensive. At $3.0 million out of the box, the handsome hypercar has 1,600-horsepower courtesy of the brand's ubiquitous twin-turbocharged 5.0-liter V8 engine. Opt for the Absolut model, and the Jesko, in theory, will be able to hit 300 miles per hour.\",\n",
       " 'The upcoming Aston Martin hybrid hypercar hasn’t even hit the market yet, but already the $3.2 million Valkyrie has sold out. For what it’s worth, Aston Martin hasn’t officially released pricing. Estimates suggest the hypercar could go for anywhere between $2.6 and $3.9 million – but $3.2 million seems to be the magic number. Whatever the case, this machine is impressive. Its Cosworth-sourced 6.5-liter V12 produces 1,160 horsepower (865 kilowatts) and 664 pound-feet (900 Newton-meters) of torque, meaning its top speed should be well over 200 miles per hour (321 kilometers per hour). The company will build just 150 examples of the standard Valkyrie, with a limited 25-run AMR model arriving later.',\n",
       " \"Dubai-based W Motors shocked the world with its edgy Lykan Hypersport supercar in 2013. With titanium LED headlights housing 420 15-carat diamonds and a holographic display in the center console, it's no surprise it was the third most expensive car ever when new. It falls to number six on our list here, but it's still a wild hypercar with a powerful heart; the twin-turbocharged 3.7-liter six-cylinder engine underhood produces 780 horsepower (581 kilowatts) and 708 (960 Newton-meters) of torque.\",\n",
       " 'One seat, 829 horsepower, and a top speed of over 200 miles per hour. The new McLaren Solus is about as close as you can get to a Formula 1 car from the factory, powered by a naturally aspirated 5.2-liter V10 engine with a 0-62 mile-per-hour time of just 2.5 seconds. Estimates suggest a McLaren Solus will set you back about $3.5 million.',\n",
       " 'Following Pagani’s past playbook, a roadster version of the ferocious Huayra BC was inevitable. Last year, the company made it official by showing off the Huayra Roadster BC, a topless monster with 800 horsepower (597 kilowatts) and 774 lb-ft of torque (1049 Newton-meters). Somewhat surprisingly, Pagani gave the roadster 50 more horsepower than its coupe sibling, by cranking up its AMG-sourced twin-turbocharged 6.0-liter V12. In addition to the joy of hearing the glorious engine note without a roof in the way, owners should take comfort in knowing that their car is ultra-rare. Pagani is limiting production to just 40 units, each with a sticker price of $3.5 million.',\n",
       " 'Another showstopper from the Geneva Motor Show that never was, the Bugatti Chiron Pur Sport is a special edition Chiron with a focus on aerodynamics, weight reduction, and power distribution. It’s the same 8.0-liter quad-turbo W16 engine underneath the skin but it’s now mated to a recalibrated automatic gearbox. While the peak output remains unchanged at 1,500 horsepower (1,103 kilowatts), the rpm redline has been set 200 rpm higher, up to 6,900 rpm. The Pur Sport also features slightly revised bodywork, with a bigger rear wing and more aerodynamic front fascia. Beginning production in late 2020, the Bugatti starts at $3.6 million.',\n",
       " 'In several ways, the Sian represents a bridge to Lamborghini’s future. Though it’s based on the Aventador SVJ, this wild-looking Lambo is the brand’s first production electrified offering. In addition to the SVJ-sourced 6.5-liter V12, the Sian uses a 48-volt mild-hybrid system. Total system output is 819 horsepower (611 kilowatts), which also makes it the most powerful Lamborghini ever. As confirmed by the 63 stuck on either side of the Sian’s wing, Lamborghini will produce just 63 units. And each will cost far more than the Aventador SVJ, carrying a price of $3.6 million.',\n",
       " 'The Koenigsegg CC850 was a surprise to be sure, but a welcomed one. Borrowing the twin-turbocharged 5.0-liter V8 from the Jesko, it notches that output up to 1,385 horsepower and 1,022 pound-feet of torque, with a so-called “TWMPAFMPC” transmission that shifts (pun intended) between manual and automatic functions. Of course, all that performance technology will cost you; the CC850 starts at $3.7 million.',\n",
       " 'Earlier this year, Bugatti captured the collective attention of the automotive world by announcing that it broke the 300 miles per hour barrier with a modified version of the Chiron. The Super Sport 300 + is a road-going version of that car, meant to celebrate the occasion. Limited to just 30 units, the Super Sport 300+ is a beautiful version of the Chiron, with flowing, slippery bodywork and a sweet stripe motif. Even with 300 in the name, Bugatti is limiting the top speed of each car to \"just\" 277 mph. Production starts this year.',\n",
       " \"Lamborghini built just 14 examples of the Aventador-based Veneno between 2014 and 2015. Each one cost around $4.5 million, depending on how it was spec'd, and was available in both convertible and coupe configurations. Underhood Lamborghini fitted a more-powerful iteration of the Aventador's 6.5-liter V12, now producing 740 horsepower (552 kilowatts) and 509 pound-feet (609 Newton-meters) of torque, which gave it the ability to sprint to 60 miles per hour (96 kilometers per hour) in a blistering 2.9 seconds. To date, it’s the most expensive new Lamborghini ever.\",\n",
       " \"Produced in extremely limited numbers atop the body of a Chiron, it's no wonder Bugatti's one-of-40 Bolide track car is this pricey. At $4.7 million, the 1,824-horsepower hypercar has more power than the Chiron Super Sport 300+, and more extreme bodywork that allow it to lap tracks like the Nurburgring in record time (in theory). Bugatti says the Bolide would be able to conquer the ‘Ring in record time.\",\n",
       " 'The Bugatti Mistral sends the iconic W16 engine off in style. With 1,577 horsepower and no roof, the Mistral takes the best bits of the Chiron and borrows elements from the Bolide and Divo to create a truly unique roadster. Of course, Bugatti plans to build just 99 examples of the Mistral at the cost of around $5.0 million in the US – and all of them are already accounted for.',\n",
       " 'Even though the new Utopia marks the next big step for Pagani, the Huayra Imola packs nearly as much power with a twin-turbocharged 6.0-liter V12 engine producing 827 horsepower and 811 pound-feet of torque. The Huayra Imola is estimated to cost around $5.4 million new, which would make it the second most expensive Pagani of all time.',\n",
       " 'Among Bugatti’s recently debuted vehicles, the Divo is a staff favorite. Though it shares much in common with its cheaper (!) sibling the Chiron, the Divo has a lot going for it to justify the extra money. By adding lighter wheels, a carbon fiber intercooler and removing some sound deadening, Bugatti made the Divo 77 pounds lighter than the Chiron. Though power is unchanged from the Chiron’s 1,500 ponies (1,119 kilowatts), The Divo features a different aerodynamic setup, which makes it 8 seconds quicker around the Nardo test track. Finally, the moment you’ve been waiting for: Bugatti is making 40 examples of the car, each costing $5.8 million.',\n",
       " \"SP Automotive (short for Spyros Panopoulos) is a new name in the world of hypercars, but the brand's 2,000-horsepower, $6.4-million, aptly named Chaos has already made an impact. With a twin-turbocharged 4.0-liter V10, the base SP Automotive Chaos is one of the most expensive cars on this list – beating out many Lambos and Bugattis – but there's an even pricier version of this car that costs an eye-watering $14.4 million. That version reportedly packs 3,000 hp.\",\n",
       " 'The long list of pricey (new) Paganis ends with the Codualunga. Inspired by 1960s Italian coachbuilding, the stunning exterior and steampunk-esque interior – while equally stunning – are only part of what makes this Pagani so pricey. Under the hood is a twin-turbocharged 6.0-liter V12 producing 829 horsepower and 809 pound-feet of torque, paired to a seven-speed sequential transmission for a real race-car–like feel. The cost for this one-of-five Pagani is $7.4 million.',\n",
       " \"Like many others before it, the Mercedes-Benz Maybach Exelero is a one-off. Commissioned by Fulda, a German subsidiary of Goodyear, to test its new tires, the Exlero debuted in 2004. Mercedes built the Exelero on the bones of a Maybach, and gave it the same twin-turbo V12 engine producing 690 horsepower (510 kilowatts) and 752 pound-feet (1,020 Newton-meters) of torque. Top speed is listed at 218 miles per hour (350 kilometers per hour) and adjusted for inflation, the Exelero would cost more than $10 million in today's money.\",\n",
       " 'Bugatti debuted the Centodieci at last year’s Pebble Beach car week, showing off yet another ultra-rare, super-expensive model to the world. Limited to just 10 – dieci – units, the car is a modern throwback to the Bugatti EB110. At the same time, it’s meant to celebrate Bugatti’s momentous 110-year anniversary. Its unique styling cues won’t make everyone fall in love, but at least you won’t have to worry about seeing another one on the road. Carrying a price just shy of $9 million, the Centodiece is one of the most exclusive cars ever made.',\n",
       " \"Rolls-Royce, expectedly, takes two of the top three spots on this list, with the stunning Sweptail one-off from 2017 coming in at number three. With a monumental price tag of $13.0 million, it was, at the time of its debut, the most expensive new car ever. It's been outpriced since then, but the 453-horsepower luxury car is still a jaw-dropper.\",\n",
       " \"With a price tag of $13.4 million, the one-off Bugatti La Voiture Noire is officially the most expensive new Bugatti ever made. And understandably so. A modern interpretation of Jean Bugatti's personal Type 57 SC Atlantic, the La Voiture Noire uses the same quad-turbocharged 8.0-liter W16 engine as the Chiron, producing 1,479 horsepower. It has six – that's right, six exhaust tips, radical new wheels, an aggressive, bespoke fascia, and a gigantic light-up badge in the rear that spells out the name of the brand. Of course, this one-of-one Bugatti already has a home.\",\n",
       " 'Rolls-Royce is back in the business of coachbuilding with the gorgeous new Boat Tail. A successor to the stunning Sweptail from 2017 – which itself cost a reported $12.8 million – the Boat Tail has a unique two-tone exterior, custom high-end finishes inside, and even a \"hosting suite\" complete with a champagne fridge and built-in sun umbrella. Although Rolls-Royce doesn’t officially announce pricing for one-off builds such as this, rumor has it that the Boat Tail cost a whopping $28.0 million new.']"
      ]
     },
     "execution_count": 72,
     "metadata": {},
     "output_type": "execute_result"
    }
   ],
   "source": [
    "des1 = des[2:52]\n",
    "des1"
   ]
  },
  {
   "cell_type": "code",
   "execution_count": 73,
   "id": "b2e8f943",
   "metadata": {},
   "outputs": [
    {
     "data": {
      "text/plain": [
       "50"
      ]
     },
     "execution_count": 73,
     "metadata": {},
     "output_type": "execute_result"
    }
   ],
   "source": [
    "len(des1)"
   ]
  },
  {
   "cell_type": "code",
   "execution_count": 62,
   "id": "ec5e7064",
   "metadata": {},
   "outputs": [
    {
     "data": {
      "text/plain": [
       "['The Drako GTE is a super sedan in every sense of the word. Packing 1,200 horsepower and a whopping 6,491 pound-feet of torque from a fully electric powertrain, the GTE can hit 60 in just about 2.0 seconds and tops out at 206 miles per hour. The cost for this family-friendly rocket is a cool $1.2 million.',\n",
       " \"But in order to find out which of these unattainable-to-most vehicles is the priciest, we've scoured the invoice sheets and uncovered 40 cars all worth $1 million or more. The group includes hybrid Ferrari convertibles, an American speed king, a few electric Hypercars, and two a one-of-a-kind Rolls-Royce cars built for royalty.\",\n",
       " 'Price: $1.2 Million',\n",
       " 'Price: $1.3 Million',\n",
       " 'Price: $1.4 Million',\n",
       " 'Price: $1.4 Million',\n",
       " 'Price: $1.7 Million',\n",
       " 'Price: $1.7 Million',\n",
       " 'Price: $1.7 Million',\n",
       " 'Price: $1.7 Million',\n",
       " 'Price: $1.7 Million',\n",
       " 'Price: $1.7 Million',\n",
       " 'Price: $1.8 Million',\n",
       " 'Price: $1.9 Million',\n",
       " 'Price: $1.9 Million',\n",
       " 'Price: $2.0 Million',\n",
       " 'Price: $2.0 Million',\n",
       " 'Price: $2.0 Million*',\n",
       " 'Price: $2.1 Million',\n",
       " 'Price: $2.3 Million',\n",
       " 'Price: $2.3 Million',\n",
       " 'Price: $2.3 Million',\n",
       " 'Price: $2.4 Million',\n",
       " 'Price: $2.5 Million',\n",
       " 'Price: $2.5 Million',\n",
       " 'Price: $2.6 Million',\n",
       " 'Price: $2.6 Million',\n",
       " 'Price: $2.6 Million',\n",
       " 'Price: $2.7 Million',\n",
       " 'Price: $3.0 Million',\n",
       " '$3.0 Million',\n",
       " 'Price: $3.0 Million',\n",
       " 'Price: $3.2 Million',\n",
       " 'Price: $3.4 Million',\n",
       " '$3.5 Million',\n",
       " 'Price: $3.5 Million',\n",
       " 'Price: $3.6 Million',\n",
       " 'Price: $3.6 million',\n",
       " 'Price: $3.7 Million',\n",
       " 'Price: $3.9 Million',\n",
       " 'Price: $4.5 Million',\n",
       " 'Price: $4.7 Million',\n",
       " 'Price: $5.0 Million',\n",
       " 'Price: $5.4 Million',\n",
       " 'Price: $5.8 Million',\n",
       " 'Price: $6.4 Million',\n",
       " 'Price: $7.4 Million',\n",
       " 'Price: $8.0 Million',\n",
       " 'Price: $9.0 Million',\n",
       " 'Price: $12.8 Million',\n",
       " 'Price: $13.4 Million',\n",
       " 'Price: $28.0 Million (est.)']"
      ]
     },
     "execution_count": 62,
     "metadata": {},
     "output_type": "execute_result"
    }
   ],
   "source": [
    "d = description[4:108:2]\n",
    "d"
   ]
  },
  {
   "cell_type": "code",
   "execution_count": 63,
   "id": "7988d685",
   "metadata": {},
   "outputs": [
    {
     "data": {
      "text/plain": [
       "52"
      ]
     },
     "execution_count": 63,
     "metadata": {},
     "output_type": "execute_result"
    }
   ],
   "source": [
    "len(d)"
   ]
  },
  {
   "cell_type": "code",
   "execution_count": 65,
   "id": "94f4259d",
   "metadata": {},
   "outputs": [
    {
     "data": {
      "text/plain": [
       "['Price: $1.2 Million',\n",
       " 'Price: $1.3 Million',\n",
       " 'Price: $1.4 Million',\n",
       " 'Price: $1.4 Million',\n",
       " 'Price: $1.7 Million',\n",
       " 'Price: $1.7 Million',\n",
       " 'Price: $1.7 Million',\n",
       " 'Price: $1.7 Million',\n",
       " 'Price: $1.7 Million',\n",
       " 'Price: $1.7 Million',\n",
       " 'Price: $1.8 Million',\n",
       " 'Price: $1.9 Million',\n",
       " 'Price: $1.9 Million',\n",
       " 'Price: $2.0 Million',\n",
       " 'Price: $2.0 Million',\n",
       " 'Price: $2.0 Million*',\n",
       " 'Price: $2.1 Million',\n",
       " 'Price: $2.3 Million',\n",
       " 'Price: $2.3 Million',\n",
       " 'Price: $2.3 Million',\n",
       " 'Price: $2.4 Million',\n",
       " 'Price: $2.5 Million',\n",
       " 'Price: $2.5 Million',\n",
       " 'Price: $2.6 Million',\n",
       " 'Price: $2.6 Million',\n",
       " 'Price: $2.6 Million',\n",
       " 'Price: $2.7 Million',\n",
       " 'Price: $3.0 Million',\n",
       " '$3.0 Million',\n",
       " 'Price: $3.0 Million',\n",
       " 'Price: $3.2 Million',\n",
       " 'Price: $3.4 Million',\n",
       " '$3.5 Million',\n",
       " 'Price: $3.5 Million',\n",
       " 'Price: $3.6 Million',\n",
       " 'Price: $3.6 million',\n",
       " 'Price: $3.7 Million',\n",
       " 'Price: $3.9 Million',\n",
       " 'Price: $4.5 Million',\n",
       " 'Price: $4.7 Million',\n",
       " 'Price: $5.0 Million',\n",
       " 'Price: $5.4 Million',\n",
       " 'Price: $5.8 Million',\n",
       " 'Price: $6.4 Million',\n",
       " 'Price: $7.4 Million',\n",
       " 'Price: $8.0 Million',\n",
       " 'Price: $9.0 Million',\n",
       " 'Price: $12.8 Million',\n",
       " 'Price: $13.4 Million',\n",
       " 'Price: $28.0 Million (est.)']"
      ]
     },
     "execution_count": 65,
     "metadata": {},
     "output_type": "execute_result"
    }
   ],
   "source": [
    "d2 = d[2:52]\n",
    "d2"
   ]
  },
  {
   "cell_type": "code",
   "execution_count": 74,
   "id": "a1dd2b91",
   "metadata": {},
   "outputs": [
    {
     "data": {
      "text/plain": [
       "50"
      ]
     },
     "execution_count": 74,
     "metadata": {},
     "output_type": "execute_result"
    }
   ],
   "source": [
    "len(d2)"
   ]
  },
  {
   "cell_type": "code",
   "execution_count": 75,
   "id": "89088884",
   "metadata": {},
   "outputs": [
    {
     "data": {
      "text/html": [
       "<div>\n",
       "<style scoped>\n",
       "    .dataframe tbody tr th:only-of-type {\n",
       "        vertical-align: middle;\n",
       "    }\n",
       "\n",
       "    .dataframe tbody tr th {\n",
       "        vertical-align: top;\n",
       "    }\n",
       "\n",
       "    .dataframe thead th {\n",
       "        text-align: right;\n",
       "    }\n",
       "</style>\n",
       "<table border=\"1\" class=\"dataframe\">\n",
       "  <thead>\n",
       "    <tr style=\"text-align: right;\">\n",
       "      <th></th>\n",
       "      <th>Car Name</th>\n",
       "      <th>Description</th>\n",
       "      <th>Price</th>\n",
       "    </tr>\n",
       "  </thead>\n",
       "  <tbody>\n",
       "    <tr>\n",
       "      <th>0</th>\n",
       "      <td>Drako GTE</td>\n",
       "      <td>The Drako GTE is a super sedan in every sense ...</td>\n",
       "      <td>Price: $1.2 Million</td>\n",
       "    </tr>\n",
       "    <tr>\n",
       "      <th>1</th>\n",
       "      <td>De Tomaso P72</td>\n",
       "      <td>The De Tomaso P72 is basically the definition ...</td>\n",
       "      <td>Price: $1.3 Million</td>\n",
       "    </tr>\n",
       "    <tr>\n",
       "      <th>2</th>\n",
       "      <td>Ferrari LaFerrari</td>\n",
       "      <td>At $1.4 million new, the Ferrari LaFerrari is ...</td>\n",
       "      <td>Price: $1.4 Million</td>\n",
       "    </tr>\n",
       "    <tr>\n",
       "      <th>3</th>\n",
       "      <td>Pagani Huayra</td>\n",
       "      <td>Inarguably one of the prettiest cars on this l...</td>\n",
       "      <td>Price: $1.4 Million</td>\n",
       "    </tr>\n",
       "    <tr>\n",
       "      <th>4</th>\n",
       "      <td>McLaren Elva</td>\n",
       "      <td>The McLaren Elva is one of the latest addition...</td>\n",
       "      <td>Price: $1.7 Million</td>\n",
       "    </tr>\n",
       "    <tr>\n",
       "      <th>5</th>\n",
       "      <td>Czinger 21C</td>\n",
       "      <td>You might not know the name Czinger yet, but t...</td>\n",
       "      <td>Price: $1.7 Million</td>\n",
       "    </tr>\n",
       "    <tr>\n",
       "      <th>6</th>\n",
       "      <td>Ferrari Monza</td>\n",
       "      <td>Much like the roof-less McLaren Elva, the Ferr...</td>\n",
       "      <td>Price: $1.7 Million</td>\n",
       "    </tr>\n",
       "    <tr>\n",
       "      <th>7</th>\n",
       "      <td>Gordon Murray T.33</td>\n",
       "      <td>The second and slightly more affordable superc...</td>\n",
       "      <td>Price: $1.7 Million</td>\n",
       "    </tr>\n",
       "    <tr>\n",
       "      <th>8</th>\n",
       "      <td>Koenigsegg Gemera</td>\n",
       "      <td>One of two Koenigsegg models on this list, the...</td>\n",
       "      <td>Price: $1.7 Million</td>\n",
       "    </tr>\n",
       "    <tr>\n",
       "      <th>9</th>\n",
       "      <td>Zenvo TSR-S</td>\n",
       "      <td>Hailing from Denmark, the Zenvo TSR-S debuted ...</td>\n",
       "      <td>Price: $1.7 Million</td>\n",
       "    </tr>\n",
       "    <tr>\n",
       "      <th>10</th>\n",
       "      <td>Hennessey Venom F5</td>\n",
       "      <td>The Hennessey Venom GT was a record-breaker, t...</td>\n",
       "      <td>Price: $1.8 Million</td>\n",
       "    </tr>\n",
       "    <tr>\n",
       "      <th>11</th>\n",
       "      <td>Bentley Bacalar</td>\n",
       "      <td>With just 12 total units produced, the Bentley...</td>\n",
       "      <td>Price: $1.9 Million</td>\n",
       "    </tr>\n",
       "    <tr>\n",
       "      <th>12</th>\n",
       "      <td>Hispano Suiza Carmen Boulogne</td>\n",
       "      <td>To call the Hispano Suiza Carmen Boulogne beau...</td>\n",
       "      <td>Price: $1.9 Million</td>\n",
       "    </tr>\n",
       "    <tr>\n",
       "      <th>13</th>\n",
       "      <td>Bentley Mulliner Batur</td>\n",
       "      <td>The electric onslaught is coming. Bentley says...</td>\n",
       "      <td>Price: $2.0 Million</td>\n",
       "    </tr>\n",
       "    <tr>\n",
       "      <th>14</th>\n",
       "      <td>Deus Vayanne</td>\n",
       "      <td>The Deus Vayanne may not be a household name (...</td>\n",
       "      <td>Price: $2.0 Million</td>\n",
       "    </tr>\n",
       "    <tr>\n",
       "      <th>15</th>\n",
       "      <td>SSC Tuatara</td>\n",
       "      <td>Although initially cloaked in controversy, SSC...</td>\n",
       "      <td>Price: $2.0 Million*</td>\n",
       "    </tr>\n",
       "    <tr>\n",
       "      <th>16</th>\n",
       "      <td>Lotus Evija</td>\n",
       "      <td>With a new Emira sports car and an Eletre elec...</td>\n",
       "      <td>Price: $2.1 Million</td>\n",
       "    </tr>\n",
       "    <tr>\n",
       "      <th>17</th>\n",
       "      <td>Aston Martin Vulcan</td>\n",
       "      <td>As with a few other cars on this list, the Ast...</td>\n",
       "      <td>Price: $2.3 Million</td>\n",
       "    </tr>\n",
       "    <tr>\n",
       "      <th>18</th>\n",
       "      <td>Delage D12</td>\n",
       "      <td>You may have heard of Delage before. In the ea...</td>\n",
       "      <td>Price: $2.3 Million</td>\n",
       "    </tr>\n",
       "    <tr>\n",
       "      <th>19</th>\n",
       "      <td>McLaren Speedtail</td>\n",
       "      <td>What would you pay for the fastest production ...</td>\n",
       "      <td>Price: $2.3 Million</td>\n",
       "    </tr>\n",
       "    <tr>\n",
       "      <th>20</th>\n",
       "      <td>Rimac Nevera</td>\n",
       "      <td>The Rimac Nevera takes the title of most expen...</td>\n",
       "      <td>Price: $2.4 Million</td>\n",
       "    </tr>\n",
       "    <tr>\n",
       "      <th>21</th>\n",
       "      <td>Pagani Utopia</td>\n",
       "      <td>First came the Zonda, then the Huayra, and now...</td>\n",
       "      <td>Price: $2.5 Million</td>\n",
       "    </tr>\n",
       "    <tr>\n",
       "      <th>22</th>\n",
       "      <td>Pininfarina Battista</td>\n",
       "      <td>Aptly named after the company’s founder, Batti...</td>\n",
       "      <td>Price: $2.5 Million</td>\n",
       "    </tr>\n",
       "    <tr>\n",
       "      <th>23</th>\n",
       "      <td>Ferrari FXX K Evo</td>\n",
       "      <td>Sure, you could buy a normal LaFerrari (which ...</td>\n",
       "      <td>Price: $2.6 Million</td>\n",
       "    </tr>\n",
       "    <tr>\n",
       "      <th>24</th>\n",
       "      <td>Gordon Murray T.50</td>\n",
       "      <td>If the name Gordon Murray sounds familiar, it’...</td>\n",
       "      <td>Price: $2.6 Million</td>\n",
       "    </tr>\n",
       "    <tr>\n",
       "      <th>25</th>\n",
       "      <td>Lamborghini Countach</td>\n",
       "      <td>The name Countach may be iconic, but is it wor...</td>\n",
       "      <td>Price: $2.6 Million</td>\n",
       "    </tr>\n",
       "    <tr>\n",
       "      <th>26</th>\n",
       "      <td>Mercedes-AMG Project One</td>\n",
       "      <td>Mercedes has promised a production version of ...</td>\n",
       "      <td>Price: $2.7 Million</td>\n",
       "    </tr>\n",
       "    <tr>\n",
       "      <th>27</th>\n",
       "      <td>Aston Martin Victor</td>\n",
       "      <td>The folks at Aston Martin know a thing or two ...</td>\n",
       "      <td>Price: $3.0 Million</td>\n",
       "    </tr>\n",
       "    <tr>\n",
       "      <th>28</th>\n",
       "      <td>Hennessey Venom F5 Roadster</td>\n",
       "      <td>The same Hennessey Venom F5 hypercar we all kn...</td>\n",
       "      <td>$3.0 Million</td>\n",
       "    </tr>\n",
       "    <tr>\n",
       "      <th>29</th>\n",
       "      <td>Koenigsegg Jesko</td>\n",
       "      <td>The Koenigsegg Jesko, apart from being the fas...</td>\n",
       "      <td>Price: $3.0 Million</td>\n",
       "    </tr>\n",
       "    <tr>\n",
       "      <th>30</th>\n",
       "      <td>Aston Martin Valkyrie</td>\n",
       "      <td>The upcoming Aston Martin hybrid hypercar hasn...</td>\n",
       "      <td>Price: $3.2 Million</td>\n",
       "    </tr>\n",
       "    <tr>\n",
       "      <th>31</th>\n",
       "      <td>W Motors Lykan Hypersport</td>\n",
       "      <td>Dubai-based W Motors shocked the world with it...</td>\n",
       "      <td>Price: $3.4 Million</td>\n",
       "    </tr>\n",
       "    <tr>\n",
       "      <th>32</th>\n",
       "      <td>McLaren Solus</td>\n",
       "      <td>One seat, 829 horsepower, and a top speed of o...</td>\n",
       "      <td>$3.5 Million</td>\n",
       "    </tr>\n",
       "    <tr>\n",
       "      <th>33</th>\n",
       "      <td>Pagani Huayra Roadster BC</td>\n",
       "      <td>Following Pagani’s past playbook, a roadster v...</td>\n",
       "      <td>Price: $3.5 Million</td>\n",
       "    </tr>\n",
       "    <tr>\n",
       "      <th>34</th>\n",
       "      <td>Bugatti Chiron Pur Sport</td>\n",
       "      <td>Another showstopper from the Geneva Motor Show...</td>\n",
       "      <td>Price: $3.6 Million</td>\n",
       "    </tr>\n",
       "    <tr>\n",
       "      <th>35</th>\n",
       "      <td>Lamborghini Sian</td>\n",
       "      <td>In several ways, the Sian represents a bridge ...</td>\n",
       "      <td>Price: $3.6 million</td>\n",
       "    </tr>\n",
       "    <tr>\n",
       "      <th>36</th>\n",
       "      <td>Koenigsegg CC850</td>\n",
       "      <td>The Koenigsegg CC850 was a surprise to be sure...</td>\n",
       "      <td>Price: $3.7 Million</td>\n",
       "    </tr>\n",
       "    <tr>\n",
       "      <th>37</th>\n",
       "      <td>Bugatti Chiron Super Sport 300+</td>\n",
       "      <td>Earlier this year, Bugatti captured the collec...</td>\n",
       "      <td>Price: $3.9 Million</td>\n",
       "    </tr>\n",
       "    <tr>\n",
       "      <th>38</th>\n",
       "      <td>Lamborghini Veneno</td>\n",
       "      <td>Lamborghini built just 14 examples of the Aven...</td>\n",
       "      <td>Price: $4.5 Million</td>\n",
       "    </tr>\n",
       "    <tr>\n",
       "      <th>39</th>\n",
       "      <td>Bugatti Bolide</td>\n",
       "      <td>Produced in extremely limited numbers atop the...</td>\n",
       "      <td>Price: $4.7 Million</td>\n",
       "    </tr>\n",
       "    <tr>\n",
       "      <th>40</th>\n",
       "      <td>Bugatti Mistral</td>\n",
       "      <td>The Bugatti Mistral sends the iconic W16 engin...</td>\n",
       "      <td>Price: $5.0 Million</td>\n",
       "    </tr>\n",
       "    <tr>\n",
       "      <th>41</th>\n",
       "      <td>Pagani Huayra Imola</td>\n",
       "      <td>Even though the new Utopia marks the next big ...</td>\n",
       "      <td>Price: $5.4 Million</td>\n",
       "    </tr>\n",
       "    <tr>\n",
       "      <th>42</th>\n",
       "      <td>Bugatti Divo</td>\n",
       "      <td>Among Bugatti’s recently debuted vehicles, the...</td>\n",
       "      <td>Price: $5.8 Million</td>\n",
       "    </tr>\n",
       "    <tr>\n",
       "      <th>43</th>\n",
       "      <td>SP Automotive Chaos</td>\n",
       "      <td>SP Automotive (short for Spyros Panopoulos) is...</td>\n",
       "      <td>Price: $6.4 Million</td>\n",
       "    </tr>\n",
       "    <tr>\n",
       "      <th>44</th>\n",
       "      <td>Pagani Codalunga</td>\n",
       "      <td>The long list of pricey (new) Paganis ends wit...</td>\n",
       "      <td>Price: $7.4 Million</td>\n",
       "    </tr>\n",
       "    <tr>\n",
       "      <th>45</th>\n",
       "      <td>Mercedes-Maybach Exelero</td>\n",
       "      <td>Like many others before it, the Mercedes-Benz ...</td>\n",
       "      <td>Price: $8.0 Million</td>\n",
       "    </tr>\n",
       "    <tr>\n",
       "      <th>46</th>\n",
       "      <td>Bugatti Centodieci</td>\n",
       "      <td>Bugatti debuted the Centodieci at last year’s ...</td>\n",
       "      <td>Price: $9.0 Million</td>\n",
       "    </tr>\n",
       "    <tr>\n",
       "      <th>47</th>\n",
       "      <td>Rolls-Royce Sweptail</td>\n",
       "      <td>Rolls-Royce, expectedly, takes two of the top ...</td>\n",
       "      <td>Price: $12.8 Million</td>\n",
       "    </tr>\n",
       "    <tr>\n",
       "      <th>48</th>\n",
       "      <td>Bugatti La Voiture Noire</td>\n",
       "      <td>With a price tag of $13.4 million, the one-off...</td>\n",
       "      <td>Price: $13.4 Million</td>\n",
       "    </tr>\n",
       "    <tr>\n",
       "      <th>49</th>\n",
       "      <td>Rolls-Royce Boat Tail*</td>\n",
       "      <td>Rolls-Royce is back in the business of coachbu...</td>\n",
       "      <td>Price: $28.0 Million (est.)</td>\n",
       "    </tr>\n",
       "  </tbody>\n",
       "</table>\n",
       "</div>"
      ],
      "text/plain": [
       "                           Car Name  \\\n",
       "0                         Drako GTE   \n",
       "1                     De Tomaso P72   \n",
       "2                 Ferrari LaFerrari   \n",
       "3                     Pagani Huayra   \n",
       "4                      McLaren Elva   \n",
       "5                       Czinger 21C   \n",
       "6                     Ferrari Monza   \n",
       "7                Gordon Murray T.33   \n",
       "8                 Koenigsegg Gemera   \n",
       "9                       Zenvo TSR-S   \n",
       "10               Hennessey Venom F5   \n",
       "11                  Bentley Bacalar   \n",
       "12    Hispano Suiza Carmen Boulogne   \n",
       "13           Bentley Mulliner Batur   \n",
       "14                     Deus Vayanne   \n",
       "15                      SSC Tuatara   \n",
       "16                      Lotus Evija   \n",
       "17              Aston Martin Vulcan   \n",
       "18                       Delage D12   \n",
       "19                McLaren Speedtail   \n",
       "20                     Rimac Nevera   \n",
       "21                    Pagani Utopia   \n",
       "22             Pininfarina Battista   \n",
       "23                Ferrari FXX K Evo   \n",
       "24               Gordon Murray T.50   \n",
       "25             Lamborghini Countach   \n",
       "26         Mercedes-AMG Project One   \n",
       "27              Aston Martin Victor   \n",
       "28      Hennessey Venom F5 Roadster   \n",
       "29                 Koenigsegg Jesko   \n",
       "30            Aston Martin Valkyrie   \n",
       "31        W Motors Lykan Hypersport   \n",
       "32                    McLaren Solus   \n",
       "33        Pagani Huayra Roadster BC   \n",
       "34         Bugatti Chiron Pur Sport   \n",
       "35                 Lamborghini Sian   \n",
       "36                 Koenigsegg CC850   \n",
       "37  Bugatti Chiron Super Sport 300+   \n",
       "38               Lamborghini Veneno   \n",
       "39                   Bugatti Bolide   \n",
       "40                  Bugatti Mistral   \n",
       "41              Pagani Huayra Imola   \n",
       "42                     Bugatti Divo   \n",
       "43              SP Automotive Chaos   \n",
       "44                 Pagani Codalunga   \n",
       "45         Mercedes-Maybach Exelero   \n",
       "46               Bugatti Centodieci   \n",
       "47             Rolls-Royce Sweptail   \n",
       "48         Bugatti La Voiture Noire   \n",
       "49           Rolls-Royce Boat Tail*   \n",
       "\n",
       "                                          Description  \\\n",
       "0   The Drako GTE is a super sedan in every sense ...   \n",
       "1   The De Tomaso P72 is basically the definition ...   \n",
       "2   At $1.4 million new, the Ferrari LaFerrari is ...   \n",
       "3   Inarguably one of the prettiest cars on this l...   \n",
       "4   The McLaren Elva is one of the latest addition...   \n",
       "5   You might not know the name Czinger yet, but t...   \n",
       "6   Much like the roof-less McLaren Elva, the Ferr...   \n",
       "7   The second and slightly more affordable superc...   \n",
       "8   One of two Koenigsegg models on this list, the...   \n",
       "9   Hailing from Denmark, the Zenvo TSR-S debuted ...   \n",
       "10  The Hennessey Venom GT was a record-breaker, t...   \n",
       "11  With just 12 total units produced, the Bentley...   \n",
       "12  To call the Hispano Suiza Carmen Boulogne beau...   \n",
       "13  The electric onslaught is coming. Bentley says...   \n",
       "14  The Deus Vayanne may not be a household name (...   \n",
       "15  Although initially cloaked in controversy, SSC...   \n",
       "16  With a new Emira sports car and an Eletre elec...   \n",
       "17  As with a few other cars on this list, the Ast...   \n",
       "18  You may have heard of Delage before. In the ea...   \n",
       "19  What would you pay for the fastest production ...   \n",
       "20  The Rimac Nevera takes the title of most expen...   \n",
       "21  First came the Zonda, then the Huayra, and now...   \n",
       "22  Aptly named after the company’s founder, Batti...   \n",
       "23  Sure, you could buy a normal LaFerrari (which ...   \n",
       "24  If the name Gordon Murray sounds familiar, it’...   \n",
       "25  The name Countach may be iconic, but is it wor...   \n",
       "26  Mercedes has promised a production version of ...   \n",
       "27  The folks at Aston Martin know a thing or two ...   \n",
       "28  The same Hennessey Venom F5 hypercar we all kn...   \n",
       "29  The Koenigsegg Jesko, apart from being the fas...   \n",
       "30  The upcoming Aston Martin hybrid hypercar hasn...   \n",
       "31  Dubai-based W Motors shocked the world with it...   \n",
       "32  One seat, 829 horsepower, and a top speed of o...   \n",
       "33  Following Pagani’s past playbook, a roadster v...   \n",
       "34  Another showstopper from the Geneva Motor Show...   \n",
       "35  In several ways, the Sian represents a bridge ...   \n",
       "36  The Koenigsegg CC850 was a surprise to be sure...   \n",
       "37  Earlier this year, Bugatti captured the collec...   \n",
       "38  Lamborghini built just 14 examples of the Aven...   \n",
       "39  Produced in extremely limited numbers atop the...   \n",
       "40  The Bugatti Mistral sends the iconic W16 engin...   \n",
       "41  Even though the new Utopia marks the next big ...   \n",
       "42  Among Bugatti’s recently debuted vehicles, the...   \n",
       "43  SP Automotive (short for Spyros Panopoulos) is...   \n",
       "44  The long list of pricey (new) Paganis ends wit...   \n",
       "45  Like many others before it, the Mercedes-Benz ...   \n",
       "46  Bugatti debuted the Centodieci at last year’s ...   \n",
       "47  Rolls-Royce, expectedly, takes two of the top ...   \n",
       "48  With a price tag of $13.4 million, the one-off...   \n",
       "49  Rolls-Royce is back in the business of coachbu...   \n",
       "\n",
       "                          Price  \n",
       "0           Price: $1.2 Million  \n",
       "1           Price: $1.3 Million  \n",
       "2           Price: $1.4 Million  \n",
       "3           Price: $1.4 Million  \n",
       "4           Price: $1.7 Million  \n",
       "5           Price: $1.7 Million  \n",
       "6           Price: $1.7 Million  \n",
       "7           Price: $1.7 Million  \n",
       "8           Price: $1.7 Million  \n",
       "9           Price: $1.7 Million  \n",
       "10          Price: $1.8 Million  \n",
       "11          Price: $1.9 Million  \n",
       "12          Price: $1.9 Million  \n",
       "13          Price: $2.0 Million  \n",
       "14          Price: $2.0 Million  \n",
       "15         Price: $2.0 Million*  \n",
       "16          Price: $2.1 Million  \n",
       "17          Price: $2.3 Million  \n",
       "18          Price: $2.3 Million  \n",
       "19          Price: $2.3 Million  \n",
       "20          Price: $2.4 Million  \n",
       "21          Price: $2.5 Million  \n",
       "22          Price: $2.5 Million  \n",
       "23          Price: $2.6 Million  \n",
       "24          Price: $2.6 Million  \n",
       "25          Price: $2.6 Million  \n",
       "26          Price: $2.7 Million  \n",
       "27          Price: $3.0 Million  \n",
       "28                 $3.0 Million  \n",
       "29          Price: $3.0 Million  \n",
       "30          Price: $3.2 Million  \n",
       "31          Price: $3.4 Million  \n",
       "32                 $3.5 Million  \n",
       "33          Price: $3.5 Million  \n",
       "34          Price: $3.6 Million  \n",
       "35          Price: $3.6 million  \n",
       "36          Price: $3.7 Million  \n",
       "37          Price: $3.9 Million  \n",
       "38          Price: $4.5 Million  \n",
       "39          Price: $4.7 Million  \n",
       "40          Price: $5.0 Million  \n",
       "41          Price: $5.4 Million  \n",
       "42          Price: $5.8 Million  \n",
       "43          Price: $6.4 Million  \n",
       "44          Price: $7.4 Million  \n",
       "45          Price: $8.0 Million  \n",
       "46          Price: $9.0 Million  \n",
       "47         Price: $12.8 Million  \n",
       "48         Price: $13.4 Million  \n",
       "49  Price: $28.0 Million (est.)  "
      ]
     },
     "execution_count": 75,
     "metadata": {},
     "output_type": "execute_result"
    }
   ],
   "source": [
    "#creating DataFrame\n",
    "\n",
    "df = pd.DataFrame({\"Car Name\":car1,\"Description\":des1,\"Price\":d2})\n",
    "df"
   ]
  },
  {
   "cell_type": "code",
   "execution_count": null,
   "id": "9a8215e6",
   "metadata": {},
   "outputs": [],
   "source": []
  },
  {
   "cell_type": "code",
   "execution_count": null,
   "id": "8d6af0c2",
   "metadata": {},
   "outputs": [],
   "source": []
  },
  {
   "cell_type": "code",
   "execution_count": null,
   "id": "85ec0b81",
   "metadata": {},
   "outputs": [],
   "source": []
  },
  {
   "cell_type": "code",
   "execution_count": null,
   "id": "580e4a0e",
   "metadata": {},
   "outputs": [],
   "source": []
  },
  {
   "cell_type": "code",
   "execution_count": null,
   "id": "8217f6a3",
   "metadata": {},
   "outputs": [],
   "source": []
  },
  {
   "cell_type": "code",
   "execution_count": null,
   "id": "edb20303",
   "metadata": {},
   "outputs": [],
   "source": []
  },
  {
   "cell_type": "code",
   "execution_count": null,
   "id": "3b85c7a8",
   "metadata": {},
   "outputs": [],
   "source": []
  },
  {
   "cell_type": "code",
   "execution_count": null,
   "id": "91eccb8f",
   "metadata": {},
   "outputs": [],
   "source": []
  },
  {
   "cell_type": "code",
   "execution_count": null,
   "id": "11126293",
   "metadata": {},
   "outputs": [],
   "source": []
  },
  {
   "cell_type": "code",
   "execution_count": null,
   "id": "b11edcc7",
   "metadata": {},
   "outputs": [],
   "source": []
  },
  {
   "cell_type": "code",
   "execution_count": null,
   "id": "f70ece65",
   "metadata": {},
   "outputs": [],
   "source": []
  },
  {
   "cell_type": "code",
   "execution_count": null,
   "id": "45af766a",
   "metadata": {},
   "outputs": [],
   "source": []
  },
  {
   "cell_type": "code",
   "execution_count": null,
   "id": "c15ef07f",
   "metadata": {},
   "outputs": [],
   "source": []
  },
  {
   "cell_type": "code",
   "execution_count": null,
   "id": "fbe903c3",
   "metadata": {},
   "outputs": [],
   "source": []
  },
  {
   "cell_type": "code",
   "execution_count": null,
   "id": "6dfd7e05",
   "metadata": {},
   "outputs": [],
   "source": []
  },
  {
   "cell_type": "code",
   "execution_count": null,
   "id": "3c48399e",
   "metadata": {},
   "outputs": [],
   "source": []
  },
  {
   "cell_type": "code",
   "execution_count": null,
   "id": "717704fe",
   "metadata": {},
   "outputs": [],
   "source": []
  },
  {
   "cell_type": "code",
   "execution_count": null,
   "id": "9c1c09fa",
   "metadata": {},
   "outputs": [],
   "source": []
  },
  {
   "cell_type": "code",
   "execution_count": null,
   "id": "329478c4",
   "metadata": {},
   "outputs": [],
   "source": []
  },
  {
   "cell_type": "code",
   "execution_count": null,
   "id": "cae98404",
   "metadata": {},
   "outputs": [],
   "source": []
  },
  {
   "cell_type": "code",
   "execution_count": null,
   "id": "c4afc0d4",
   "metadata": {},
   "outputs": [],
   "source": []
  },
  {
   "cell_type": "code",
   "execution_count": null,
   "id": "29650171",
   "metadata": {},
   "outputs": [],
   "source": []
  },
  {
   "cell_type": "code",
   "execution_count": null,
   "id": "c3c3d19b",
   "metadata": {},
   "outputs": [],
   "source": []
  },
  {
   "cell_type": "code",
   "execution_count": null,
   "id": "64a98053",
   "metadata": {},
   "outputs": [],
   "source": []
  },
  {
   "cell_type": "code",
   "execution_count": null,
   "id": "873503b1",
   "metadata": {},
   "outputs": [],
   "source": []
  },
  {
   "cell_type": "code",
   "execution_count": null,
   "id": "99c88db6",
   "metadata": {},
   "outputs": [],
   "source": []
  },
  {
   "cell_type": "code",
   "execution_count": null,
   "id": "1dd733e1",
   "metadata": {},
   "outputs": [],
   "source": []
  },
  {
   "cell_type": "code",
   "execution_count": null,
   "id": "baa6d95a",
   "metadata": {},
   "outputs": [],
   "source": []
  },
  {
   "cell_type": "code",
   "execution_count": null,
   "id": "fff61bd7",
   "metadata": {},
   "outputs": [],
   "source": []
  },
  {
   "cell_type": "code",
   "execution_count": null,
   "id": "6bce460c",
   "metadata": {},
   "outputs": [],
   "source": []
  },
  {
   "cell_type": "code",
   "execution_count": null,
   "id": "5420113a",
   "metadata": {},
   "outputs": [],
   "source": []
  },
  {
   "cell_type": "code",
   "execution_count": null,
   "id": "5c9454d9",
   "metadata": {},
   "outputs": [],
   "source": []
  },
  {
   "cell_type": "code",
   "execution_count": null,
   "id": "1bcce146",
   "metadata": {},
   "outputs": [],
   "source": []
  },
  {
   "cell_type": "code",
   "execution_count": null,
   "id": "89cf288f",
   "metadata": {},
   "outputs": [],
   "source": []
  },
  {
   "cell_type": "code",
   "execution_count": null,
   "id": "6ca96b32",
   "metadata": {},
   "outputs": [],
   "source": []
  },
  {
   "cell_type": "code",
   "execution_count": null,
   "id": "1fa8b819",
   "metadata": {},
   "outputs": [],
   "source": []
  },
  {
   "cell_type": "code",
   "execution_count": null,
   "id": "201902ab",
   "metadata": {},
   "outputs": [],
   "source": []
  },
  {
   "cell_type": "code",
   "execution_count": null,
   "id": "75d9c700",
   "metadata": {},
   "outputs": [],
   "source": []
  },
  {
   "cell_type": "code",
   "execution_count": null,
   "id": "17a175f6",
   "metadata": {},
   "outputs": [],
   "source": []
  },
  {
   "cell_type": "code",
   "execution_count": null,
   "id": "582edccc",
   "metadata": {},
   "outputs": [],
   "source": []
  },
  {
   "cell_type": "code",
   "execution_count": null,
   "id": "ce08be3c",
   "metadata": {},
   "outputs": [],
   "source": []
  },
  {
   "cell_type": "code",
   "execution_count": null,
   "id": "ea75c87a",
   "metadata": {},
   "outputs": [],
   "source": []
  },
  {
   "cell_type": "code",
   "execution_count": null,
   "id": "6811def1",
   "metadata": {},
   "outputs": [],
   "source": []
  },
  {
   "cell_type": "raw",
   "id": "aa618ec3",
   "metadata": {},
   "source": []
  },
  {
   "cell_type": "code",
   "execution_count": null,
   "id": "5717ba13",
   "metadata": {},
   "outputs": [],
   "source": []
  },
  {
   "cell_type": "code",
   "execution_count": null,
   "id": "8bf9e2ce",
   "metadata": {},
   "outputs": [],
   "source": []
  },
  {
   "cell_type": "code",
   "execution_count": null,
   "id": "b71d8d0c",
   "metadata": {},
   "outputs": [],
   "source": []
  },
  {
   "cell_type": "code",
   "execution_count": null,
   "id": "f2b5a676",
   "metadata": {},
   "outputs": [],
   "source": []
  },
  {
   "cell_type": "code",
   "execution_count": null,
   "id": "3ecfc634",
   "metadata": {},
   "outputs": [],
   "source": []
  },
  {
   "cell_type": "code",
   "execution_count": null,
   "id": "4931c68a",
   "metadata": {},
   "outputs": [],
   "source": []
  },
  {
   "cell_type": "code",
   "execution_count": null,
   "id": "fde80ec7",
   "metadata": {},
   "outputs": [],
   "source": []
  },
  {
   "cell_type": "code",
   "execution_count": null,
   "id": "49ac2c6e",
   "metadata": {},
   "outputs": [],
   "source": []
  },
  {
   "cell_type": "code",
   "execution_count": null,
   "id": "d80ee2e3",
   "metadata": {},
   "outputs": [],
   "source": []
  },
  {
   "cell_type": "code",
   "execution_count": null,
   "id": "b08f1ed2",
   "metadata": {},
   "outputs": [],
   "source": []
  },
  {
   "cell_type": "code",
   "execution_count": null,
   "id": "84a11d5b",
   "metadata": {},
   "outputs": [],
   "source": []
  },
  {
   "cell_type": "code",
   "execution_count": null,
   "id": "08c709b4",
   "metadata": {},
   "outputs": [],
   "source": []
  },
  {
   "cell_type": "code",
   "execution_count": null,
   "id": "4731f412",
   "metadata": {},
   "outputs": [],
   "source": []
  },
  {
   "cell_type": "code",
   "execution_count": null,
   "id": "5d9d35e3",
   "metadata": {},
   "outputs": [],
   "source": []
  },
  {
   "cell_type": "code",
   "execution_count": null,
   "id": "60fdfa45",
   "metadata": {},
   "outputs": [],
   "source": []
  },
  {
   "cell_type": "code",
   "execution_count": null,
   "id": "824f6e9d",
   "metadata": {},
   "outputs": [],
   "source": []
  },
  {
   "cell_type": "code",
   "execution_count": null,
   "id": "4c3f945c",
   "metadata": {},
   "outputs": [],
   "source": []
  },
  {
   "cell_type": "code",
   "execution_count": null,
   "id": "3240a129",
   "metadata": {},
   "outputs": [],
   "source": []
  },
  {
   "cell_type": "code",
   "execution_count": null,
   "id": "65d764de",
   "metadata": {},
   "outputs": [],
   "source": []
  },
  {
   "cell_type": "code",
   "execution_count": null,
   "id": "8894ffaf",
   "metadata": {},
   "outputs": [],
   "source": []
  },
  {
   "cell_type": "code",
   "execution_count": null,
   "id": "51d73355",
   "metadata": {},
   "outputs": [],
   "source": []
  },
  {
   "cell_type": "code",
   "execution_count": null,
   "id": "b046ccc1",
   "metadata": {},
   "outputs": [],
   "source": []
  },
  {
   "cell_type": "code",
   "execution_count": null,
   "id": "ebbadf61",
   "metadata": {},
   "outputs": [],
   "source": []
  },
  {
   "cell_type": "code",
   "execution_count": null,
   "id": "bc2c8b88",
   "metadata": {},
   "outputs": [],
   "source": []
  },
  {
   "cell_type": "code",
   "execution_count": null,
   "id": "c38b14ce",
   "metadata": {},
   "outputs": [],
   "source": []
  },
  {
   "cell_type": "code",
   "execution_count": null,
   "id": "64cb62df",
   "metadata": {},
   "outputs": [],
   "source": []
  },
  {
   "cell_type": "code",
   "execution_count": null,
   "id": "5b9a669a",
   "metadata": {},
   "outputs": [],
   "source": []
  },
  {
   "cell_type": "code",
   "execution_count": null,
   "id": "2cedda86",
   "metadata": {},
   "outputs": [],
   "source": []
  },
  {
   "cell_type": "code",
   "execution_count": null,
   "id": "9cd20310",
   "metadata": {},
   "outputs": [],
   "source": []
  },
  {
   "cell_type": "code",
   "execution_count": null,
   "id": "9dda94d8",
   "metadata": {},
   "outputs": [],
   "source": []
  },
  {
   "cell_type": "code",
   "execution_count": null,
   "id": "590245a1",
   "metadata": {},
   "outputs": [],
   "source": []
  },
  {
   "cell_type": "code",
   "execution_count": null,
   "id": "b6ac0c79",
   "metadata": {},
   "outputs": [],
   "source": []
  },
  {
   "cell_type": "code",
   "execution_count": null,
   "id": "10d088cb",
   "metadata": {},
   "outputs": [],
   "source": []
  },
  {
   "cell_type": "code",
   "execution_count": null,
   "id": "8e44c2b3",
   "metadata": {},
   "outputs": [],
   "source": []
  },
  {
   "cell_type": "code",
   "execution_count": null,
   "id": "7a3aa6f3",
   "metadata": {},
   "outputs": [],
   "source": []
  },
  {
   "cell_type": "code",
   "execution_count": null,
   "id": "85d08f51",
   "metadata": {},
   "outputs": [],
   "source": []
  },
  {
   "cell_type": "code",
   "execution_count": null,
   "id": "12132bd6",
   "metadata": {},
   "outputs": [],
   "source": []
  },
  {
   "cell_type": "code",
   "execution_count": null,
   "id": "b80a1a0a",
   "metadata": {},
   "outputs": [],
   "source": []
  },
  {
   "cell_type": "code",
   "execution_count": null,
   "id": "8c429fef",
   "metadata": {},
   "outputs": [],
   "source": []
  },
  {
   "cell_type": "code",
   "execution_count": null,
   "id": "738e7f6b",
   "metadata": {},
   "outputs": [],
   "source": []
  },
  {
   "cell_type": "code",
   "execution_count": null,
   "id": "1f51d02d",
   "metadata": {},
   "outputs": [],
   "source": []
  },
  {
   "cell_type": "code",
   "execution_count": null,
   "id": "addc4253",
   "metadata": {},
   "outputs": [],
   "source": []
  },
  {
   "cell_type": "code",
   "execution_count": null,
   "id": "9f3e11f7",
   "metadata": {},
   "outputs": [],
   "source": []
  },
  {
   "cell_type": "code",
   "execution_count": null,
   "id": "bf7a243c",
   "metadata": {},
   "outputs": [],
   "source": []
  },
  {
   "cell_type": "code",
   "execution_count": null,
   "id": "a149549a",
   "metadata": {},
   "outputs": [],
   "source": []
  },
  {
   "cell_type": "code",
   "execution_count": null,
   "id": "ec314ab6",
   "metadata": {},
   "outputs": [],
   "source": []
  },
  {
   "cell_type": "code",
   "execution_count": null,
   "id": "a1296d05",
   "metadata": {},
   "outputs": [],
   "source": []
  },
  {
   "cell_type": "code",
   "execution_count": null,
   "id": "d7d02d79",
   "metadata": {},
   "outputs": [],
   "source": []
  },
  {
   "cell_type": "code",
   "execution_count": null,
   "id": "35356333",
   "metadata": {},
   "outputs": [],
   "source": []
  },
  {
   "cell_type": "code",
   "execution_count": null,
   "id": "6a94d304",
   "metadata": {},
   "outputs": [],
   "source": []
  },
  {
   "cell_type": "code",
   "execution_count": null,
   "id": "0ff03e1f",
   "metadata": {},
   "outputs": [],
   "source": []
  },
  {
   "cell_type": "code",
   "execution_count": null,
   "id": "63c2f320",
   "metadata": {},
   "outputs": [],
   "source": []
  },
  {
   "cell_type": "code",
   "execution_count": null,
   "id": "51a8fbdb",
   "metadata": {},
   "outputs": [],
   "source": []
  },
  {
   "cell_type": "code",
   "execution_count": null,
   "id": "2509b41e",
   "metadata": {},
   "outputs": [],
   "source": []
  },
  {
   "cell_type": "code",
   "execution_count": null,
   "id": "cbd1564c",
   "metadata": {},
   "outputs": [],
   "source": []
  },
  {
   "cell_type": "code",
   "execution_count": null,
   "id": "b48aae9d",
   "metadata": {},
   "outputs": [],
   "source": []
  },
  {
   "cell_type": "code",
   "execution_count": null,
   "id": "d38c5767",
   "metadata": {},
   "outputs": [],
   "source": []
  },
  {
   "cell_type": "code",
   "execution_count": null,
   "id": "3e5a7bd0",
   "metadata": {},
   "outputs": [],
   "source": []
  },
  {
   "cell_type": "code",
   "execution_count": null,
   "id": "f044c946",
   "metadata": {},
   "outputs": [],
   "source": []
  },
  {
   "cell_type": "code",
   "execution_count": 44,
   "id": "9e7afdc6",
   "metadata": {},
   "outputs": [],
   "source": []
  },
  {
   "cell_type": "code",
   "execution_count": null,
   "id": "7c17b02a",
   "metadata": {},
   "outputs": [],
   "source": []
  },
  {
   "cell_type": "code",
   "execution_count": null,
   "id": "526be50f",
   "metadata": {},
   "outputs": [],
   "source": []
  },
  {
   "cell_type": "code",
   "execution_count": null,
   "id": "f06fb2ff",
   "metadata": {},
   "outputs": [],
   "source": []
  },
  {
   "cell_type": "code",
   "execution_count": null,
   "id": "217fc7db",
   "metadata": {},
   "outputs": [],
   "source": []
  },
  {
   "cell_type": "code",
   "execution_count": null,
   "id": "486a2300",
   "metadata": {},
   "outputs": [],
   "source": []
  },
  {
   "cell_type": "code",
   "execution_count": null,
   "id": "44694298",
   "metadata": {},
   "outputs": [],
   "source": []
  },
  {
   "cell_type": "code",
   "execution_count": null,
   "id": "3fe3b206",
   "metadata": {},
   "outputs": [],
   "source": []
  },
  {
   "cell_type": "code",
   "execution_count": null,
   "id": "329b41e5",
   "metadata": {},
   "outputs": [],
   "source": []
  },
  {
   "cell_type": "code",
   "execution_count": null,
   "id": "5dcf9556",
   "metadata": {},
   "outputs": [],
   "source": []
  },
  {
   "cell_type": "code",
   "execution_count": null,
   "id": "2ff92194",
   "metadata": {},
   "outputs": [],
   "source": []
  },
  {
   "cell_type": "code",
   "execution_count": null,
   "id": "25db8450",
   "metadata": {},
   "outputs": [],
   "source": []
  },
  {
   "cell_type": "code",
   "execution_count": null,
   "id": "006cd86d",
   "metadata": {},
   "outputs": [],
   "source": []
  },
  {
   "cell_type": "code",
   "execution_count": null,
   "id": "bf99694b",
   "metadata": {},
   "outputs": [],
   "source": []
  },
  {
   "cell_type": "code",
   "execution_count": null,
   "id": "513a4cc7",
   "metadata": {},
   "outputs": [],
   "source": []
  },
  {
   "cell_type": "code",
   "execution_count": null,
   "id": "9140bdbb",
   "metadata": {},
   "outputs": [],
   "source": []
  },
  {
   "cell_type": "code",
   "execution_count": null,
   "id": "fe99b505",
   "metadata": {},
   "outputs": [],
   "source": []
  },
  {
   "cell_type": "code",
   "execution_count": null,
   "id": "3b0aaafe",
   "metadata": {},
   "outputs": [],
   "source": []
  },
  {
   "cell_type": "code",
   "execution_count": null,
   "id": "b39c4dfd",
   "metadata": {},
   "outputs": [],
   "source": []
  },
  {
   "cell_type": "code",
   "execution_count": null,
   "id": "8459878d",
   "metadata": {},
   "outputs": [],
   "source": []
  }
 ],
 "metadata": {
  "kernelspec": {
   "display_name": "Python 3 (ipykernel)",
   "language": "python",
   "name": "python3"
  },
  "language_info": {
   "codemirror_mode": {
    "name": "ipython",
    "version": 3
   },
   "file_extension": ".py",
   "mimetype": "text/x-python",
   "name": "python",
   "nbconvert_exporter": "python",
   "pygments_lexer": "ipython3",
   "version": "3.9.12"
  }
 },
 "nbformat": 4,
 "nbformat_minor": 5
}
